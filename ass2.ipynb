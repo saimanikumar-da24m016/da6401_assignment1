{
 "cells": [
  {
   "cell_type": "code",
   "execution_count": 2,
   "metadata": {},
   "outputs": [
    {
     "name": "stdout",
     "output_type": "stream",
     "text": [
      "Backprop\n"
     ]
    }
   ],
   "source": [
    "print(\"Backprop\")"
   ]
  },
  {
   "cell_type": "code",
   "execution_count": 2,
   "metadata": {},
   "outputs": [
    {
     "name": "stderr",
     "output_type": "stream",
     "text": [
      "Failed to detect the name of this notebook, you can set it manually with the WANDB_NOTEBOOK_NAME environment variable to enable code saving.\n",
      "\u001b[34m\u001b[1mwandb\u001b[0m: Currently logged in as: \u001b[33mda24m016\u001b[0m (\u001b[33mda24m016-indian-institute-of-technology-madras\u001b[0m). Use \u001b[1m`wandb login --relogin`\u001b[0m to force relogin\n"
     ]
    },
    {
     "data": {
      "text/plain": [
       "True"
      ]
     },
     "execution_count": 2,
     "metadata": {},
     "output_type": "execute_result"
    }
   ],
   "source": [
    "import wandb\n",
    "wandb.login()  # This will prompt you to enter your API key\n"
   ]
  },
  {
   "cell_type": "code",
   "execution_count": 3,
   "metadata": {},
   "outputs": [
    {
     "data": {
      "text/html": [
       "Finishing last run (ID:brwseq76) before initializing another..."
      ],
      "text/plain": [
       "<IPython.core.display.HTML object>"
      ]
     },
     "metadata": {},
     "output_type": "display_data"
    },
    {
     "data": {
      "application/vnd.jupyter.widget-view+json": {
       "model_id": "0861dfb1ccb84a54bbe15ecb510a28d4",
       "version_major": 2,
       "version_minor": 0
      },
      "text/plain": [
       "VBox(children=(Label(value='0.001 MB of 0.012 MB uploaded\\r'), FloatProgress(value=0.12213677333994873, max=1.…"
      ]
     },
     "metadata": {},
     "output_type": "display_data"
    },
    {
     "data": {
      "text/html": [
       " View run <strong style=\"color:#cdcd00\">fancy-dust-1</strong> at: <a href='https://wandb.ai/da24m016-indian-institute-of-technology-madras/DL_Assignment_01/runs/brwseq76' target=\"_blank\">https://wandb.ai/da24m016-indian-institute-of-technology-madras/DL_Assignment_01/runs/brwseq76</a><br/>Synced 4 W&B file(s), 0 media file(s), 0 artifact file(s) and 0 other file(s)"
      ],
      "text/plain": [
       "<IPython.core.display.HTML object>"
      ]
     },
     "metadata": {},
     "output_type": "display_data"
    },
    {
     "data": {
      "text/html": [
       "Find logs at: <code>.\\wandb\\run-20250308_013747-brwseq76\\logs</code>"
      ],
      "text/plain": [
       "<IPython.core.display.HTML object>"
      ]
     },
     "metadata": {},
     "output_type": "display_data"
    },
    {
     "data": {
      "text/html": [
       "Successfully finished last run (ID:brwseq76). Initializing new run:<br/>"
      ],
      "text/plain": [
       "<IPython.core.display.HTML object>"
      ]
     },
     "metadata": {},
     "output_type": "display_data"
    },
    {
     "data": {
      "application/vnd.jupyter.widget-view+json": {
       "model_id": "54f74676710d4c6db9b232a63d87c2a9",
       "version_major": 2,
       "version_minor": 0
      },
      "text/plain": [
       "VBox(children=(Label(value='Waiting for wandb.init()...\\r'), FloatProgress(value=0.011277777777932999, max=1.0…"
      ]
     },
     "metadata": {},
     "output_type": "display_data"
    },
    {
     "data": {
      "text/html": [
       "wandb version 0.19.8 is available!  To upgrade, please run:\n",
       " $ pip install wandb --upgrade"
      ],
      "text/plain": [
       "<IPython.core.display.HTML object>"
      ]
     },
     "metadata": {},
     "output_type": "display_data"
    },
    {
     "data": {
      "text/html": [
       "Tracking run with wandb version 0.16.1"
      ],
      "text/plain": [
       "<IPython.core.display.HTML object>"
      ]
     },
     "metadata": {},
     "output_type": "display_data"
    },
    {
     "data": {
      "text/html": [
       "Run data is saved locally in <code>c:\\Users\\D. Sai Mani Kumar\\Downloads\\DL\\da6401_assignment1\\wandb\\run-20250308_013829-53z5qv1w</code>"
      ],
      "text/plain": [
       "<IPython.core.display.HTML object>"
      ]
     },
     "metadata": {},
     "output_type": "display_data"
    },
    {
     "data": {
      "text/html": [
       "Syncing run <strong><a href='https://wandb.ai/da24m016-indian-institute-of-technology-madras/my-awesome-project/runs/53z5qv1w' target=\"_blank\">curious-river-3</a></strong> to <a href='https://wandb.ai/da24m016-indian-institute-of-technology-madras/my-awesome-project' target=\"_blank\">Weights & Biases</a> (<a href='https://wandb.me/run' target=\"_blank\">docs</a>)<br/>"
      ],
      "text/plain": [
       "<IPython.core.display.HTML object>"
      ]
     },
     "metadata": {},
     "output_type": "display_data"
    },
    {
     "data": {
      "text/html": [
       " View project at <a href='https://wandb.ai/da24m016-indian-institute-of-technology-madras/my-awesome-project' target=\"_blank\">https://wandb.ai/da24m016-indian-institute-of-technology-madras/my-awesome-project</a>"
      ],
      "text/plain": [
       "<IPython.core.display.HTML object>"
      ]
     },
     "metadata": {},
     "output_type": "display_data"
    },
    {
     "data": {
      "text/html": [
       " View run at <a href='https://wandb.ai/da24m016-indian-institute-of-technology-madras/my-awesome-project/runs/53z5qv1w' target=\"_blank\">https://wandb.ai/da24m016-indian-institute-of-technology-madras/my-awesome-project/runs/53z5qv1w</a>"
      ],
      "text/plain": [
       "<IPython.core.display.HTML object>"
      ]
     },
     "metadata": {},
     "output_type": "display_data"
    },
    {
     "data": {
      "text/html": [
       "<button onClick=\"this.nextSibling.style.display='block';this.style.display='none';\">Display W&B run</button><iframe src='https://wandb.ai/da24m016-indian-institute-of-technology-madras/my-awesome-project/runs/53z5qv1w?jupyter=true' style='border:none;width:100%;height:420px;display:none;'></iframe>"
      ],
      "text/plain": [
       "<wandb.sdk.wandb_run.Run at 0x20c40800310>"
      ]
     },
     "execution_count": 3,
     "metadata": {},
     "output_type": "execute_result"
    }
   ],
   "source": [
    "import wandb\n",
    "\n",
    "# Initialize a wandb run\n",
    "wandb.init(project=\"my-awesome-project\")\n"
   ]
  },
  {
   "cell_type": "code",
   "execution_count": 3,
   "metadata": {},
   "outputs": [],
   "source": [
    "# Cell 2: Define Model Functions and NeuralNetwork Class\n",
    "import numpy as np\n",
    "\n",
    "# Activation functions and their derivatives\n",
    "def sigmoid(x):\n",
    "    return 1 / (1 + np.exp(-x))\n",
    "\n",
    "def dsigmoid(x):\n",
    "    s = sigmoid(x)\n",
    "    return s * (1 - s)\n",
    "\n",
    "def tanh(x):\n",
    "    return np.tanh(x)\n",
    "\n",
    "def dtanh(x):\n",
    "    return 1 - np.tanh(x)**2\n",
    "\n",
    "def relu(x):\n",
    "    return np.maximum(0, x)\n",
    "\n",
    "def drelu(x):\n",
    "    return (x > 0).astype(float)\n",
    "\n",
    "def identity(x):\n",
    "    return x\n",
    "\n",
    "def didentity(x):\n",
    "    return np.ones_like(x)\n",
    "\n",
    "def softmax(x):\n",
    "    exp_shifted = np.exp(x - np.max(x, axis=1, keepdims=True))\n",
    "    return exp_shifted / np.sum(exp_shifted, axis=1, keepdims=True)\n",
    "\n",
    "# Loss functions\n",
    "def cross_entropy_loss(y_pred, y_true):\n",
    "    eps = 1e-12\n",
    "    y_pred = np.clip(y_pred, eps, 1 - eps)\n",
    "    loss = -np.sum(y_true * np.log(y_pred)) / y_pred.shape[0]\n",
    "    return loss\n",
    "\n",
    "def mse_loss(y_pred, y_true):\n",
    "    loss = np.mean(0.5 * np.square(y_true - y_pred))\n",
    "    return loss\n",
    "\n",
    "# Neural Network Class\n",
    "class NeuralNetwork:\n",
    "    def __init__(self, input_size, hidden_sizes, output_size, activation, weight_init, loss_func):\n",
    "        # Select activation function\n",
    "        self.activation_str = activation.lower()\n",
    "        if self.activation_str == 'sigmoid':\n",
    "            self.activation = sigmoid\n",
    "            self.activation_deriv = dsigmoid\n",
    "        elif self.activation_str == 'tanh':\n",
    "            self.activation = tanh\n",
    "            self.activation_deriv = dtanh\n",
    "        elif self.activation_str == 'relu':\n",
    "            self.activation = relu\n",
    "            self.activation_deriv = drelu\n",
    "        elif self.activation_str == 'identity':\n",
    "            self.activation = identity\n",
    "            self.activation_deriv = didentity\n",
    "        else:\n",
    "            raise ValueError(\"Unknown activation function.\")\n",
    "        \n",
    "        # Select loss function\n",
    "        self.loss_func_name = loss_func.lower()\n",
    "        if self.loss_func_name == 'cross_entropy':\n",
    "            self.loss_func = cross_entropy_loss\n",
    "        elif self.loss_func_name == 'mean_squared_error':\n",
    "            self.loss_func = mse_loss\n",
    "        else:\n",
    "            raise ValueError(\"Unknown loss function.\")\n",
    "        \n",
    "        # Define layer sizes: input -> hidden layers -> output\n",
    "        self.layer_sizes = [input_size] + hidden_sizes + [output_size]\n",
    "        self.num_layers = len(self.layer_sizes) - 1\n",
    "        \n",
    "        # Initialize weights and biases\n",
    "        self.params = {}\n",
    "        for i in range(1, len(self.layer_sizes)):\n",
    "            if weight_init.lower() == 'xavier':\n",
    "                limit = np.sqrt(6 / (self.layer_sizes[i-1] + self.layer_sizes[i]))\n",
    "                self.params['W' + str(i)] = np.random.uniform(-limit, limit, (self.layer_sizes[i-1], self.layer_sizes[i]))\n",
    "            else:  # 'random'\n",
    "                self.params['W' + str(i)] = np.random.randn(self.layer_sizes[i-1], self.layer_sizes[i]) * 0.01\n",
    "            self.params['b' + str(i)] = np.zeros((1, self.layer_sizes[i]))\n",
    "    \n",
    "    def forward(self, X):\n",
    "        cache = {}\n",
    "        A = X\n",
    "        cache['A0'] = A\n",
    "        # Hidden layers\n",
    "        for i in range(1, self.num_layers):\n",
    "            Z = np.dot(A, self.params['W' + str(i)]) + self.params['b' + str(i)]\n",
    "            cache['Z' + str(i)] = Z\n",
    "            A = self.activation(Z)\n",
    "            cache['A' + str(i)] = A\n",
    "        # Output layer with softmax\n",
    "        Z = np.dot(A, self.params['W' + str(self.num_layers)]) + self.params['b' + str(self.num_layers)]\n",
    "        cache['Z' + str(self.num_layers)] = Z\n",
    "        A = softmax(Z)\n",
    "        cache['A' + str(self.num_layers)] = A\n",
    "        return A, cache\n",
    "    \n",
    "    def compute_loss(self, y_pred, y_true):\n",
    "        return self.loss_func(y_pred, y_true)\n",
    "    \n",
    "    def backward(self, X, y_true, cache):\n",
    "        grads = {}\n",
    "        m = X.shape[0]\n",
    "        A_final = cache['A' + str(self.num_layers)]\n",
    "        if self.loss_func_name == 'cross_entropy':\n",
    "            dZ = (A_final - y_true) / m\n",
    "        else:\n",
    "            dZ = (A_final - y_true) / m\n",
    "        \n",
    "        # Output layer gradients\n",
    "        A_prev = cache['A' + str(self.num_layers - 1)]\n",
    "        grads['dW' + str(self.num_layers)] = np.dot(A_prev.T, dZ)\n",
    "        grads['db' + str(self.num_layers)] = np.sum(dZ, axis=0, keepdims=True)\n",
    "        \n",
    "        # Backpropagation through hidden layers\n",
    "        for i in range(self.num_layers - 1, 0, -1):\n",
    "            dA = np.dot(dZ, self.params['W' + str(i + 1)].T)\n",
    "            Z = cache['Z' + str(i)]\n",
    "            dZ = dA * self.activation_deriv(Z)\n",
    "            A_prev = cache['A' + str(i - 1)]\n",
    "            grads['dW' + str(i)] = np.dot(A_prev.T, dZ)\n",
    "            grads['db' + str(i)] = np.sum(dZ, axis=0, keepdims=True)\n",
    "        \n",
    "        return grads\n"
   ]
  },
  {
   "cell_type": "code",
   "execution_count": 5,
   "metadata": {},
   "outputs": [],
   "source": [
    "# Cell 3: Define the Optimizer Class\n",
    "class Optimizer:\n",
    "    def __init__(self, params, optimizer_name, learning_rate, momentum=0.5,\n",
    "                 beta=0.5, beta1=0.5, beta2=0.5, epsilon=1e-6, weight_decay=0.0):\n",
    "        self.optimizer_name = optimizer_name.lower()\n",
    "        self.learning_rate = learning_rate\n",
    "        self.momentum = momentum\n",
    "        self.beta = beta\n",
    "        self.beta1 = beta1\n",
    "        self.beta2 = beta2\n",
    "        self.epsilon = epsilon\n",
    "        self.weight_decay = weight_decay\n",
    "        self.t = 0  # timestep for Adam/Nadam\n",
    "        \n",
    "        # Initialize optimizer states\n",
    "        self.v = {}  # For momentum or Adam's first moment\n",
    "        self.s = {}  # For RMSProp or Adam's second moment\n",
    "        for key, val in params.items():\n",
    "            self.v[key] = np.zeros_like(val)\n",
    "            self.s[key] = np.zeros_like(val)\n",
    "        self.param_keys = list(params.keys())\n",
    "    \n",
    "    def update(self, params, grads):\n",
    "        self.t += 1\n",
    "        for key in self.param_keys:\n",
    "            grad = grads['d' + key]\n",
    "            # Apply weight decay to weights only\n",
    "            if key.startswith('W'):\n",
    "                grad += self.weight_decay * params[key]\n",
    "            if self.optimizer_name == 'sgd':\n",
    "                params[key] -= self.learning_rate * grad\n",
    "            elif self.optimizer_name == 'momentum':\n",
    "                self.v[key] = self.momentum * self.v[key] - self.learning_rate * grad\n",
    "                params[key] += self.v[key]\n",
    "            elif self.optimizer_name in ['nag', 'nesterov']:\n",
    "                v_prev = self.v[key].copy()\n",
    "                self.v[key] = self.momentum * self.v[key] - self.learning_rate * grad\n",
    "                params[key] += -self.momentum * v_prev + (1 + self.momentum) * self.v[key]\n",
    "            elif self.optimizer_name == 'rmsprop':\n",
    "                self.s[key] = self.beta * self.s[key] + (1 - self.beta) * (grad ** 2)\n",
    "                params[key] -= self.learning_rate * grad / (np.sqrt(self.s[key]) + self.epsilon)\n",
    "            elif self.optimizer_name == 'adam':\n",
    "                self.v[key] = self.beta1 * self.v[key] + (1 - self.beta1) * grad\n",
    "                self.s[key] = self.beta2 * self.s[key] + (1 - self.beta2) * (grad ** 2)\n",
    "                v_corr = self.v[key] / (1 - self.beta1 ** self.t)\n",
    "                s_corr = self.s[key] / (1 - self.beta2 ** self.t)\n",
    "                params[key] -= self.learning_rate * v_corr / (np.sqrt(s_corr) + self.epsilon)\n",
    "            elif self.optimizer_name == 'nadam':\n",
    "                self.v[key] = self.beta1 * self.v[key] + (1 - self.beta1) * grad\n",
    "                self.s[key] = self.beta2 * self.s[key] + (1 - self.beta2) * (grad ** 2)\n",
    "                v_corr = self.v[key] / (1 - self.beta1 ** self.t)\n",
    "                s_corr = self.s[key] / (1 - self.beta2 ** self.t)\n",
    "                params[key] -= self.learning_rate * (self.beta1 * v_corr + (1 - self.beta1) * grad) / (np.sqrt(s_corr) + self.epsilon)\n",
    "            else:\n",
    "                raise ValueError(\"Unknown optimizer: \" + self.optimizer_name)\n"
   ]
  },
  {
   "cell_type": "code",
   "execution_count": 6,
   "metadata": {},
   "outputs": [],
   "source": [
    "# Cell 4: Utility Functions\n",
    "import matplotlib.pyplot as plt\n",
    "import seaborn as sns\n",
    "from sklearn.metrics import confusion_matrix\n",
    "from keras.datasets import fashion_mnist\n",
    "\n",
    "def load_data(dataset=\"fashion_mnist\"):\n",
    "    if dataset == \"fashion_mnist\":\n",
    "        (X_train, y_train), (X_test, y_test) = fashion_mnist.load_data()\n",
    "    elif dataset == \"mnist\":\n",
    "        from keras.datasets import mnist\n",
    "        (X_train, y_train), (X_test, y_test) = mnist.load_data()\n",
    "    else:\n",
    "        raise ValueError(\"Unknown dataset.\")\n",
    "    \n",
    "    # Normalize and reshape data\n",
    "    X_train = X_train.reshape(X_train.shape[0], -1) / 255.0\n",
    "    X_test = X_test.reshape(X_test.shape[0], -1) / 255.0\n",
    "    num_classes = 10\n",
    "    y_train = np.eye(num_classes)[y_train]\n",
    "    y_test = np.eye(num_classes)[y_test]\n",
    "    # Split 10% of training data for validation\n",
    "    split_index = int(0.9 * X_train.shape[0])\n",
    "    X_val = X_train[split_index:]\n",
    "    y_val = y_train[split_index:]\n",
    "    X_train = X_train[:split_index]\n",
    "    y_train = y_train[:split_index]\n",
    "    return X_train, y_train, X_val, y_val, X_test, y_test\n",
    "\n",
    "def train_model(network, optimizer, X_train, y_train, X_val, y_val, epochs, batch_size):\n",
    "    num_samples = X_train.shape[0]\n",
    "    steps_per_epoch = num_samples // batch_size\n",
    "    for epoch in range(epochs):\n",
    "        # Shuffle training data\n",
    "        indices = np.arange(num_samples)\n",
    "        np.random.shuffle(indices)\n",
    "        X_train = X_train[indices]\n",
    "        y_train = y_train[indices]\n",
    "        epoch_loss = 0\n",
    "        epoch_acc = 0\n",
    "        \n",
    "        for step in range(steps_per_epoch):\n",
    "            start = step * batch_size\n",
    "            end = start + batch_size\n",
    "            X_batch = X_train[start:end]\n",
    "            y_batch = y_train[start:end]\n",
    "            # Forward pass\n",
    "            y_pred, cache = network.forward(X_batch)\n",
    "            loss = network.compute_loss(y_pred, y_batch)\n",
    "            epoch_loss += loss\n",
    "            # Accuracy calculation\n",
    "            predictions = np.argmax(y_pred, axis=1)\n",
    "            true_labels = np.argmax(y_batch, axis=1)\n",
    "            acc = np.mean(predictions == true_labels)\n",
    "            epoch_acc += acc\n",
    "            # Backward pass and update\n",
    "            grads = network.backward(X_batch, y_batch, cache)\n",
    "            optimizer.update(network.params, grads)\n",
    "        \n",
    "        epoch_loss /= steps_per_epoch\n",
    "        epoch_acc /= steps_per_epoch\n",
    "        \n",
    "        # Evaluate on validation data\n",
    "        y_val_pred, _ = network.forward(X_val)\n",
    "        val_loss = network.compute_loss(y_val_pred, y_val)\n",
    "        predictions_val = np.argmax(y_val_pred, axis=1)\n",
    "        true_labels_val = np.argmax(y_val, axis=1)\n",
    "        val_acc = np.mean(predictions_val == true_labels_val)\n",
    "        \n",
    "        print(f\"Epoch {epoch+1}/{epochs}: Loss={epoch_loss:.4f}, Acc={epoch_acc:.4f}, Val Loss={val_loss:.4f}, Val Acc={val_acc:.4f}\")\n",
    "        wandb.log({\n",
    "            \"epoch\": epoch + 1,\n",
    "            \"loss\": epoch_loss,\n",
    "            \"accuracy\": epoch_acc,\n",
    "            \"val_loss\": val_loss,\n",
    "            \"val_accuracy\": val_acc\n",
    "        })\n",
    "    return network\n",
    "\n",
    "def evaluate_model(network, X_test, y_test):\n",
    "    y_pred, _ = network.forward(X_test)\n",
    "    predictions = np.argmax(y_pred, axis=1)\n",
    "    true_labels = np.argmax(y_test, axis=1)\n",
    "    test_acc = np.mean(predictions == true_labels)\n",
    "    print(f\"Test Accuracy: {test_acc:.4f}\")\n",
    "    return predictions, true_labels, test_acc\n",
    "\n",
    "def plot_conf_matrix(true_labels, predictions, classes, title=\"Confusion Matrix\"):\n",
    "    cm = confusion_matrix(true_labels, predictions)\n",
    "    plt.figure(figsize=(8,6))\n",
    "    sns.heatmap(cm, annot=True, fmt=\"d\", cmap=\"Blues\", xticklabels=classes, yticklabels=classes)\n",
    "    plt.xlabel(\"Predicted\")\n",
    "    plt.ylabel(\"True\")\n",
    "    plt.title(title)\n",
    "    plt.tight_layout()\n",
    "    plt.show()\n"
   ]
  },
  {
   "cell_type": "code",
   "execution_count": 13,
   "metadata": {},
   "outputs": [
    {
     "data": {
      "text/html": [
       "Changes to your `wandb` environment variables will be ignored because your `wandb` session has already started. For more information on how to modify your settings with `wandb.init()` arguments, please refer to <a href='https://wandb.me/wandb-init' target=\"_blank\">the W&B docs</a>."
      ],
      "text/plain": [
       "<IPython.core.display.HTML object>"
      ]
     },
     "metadata": {},
     "output_type": "display_data"
    },
    {
     "data": {
      "text/html": [
       "Tracking run with wandb version 0.16.1"
      ],
      "text/plain": [
       "<IPython.core.display.HTML object>"
      ]
     },
     "metadata": {},
     "output_type": "display_data"
    },
    {
     "data": {
      "text/html": [
       "Run data is saved locally in <code>c:\\Users\\D. Sai Mani Kumar\\Downloads\\DL\\da6401_assignment1\\wandb\\run-20250308_032347-fzca4b8k</code>"
      ],
      "text/plain": [
       "<IPython.core.display.HTML object>"
      ]
     },
     "metadata": {},
     "output_type": "display_data"
    },
    {
     "data": {
      "text/html": [
       "Syncing run <strong><a href='https://wandb.ai/da24m016-indian-institute-of-technology-madras/DL_Assignment_01/runs/fzca4b8k' target=\"_blank\">wobbly-forest-2</a></strong> to <a href='https://wandb.ai/da24m016-indian-institute-of-technology-madras/DL_Assignment_01' target=\"_blank\">Weights & Biases</a> (<a href='https://wandb.me/run' target=\"_blank\">docs</a>)<br/>"
      ],
      "text/plain": [
       "<IPython.core.display.HTML object>"
      ]
     },
     "metadata": {},
     "output_type": "display_data"
    },
    {
     "data": {
      "text/html": [
       " View project at <a href='https://wandb.ai/da24m016-indian-institute-of-technology-madras/DL_Assignment_01' target=\"_blank\">https://wandb.ai/da24m016-indian-institute-of-technology-madras/DL_Assignment_01</a>"
      ],
      "text/plain": [
       "<IPython.core.display.HTML object>"
      ]
     },
     "metadata": {},
     "output_type": "display_data"
    },
    {
     "data": {
      "text/html": [
       " View run at <a href='https://wandb.ai/da24m016-indian-institute-of-technology-madras/DL_Assignment_01/runs/fzca4b8k' target=\"_blank\">https://wandb.ai/da24m016-indian-institute-of-technology-madras/DL_Assignment_01/runs/fzca4b8k</a>"
      ],
      "text/plain": [
       "<IPython.core.display.HTML object>"
      ]
     },
     "metadata": {},
     "output_type": "display_data"
    },
    {
     "name": "stdout",
     "output_type": "stream",
     "text": [
      "Downloading data from https://storage.googleapis.com/tensorflow/tf-keras-datasets/train-labels-idx1-ubyte.gz\n",
      "32768/29515 [=================================] - 0s 0us/step\n",
      "40960/29515 [=========================================] - 0s 0us/step\n",
      "Downloading data from https://storage.googleapis.com/tensorflow/tf-keras-datasets/train-images-idx3-ubyte.gz\n",
      "26427392/26421880 [==============================] - 4s 0us/step\n",
      "26435584/26421880 [==============================] - 4s 0us/step\n",
      "Downloading data from https://storage.googleapis.com/tensorflow/tf-keras-datasets/t10k-labels-idx1-ubyte.gz\n",
      "16384/5148 [===============================================================================================] - 0s 0s/step\n",
      "Downloading data from https://storage.googleapis.com/tensorflow/tf-keras-datasets/t10k-images-idx3-ubyte.gz\n",
      "4423680/4422102 [==============================] - 1s 0us/step\n",
      "4431872/4422102 [==============================] - 1s 0us/step\n",
      "Epoch 1/5: Loss=0.5225, Acc=0.8129, Val Loss=0.4337, Val Acc=0.8410\n",
      "Epoch 2/5: Loss=0.3862, Acc=0.8597, Val Loss=0.3725, Val Acc=0.8660\n",
      "Epoch 3/5: Loss=0.3447, Acc=0.8743, Val Loss=0.3380, Val Acc=0.8752\n",
      "Epoch 4/5: Loss=0.3256, Acc=0.8800, Val Loss=0.3471, Val Acc=0.8682\n",
      "Epoch 5/5: Loss=0.3100, Acc=0.8853, Val Loss=0.3504, Val Acc=0.8748\n",
      "Test Accuracy: 0.8663\n"
     ]
    },
    {
     "data": {
      "image/png": "[encoded data removed]",
      "text/plain": [
       "<Figure size 576x432 with 2 Axes>"
      ]
     },
     "metadata": {
      "needs_background": "light"
     },
     "output_type": "display_data"
    },
    {
     "name": "stderr",
     "output_type": "stream",
     "text": [
      "\u001b[34m\u001b[1mwandb\u001b[0m: \u001b[32m\u001b[41mERROR\u001b[0m Control-C detected -- Run data was not synced\n"
     ]
    }
   ],
   "source": [
    "# Cell 5: Main Training Loop & Wandb Initialization\n",
    "import wandb\n",
    "\n",
    "# Initialize a new Wandb run\n",
    "wandb.init(project=\"DL_Assignment_01\")\n",
    "config = wandb.config\n",
    "config.learning_rate = 0.001\n",
    "config.batch_size = 32\n",
    "config.epochs = 5\n",
    "config.num_layers = 2      # Example: 2 hidden layers\n",
    "config.hidden_size = 64    # Example: 64 neurons per hidden layer\n",
    "config.activation = \"relu\"\n",
    "config.weight_init = \"xavier\"\n",
    "config.loss = \"cross_entropy\"\n",
    "config.optimizer = \"adam\"  # Options: sgd, momentum, nag, rmsprop, adam, nadam\n",
    "config.momentum = 0.9\n",
    "config.beta = 0.9\n",
    "config.beta1 = 0.9\n",
    "config.beta2 = 0.999\n",
    "config.epsilon = 1e-8\n",
    "config.weight_decay = 0.0001\n",
    "\n",
    "# Load and preprocess data\n",
    "X_train, y_train, X_val, y_val, X_test, y_test = load_data(\"fashion_mnist\")\n",
    "input_size = X_train.shape[1]\n",
    "output_size = 10  # 10 classes\n",
    "hidden_sizes = [config.hidden_size] * config.num_layers\n",
    "\n",
    "# Initialize the Neural Network and Optimizer\n",
    "network = NeuralNetwork(input_size, hidden_sizes, output_size, config.activation, config.weight_init, config.loss)\n",
    "optimizer = Optimizer(network.params, config.optimizer, config.learning_rate,\n",
    "                      momentum=config.momentum, beta=config.beta,\n",
    "                      beta1=config.beta1, beta2=config.beta2,\n",
    "                      epsilon=config.epsilon, weight_decay=config.weight_decay)\n",
    "\n",
    "# Train the model\n",
    "network = train_model(network, optimizer, X_train, y_train, X_val, y_val, config.epochs, config.batch_size)\n",
    "\n",
    "# Evaluate the model on the test set\n",
    "predictions, true_labels, test_acc = evaluate_model(network, X_test, y_test)\n",
    "\n",
    "# Plot the confusion matrix\n",
    "classes = [str(i) for i in range(10)]\n",
    "plot_conf_matrix(true_labels, predictions, classes)\n",
    "\n",
    "# Finish the Wandb run\n",
    "wandb.finish()\n"
   ]
  },
  {
   "cell_type": "code",
   "execution_count": null,
   "metadata": {},
   "outputs": [],
   "source": [
    "import matplotlib.pyplot as plt\n",
    "import numpy as np\n",
    "from keras.datasets import fashion_mnist\n",
    "import wandb\n",
    "\n",
    "# Initialize Wandb (update project and entity with your own values)\n",
    "wandb.init(project=\"DL_Assignment_01\")\n",
    "\n",
    "# Load Fashion-MNIST data\n",
    "(X_train, y_train), (_, _) = fashion_mnist.load_data()\n",
    "\n",
    "# Define class names for Fashion-MNIST\n",
    "class_names = [\n",
    "    \"T-shirt/top\", \"Trouser\", \"Pullover\", \"Dress\", \"Coat\", \n",
    "    \"Sandal\", \"Shirt\", \"Sneaker\", \"Bag\", \"Ankle boot\"\n",
    "]\n",
    "\n",
    "# Create a grid plot: 2 rows, 5 columns\n",
    "fig, axes = plt.subplots(2, 5, figsize=(12, 6))\n",
    "\n",
    "# For each class, find the first image and plot it\n",
    "for i, ax in enumerate(axes.flat):\n",
    "    # Find the index of the first occurrence of class i\n",
    "    idx = np.where(y_train == i)[0][0]\n",
    "    # Plot the image in grayscale\n",
    "    ax.imshow(X_train[idx], cmap=\"gray\")\n",
    "    ax.set_title(class_names[i])\n",
    "    ax.axis(\"off\")\n",
    "\n",
    "plt.tight_layout()\n",
    "\n",
    "# Log the grid plot to Wandb\n",
    "wandb.log({\"Sample Images\": wandb.Image(fig)})\n",
    "\n",
    "# Display the plot in the notebook\n",
    "plt.show()\n",
    "\n",
    "wandb.finish()\n"
   ]
  },
  {
   "cell_type": "code",
   "execution_count": 14,
   "metadata": {},
   "outputs": [
    {
     "name": "stdout",
     "output_type": "stream",
     "text": [
      "Create sweep with ID: 1ztchdgb\n",
      "Sweep URL: https://wandb.ai/da24m016-indian-institute-of-technology-madras/DL_Assignment_01/sweeps/1ztchdgb\n",
      "Sweep ID: 1ztchdgb\n"
     ]
    }
   ],
   "source": [
    "import wandb\n",
    "\n",
    "# Define the sweep configuration\n",
    "sweep_config = {\n",
    "    'method': 'random',  # using random search for efficiency\n",
    "    'metric': {\n",
    "        'name': 'val_accuracy',\n",
    "        'goal': 'maximize'\n",
    "    },\n",
    "    'parameters': {\n",
    "        'epochs': {'values': [5, 10]},\n",
    "        'num_layers': {'values': [3, 4, 5]},\n",
    "        'hidden_size': {'values': [32, 64, 128]},\n",
    "        'weight_decay': {'values': [0, 0.0005, 0.5]},\n",
    "        'learning_rate': {'values': [0.001, 0.0001]},\n",
    "        'optimizer': {'values': ['sgd', 'momentum', 'nesterov', 'rmsprop', 'adam', 'nadam']},\n",
    "        'batch_size': {'values': [16, 32, 64]},\n",
    "        'weight_init': {'values': ['random', 'xavier']},\n",
    "        'activation': {'values': ['sigmoid', 'tanh', 'relu']}\n",
    "    }\n",
    "}\n",
    "\n",
    "# Create the sweep and print the sweep_id\n",
    "sweep_id = wandb.sweep(sweep_config, project=\"DL_Assignment_01\")\n",
    "print(\"Sweep ID:\", sweep_id)\n"
   ]
  },
  {
   "cell_type": "code",
   "execution_count": 7,
   "metadata": {},
   "outputs": [
    {
     "name": "stdout",
     "output_type": "stream",
     "text": [
      "Create sweep with ID: pu8149xm\n",
      "Sweep URL: https://wandb.ai/da24m016-indian-institute-of-technology-madras/DL_Assignment_01/sweeps/pu8149xm\n",
      "Sweep ID: pu8149xm\n"
     ]
    }
   ],
   "source": [
    "sweep_config = {\n",
    "    'method': 'bayes',  # Use Bayesian optimization instead of random search\n",
    "    'metric': {\n",
    "        'name': 'val_accuracy',\n",
    "        'goal': 'maximize'\n",
    "    },\n",
    "    'parameters': {\n",
    "        'epochs': {'values': [5, 10]},\n",
    "        'num_layers': {'values': [3, 4, 5]},\n",
    "        'hidden_size': {'values': [32, 64, 128]},\n",
    "        'weight_decay': {'values': [0, 0.0005, 0.5]},\n",
    "        'learning_rate': {'values': [0.001, 0.0001]},\n",
    "        'optimizer': {'values': ['sgd', 'momentum', 'nesterov', 'rmsprop', 'adam', 'nadam']},\n",
    "        'batch_size': {'values': [16, 32, 64]},\n",
    "        'weight_init': {'values': ['random', 'xavier']},\n",
    "        'activation': {'values': ['sigmoid', 'tanh', 'relu']}\n",
    "    }\n",
    "}\n",
    "\n",
    "sweep_id = wandb.sweep(sweep_config, project=\"DL_Assignment_01\")\n",
    "print(\"Sweep ID:\", sweep_id)\n"
   ]
  },
  {
   "cell_type": "code",
   "execution_count": null,
   "metadata": {},
   "outputs": [],
   "source": []
  },
  {
   "cell_type": "code",
   "execution_count": 8,
   "metadata": {},
   "outputs": [],
   "source": [
    "def sweep_train():\n",
    "    # Initialize the Wandb run (this pulls hyperparameters from the sweep config)\n",
    "    wandb.init()\n",
    "    config = wandb.config\n",
    "    \n",
    "    # Load the data using the standard Fashion-MNIST split\n",
    "    X_train, y_train, X_val, y_val, X_test, y_test = load_data(\"fashion_mnist\")\n",
    "    input_size = X_train.shape[1]\n",
    "    output_size = 10  # for 10 classes\n",
    "\n",
    "    # Create a list of hidden layer sizes: repeat 'hidden_size' for 'num_layers' times\n",
    "    hidden_sizes = [config.hidden_size] * config.num_layers\n",
    "\n",
    "    # Initialize the neural network and optimizer\n",
    "    network = NeuralNetwork(input_size, hidden_sizes, output_size, \n",
    "                            activation=config.activation, \n",
    "                            weight_init=config.weight_init, \n",
    "                            loss_func=\"cross_entropy\")\n",
    "    \n",
    "    optimizer = Optimizer(network.params, config.optimizer, config.learning_rate,\n",
    "                          momentum=0.9,  # you can set default values or include these in the sweep config as well\n",
    "                          beta=0.9,\n",
    "                          beta1=0.9,\n",
    "                          beta2=0.999,\n",
    "                          epsilon=1e-8,\n",
    "                          weight_decay=config.weight_decay)\n",
    "    \n",
    "    # Train the model using the training function defined earlier\n",
    "    network = train_model(network, optimizer, X_train, y_train, X_val, y_val, \n",
    "                          epochs=config.epochs, batch_size=config.batch_size)\n",
    "    \n",
    "    # Evaluate on the validation set\n",
    "    y_val_pred, _ = network.forward(X_val)\n",
    "    val_loss = network.compute_loss(y_val_pred, y_val)\n",
    "    predictions_val = np.argmax(y_val_pred, axis=1)\n",
    "    true_labels_val = np.argmax(y_val, axis=1)\n",
    "    val_acc = np.mean(predictions_val == true_labels_val)\n",
    "    \n",
    "    # Log final validation metrics\n",
    "    wandb.log({\n",
    "        \"final_val_loss\": val_loss,\n",
    "        \"final_val_accuracy\": val_acc\n",
    "    })\n",
    "    \n",
    "    wandb.finish()\n"
   ]
  },
  {
   "cell_type": "code",
   "execution_count": 9,
   "metadata": {},
   "outputs": [
    {
     "name": "stderr",
     "output_type": "stream",
     "text": [
      "\u001b[34m\u001b[1mwandb\u001b[0m: Agent Starting Run: p4zcxa4d with config:\n",
      "\u001b[34m\u001b[1mwandb\u001b[0m: \tactivation: tanh\n",
      "\u001b[34m\u001b[1mwandb\u001b[0m: \tbatch_size: 64\n",
      "\u001b[34m\u001b[1mwandb\u001b[0m: \tepochs: 10\n",
      "\u001b[34m\u001b[1mwandb\u001b[0m: \thidden_size: 32\n",
      "\u001b[34m\u001b[1mwandb\u001b[0m: \tlearning_rate: 0.001\n",
      "\u001b[34m\u001b[1mwandb\u001b[0m: \tnum_layers: 3\n",
      "\u001b[34m\u001b[1mwandb\u001b[0m: \toptimizer: momentum\n",
      "\u001b[34m\u001b[1mwandb\u001b[0m: \tweight_decay: 0.0005\n",
      "\u001b[34m\u001b[1mwandb\u001b[0m: \tweight_init: random\n",
      "Failed to detect the name of this notebook, you can set it manually with the WANDB_NOTEBOOK_NAME environment variable to enable code saving.\n"
     ]
    },
    {
     "data": {
      "text/html": [
       "wandb version 0.19.8 is available!  To upgrade, please run:\n",
       " $ pip install wandb --upgrade"
      ],
      "text/plain": [
       "<IPython.core.display.HTML object>"
      ]
     },
     "metadata": {},
     "output_type": "display_data"
    },
    {
     "data": {
      "text/html": [
       "Tracking run with wandb version 0.16.1"
      ],
      "text/plain": [
       "<IPython.core.display.HTML object>"
      ]
     },
     "metadata": {},
     "output_type": "display_data"
    },
    {
     "data": {
      "text/html": [
       "Run data is saved locally in <code>c:\\Users\\D. Sai Mani Kumar\\Downloads\\DL\\da6401_assignment1\\wandb\\run-20250308_042452-p4zcxa4d</code>"
      ],
      "text/plain": [
       "<IPython.core.display.HTML object>"
      ]
     },
     "metadata": {},
     "output_type": "display_data"
    },
    {
     "data": {
      "text/html": [
       "Syncing run <strong><a href='https://wandb.ai/da24m016-indian-institute-of-technology-madras/DL_Assignment_01/runs/p4zcxa4d' target=\"_blank\">stellar-sweep-1</a></strong> to <a href='https://wandb.ai/da24m016-indian-institute-of-technology-madras/DL_Assignment_01' target=\"_blank\">Weights & Biases</a> (<a href='https://wandb.me/run' target=\"_blank\">docs</a>)<br/>Sweep page: <a href='https://wandb.ai/da24m016-indian-institute-of-technology-madras/DL_Assignment_01/sweeps/pu8149xm' target=\"_blank\">https://wandb.ai/da24m016-indian-institute-of-technology-madras/DL_Assignment_01/sweeps/pu8149xm</a>"
      ],
      "text/plain": [
       "<IPython.core.display.HTML object>"
      ]
     },
     "metadata": {},
     "output_type": "display_data"
    },
    {
     "data": {
      "text/html": [
       " View project at <a href='https://wandb.ai/da24m016-indian-institute-of-technology-madras/DL_Assignment_01' target=\"_blank\">https://wandb.ai/da24m016-indian-institute-of-technology-madras/DL_Assignment_01</a>"
      ],
      "text/plain": [
       "<IPython.core.display.HTML object>"
      ]
     },
     "metadata": {},
     "output_type": "display_data"
    },
    {
     "data": {
      "text/html": [
       " View sweep at <a href='https://wandb.ai/da24m016-indian-institute-of-technology-madras/DL_Assignment_01/sweeps/pu8149xm' target=\"_blank\">https://wandb.ai/da24m016-indian-institute-of-technology-madras/DL_Assignment_01/sweeps/pu8149xm</a>"
      ],
      "text/plain": [
       "<IPython.core.display.HTML object>"
      ]
     },
     "metadata": {},
     "output_type": "display_data"
    },
    {
     "data": {
      "text/html": [
       " View run at <a href='https://wandb.ai/da24m016-indian-institute-of-technology-madras/DL_Assignment_01/runs/p4zcxa4d' target=\"_blank\">https://wandb.ai/da24m016-indian-institute-of-technology-madras/DL_Assignment_01/runs/p4zcxa4d</a>"
      ],
      "text/plain": [
       "<IPython.core.display.HTML object>"
      ]
     },
     "metadata": {},
     "output_type": "display_data"
    },
    {
     "name": "stdout",
     "output_type": "stream",
     "text": [
      "Epoch 1/10: Loss=2.3026, Acc=0.0980, Val Loss=2.3027, Val Acc=0.0925\n",
      "Epoch 2/10: Loss=2.3026, Acc=0.0987, Val Loss=2.3027, Val Acc=0.0925\n",
      "Epoch 3/10: Loss=2.3026, Acc=0.0994, Val Loss=2.3028, Val Acc=0.0925\n",
      "Epoch 4/10: Loss=2.3026, Acc=0.0989, Val Loss=2.3028, Val Acc=0.0925\n",
      "Epoch 5/10: Loss=2.3026, Acc=0.0993, Val Loss=2.3028, Val Acc=0.0973\n",
      "Epoch 6/10: Loss=2.3026, Acc=0.1005, Val Loss=2.3028, Val Acc=0.0925\n",
      "Epoch 7/10: Loss=2.3026, Acc=0.1011, Val Loss=2.3028, Val Acc=0.0925\n",
      "Epoch 8/10: Loss=2.3026, Acc=0.1011, Val Loss=2.3028, Val Acc=0.0925\n",
      "Epoch 9/10: Loss=2.3026, Acc=0.1012, Val Loss=2.3028, Val Acc=0.0925\n",
      "Epoch 10/10: Loss=2.3026, Acc=0.1008, Val Loss=2.3028, Val Acc=0.0925\n"
     ]
    },
    {
     "data": {
      "application/vnd.jupyter.widget-view+json": {
       "model_id": "0e26d73e3fca442c9978415710a64a03",
       "version_major": 2,
       "version_minor": 0
      },
      "text/plain": [
       "VBox(children=(Label(value='0.001 MB of 0.001 MB uploaded\\r'), FloatProgress(value=1.0, max=1.0)))"
      ]
     },
     "metadata": {},
     "output_type": "display_data"
    },
    {
     "data": {
      "text/html": [
       "<style>\n",
       "    table.wandb td:nth-child(1) { padding: 0 10px; text-align: left ; width: auto;} td:nth-child(2) {text-align: left ; width: 100%}\n",
       "    .wandb-row { display: flex; flex-direction: row; flex-wrap: wrap; justify-content: flex-start; width: 100% }\n",
       "    .wandb-col { display: flex; flex-direction: column; flex-basis: 100%; flex: 1; padding: 10px; }\n",
       "    </style>\n",
       "<div class=\"wandb-row\"><div class=\"wandb-col\"><h3>Run history:</h3><br/><table class=\"wandb\"><tr><td>accuracy</td><td>▁▂▄▃▄▆███▇</td></tr><tr><td>epoch</td><td>▁▂▃▃▄▅▆▆▇█</td></tr><tr><td>final_val_accuracy</td><td>▁</td></tr><tr><td>final_val_loss</td><td>▁</td></tr><tr><td>loss</td><td>█▇▅▆▄▄▃▃▁▁</td></tr><tr><td>val_accuracy</td><td>▁▁▁▁█▁▁▁▁▁</td></tr><tr><td>val_loss</td><td>▁▅█▆▇▆█▇▇▅</td></tr></table><br/></div><div class=\"wandb-col\"><h3>Run summary:</h3><br/><table class=\"wandb\"><tr><td>accuracy</td><td>0.10076</td></tr><tr><td>epoch</td><td>10</td></tr><tr><td>final_val_accuracy</td><td>0.0925</td></tr><tr><td>final_val_loss</td><td>2.30275</td></tr><tr><td>loss</td><td>2.3026</td></tr><tr><td>val_accuracy</td><td>0.0925</td></tr><tr><td>val_loss</td><td>2.30275</td></tr></table><br/></div></div>"
      ],
      "text/plain": [
       "<IPython.core.display.HTML object>"
      ]
     },
     "metadata": {},
     "output_type": "display_data"
    },
    {
     "data": {
      "text/html": [
       " View run <strong style=\"color:#cdcd00\">stellar-sweep-1</strong> at: <a href='https://wandb.ai/da24m016-indian-institute-of-technology-madras/DL_Assignment_01/runs/p4zcxa4d' target=\"_blank\">https://wandb.ai/da24m016-indian-institute-of-technology-madras/DL_Assignment_01/runs/p4zcxa4d</a><br/>Synced 5 W&B file(s), 0 media file(s), 0 artifact file(s) and 0 other file(s)"
      ],
      "text/plain": [
       "<IPython.core.display.HTML object>"
      ]
     },
     "metadata": {},
     "output_type": "display_data"
    },
    {
     "data": {
      "text/html": [
       "Find logs at: <code>.\\wandb\\run-20250308_042452-p4zcxa4d\\logs</code>"
      ],
      "text/plain": [
       "<IPython.core.display.HTML object>"
      ]
     },
     "metadata": {},
     "output_type": "display_data"
    },
    {
     "name": "stderr",
     "output_type": "stream",
     "text": [
      "\u001b[34m\u001b[1mwandb\u001b[0m: Agent Starting Run: zeyrkk2k with config:\n",
      "\u001b[34m\u001b[1mwandb\u001b[0m: \tactivation: sigmoid\n",
      "\u001b[34m\u001b[1mwandb\u001b[0m: \tbatch_size: 32\n",
      "\u001b[34m\u001b[1mwandb\u001b[0m: \tepochs: 5\n",
      "\u001b[34m\u001b[1mwandb\u001b[0m: \thidden_size: 32\n",
      "\u001b[34m\u001b[1mwandb\u001b[0m: \tlearning_rate: 0.0001\n",
      "\u001b[34m\u001b[1mwandb\u001b[0m: \tnum_layers: 4\n",
      "\u001b[34m\u001b[1mwandb\u001b[0m: \toptimizer: rmsprop\n",
      "\u001b[34m\u001b[1mwandb\u001b[0m: \tweight_decay: 0.5\n",
      "\u001b[34m\u001b[1mwandb\u001b[0m: \tweight_init: xavier\n",
      "Failed to detect the name of this notebook, you can set it manually with the WANDB_NOTEBOOK_NAME environment variable to enable code saving.\n"
     ]
    },
    {
     "data": {
      "text/html": [
       "wandb version 0.19.8 is available!  To upgrade, please run:\n",
       " $ pip install wandb --upgrade"
      ],
      "text/plain": [
       "<IPython.core.display.HTML object>"
      ]
     },
     "metadata": {},
     "output_type": "display_data"
    },
    {
     "data": {
      "text/html": [
       "Tracking run with wandb version 0.16.1"
      ],
      "text/plain": [
       "<IPython.core.display.HTML object>"
      ]
     },
     "metadata": {},
     "output_type": "display_data"
    },
    {
     "data": {
      "text/html": [
       "Run data is saved locally in <code>c:\\Users\\D. Sai Mani Kumar\\Downloads\\DL\\da6401_assignment1\\wandb\\run-20250308_042524-zeyrkk2k</code>"
      ],
      "text/plain": [
       "<IPython.core.display.HTML object>"
      ]
     },
     "metadata": {},
     "output_type": "display_data"
    },
    {
     "data": {
      "text/html": [
       "Syncing run <strong><a href='https://wandb.ai/da24m016-indian-institute-of-technology-madras/DL_Assignment_01/runs/zeyrkk2k' target=\"_blank\">resilient-sweep-2</a></strong> to <a href='https://wandb.ai/da24m016-indian-institute-of-technology-madras/DL_Assignment_01' target=\"_blank\">Weights & Biases</a> (<a href='https://wandb.me/run' target=\"_blank\">docs</a>)<br/>Sweep page: <a href='https://wandb.ai/da24m016-indian-institute-of-technology-madras/DL_Assignment_01/sweeps/pu8149xm' target=\"_blank\">https://wandb.ai/da24m016-indian-institute-of-technology-madras/DL_Assignment_01/sweeps/pu8149xm</a>"
      ],
      "text/plain": [
       "<IPython.core.display.HTML object>"
      ]
     },
     "metadata": {},
     "output_type": "display_data"
    },
    {
     "data": {
      "text/html": [
       " View project at <a href='https://wandb.ai/da24m016-indian-institute-of-technology-madras/DL_Assignment_01' target=\"_blank\">https://wandb.ai/da24m016-indian-institute-of-technology-madras/DL_Assignment_01</a>"
      ],
      "text/plain": [
       "<IPython.core.display.HTML object>"
      ]
     },
     "metadata": {},
     "output_type": "display_data"
    },
    {
     "data": {
      "text/html": [
       " View sweep at <a href='https://wandb.ai/da24m016-indian-institute-of-technology-madras/DL_Assignment_01/sweeps/pu8149xm' target=\"_blank\">https://wandb.ai/da24m016-indian-institute-of-technology-madras/DL_Assignment_01/sweeps/pu8149xm</a>"
      ],
      "text/plain": [
       "<IPython.core.display.HTML object>"
      ]
     },
     "metadata": {},
     "output_type": "display_data"
    },
    {
     "data": {
      "text/html": [
       " View run at <a href='https://wandb.ai/da24m016-indian-institute-of-technology-madras/DL_Assignment_01/runs/zeyrkk2k' target=\"_blank\">https://wandb.ai/da24m016-indian-institute-of-technology-madras/DL_Assignment_01/runs/zeyrkk2k</a>"
      ],
      "text/plain": [
       "<IPython.core.display.HTML object>"
      ]
     },
     "metadata": {},
     "output_type": "display_data"
    },
    {
     "name": "stdout",
     "output_type": "stream",
     "text": [
      "Epoch 1/5: Loss=2.3516, Acc=0.0990, Val Loss=2.3082, Val Acc=0.0925\n",
      "Epoch 2/5: Loss=2.3035, Acc=0.0998, Val Loss=2.3024, Val Acc=0.0973\n",
      "Epoch 3/5: Loss=2.3030, Acc=0.0973, Val Loss=2.3025, Val Acc=0.1055\n",
      "Epoch 4/5: Loss=2.3029, Acc=0.0999, Val Loss=2.3026, Val Acc=0.1027\n",
      "Epoch 5/5: Loss=2.3029, Acc=0.1010, Val Loss=2.3026, Val Acc=0.1050\n"
     ]
    },
    {
     "data": {
      "application/vnd.jupyter.widget-view+json": {
       "model_id": "31d3d60def1c46fa89cddc9b694cb486",
       "version_major": 2,
       "version_minor": 0
      },
      "text/plain": [
       "VBox(children=(Label(value='0.001 MB of 0.001 MB uploaded\\r'), FloatProgress(value=1.0, max=1.0)))"
      ]
     },
     "metadata": {},
     "output_type": "display_data"
    },
    {
     "data": {
      "text/html": [
       "<style>\n",
       "    table.wandb td:nth-child(1) { padding: 0 10px; text-align: left ; width: auto;} td:nth-child(2) {text-align: left ; width: 100%}\n",
       "    .wandb-row { display: flex; flex-direction: row; flex-wrap: wrap; justify-content: flex-start; width: 100% }\n",
       "    .wandb-col { display: flex; flex-direction: column; flex-basis: 100%; flex: 1; padding: 10px; }\n",
       "    </style>\n",
       "<div class=\"wandb-row\"><div class=\"wandb-col\"><h3>Run history:</h3><br/><table class=\"wandb\"><tr><td>accuracy</td><td>▄▆▁▆█</td></tr><tr><td>epoch</td><td>▁▃▅▆█</td></tr><tr><td>final_val_accuracy</td><td>▁</td></tr><tr><td>final_val_loss</td><td>▁</td></tr><tr><td>loss</td><td>█▁▁▁▁</td></tr><tr><td>val_accuracy</td><td>▁▄█▆█</td></tr><tr><td>val_loss</td><td>█▁▁▁▁</td></tr></table><br/></div><div class=\"wandb-col\"><h3>Run summary:</h3><br/><table class=\"wandb\"><tr><td>accuracy</td><td>0.10105</td></tr><tr><td>epoch</td><td>5</td></tr><tr><td>final_val_accuracy</td><td>0.105</td></tr><tr><td>final_val_loss</td><td>2.30261</td></tr><tr><td>loss</td><td>2.3029</td></tr><tr><td>val_accuracy</td><td>0.105</td></tr><tr><td>val_loss</td><td>2.30261</td></tr></table><br/></div></div>"
      ],
      "text/plain": [
       "<IPython.core.display.HTML object>"
      ]
     },
     "metadata": {},
     "output_type": "display_data"
    },
    {
     "data": {
      "text/html": [
       " View run <strong style=\"color:#cdcd00\">resilient-sweep-2</strong> at: <a href='https://wandb.ai/da24m016-indian-institute-of-technology-madras/DL_Assignment_01/runs/zeyrkk2k' target=\"_blank\">https://wandb.ai/da24m016-indian-institute-of-technology-madras/DL_Assignment_01/runs/zeyrkk2k</a><br/>Synced 5 W&B file(s), 0 media file(s), 0 artifact file(s) and 0 other file(s)"
      ],
      "text/plain": [
       "<IPython.core.display.HTML object>"
      ]
     },
     "metadata": {},
     "output_type": "display_data"
    },
    {
     "data": {
      "text/html": [
       "Find logs at: <code>.\\wandb\\run-20250308_042524-zeyrkk2k\\logs</code>"
      ],
      "text/plain": [
       "<IPython.core.display.HTML object>"
      ]
     },
     "metadata": {},
     "output_type": "display_data"
    },
    {
     "name": "stderr",
     "output_type": "stream",
     "text": [
      "\u001b[34m\u001b[1mwandb\u001b[0m: Sweep Agent: Waiting for job.\n",
      "\u001b[34m\u001b[1mwandb\u001b[0m: Job received.\n",
      "\u001b[34m\u001b[1mwandb\u001b[0m: Agent Starting Run: qgp8m9jh with config:\n",
      "\u001b[34m\u001b[1mwandb\u001b[0m: \tactivation: tanh\n",
      "\u001b[34m\u001b[1mwandb\u001b[0m: \tbatch_size: 64\n",
      "\u001b[34m\u001b[1mwandb\u001b[0m: \tepochs: 5\n",
      "\u001b[34m\u001b[1mwandb\u001b[0m: \thidden_size: 128\n",
      "\u001b[34m\u001b[1mwandb\u001b[0m: \tlearning_rate: 0.0001\n",
      "\u001b[34m\u001b[1mwandb\u001b[0m: \tnum_layers: 3\n",
      "\u001b[34m\u001b[1mwandb\u001b[0m: \toptimizer: momentum\n",
      "\u001b[34m\u001b[1mwandb\u001b[0m: \tweight_decay: 0\n",
      "\u001b[34m\u001b[1mwandb\u001b[0m: \tweight_init: xavier\n",
      "Failed to detect the name of this notebook, you can set it manually with the WANDB_NOTEBOOK_NAME environment variable to enable code saving.\n"
     ]
    },
    {
     "data": {
      "text/html": [
       "wandb version 0.19.8 is available!  To upgrade, please run:\n",
       " $ pip install wandb --upgrade"
      ],
      "text/plain": [
       "<IPython.core.display.HTML object>"
      ]
     },
     "metadata": {},
     "output_type": "display_data"
    },
    {
     "data": {
      "text/html": [
       "Tracking run with wandb version 0.16.1"
      ],
      "text/plain": [
       "<IPython.core.display.HTML object>"
      ]
     },
     "metadata": {},
     "output_type": "display_data"
    },
    {
     "data": {
      "text/html": [
       "Run data is saved locally in <code>c:\\Users\\D. Sai Mani Kumar\\Downloads\\DL\\da6401_assignment1\\wandb\\run-20250308_042602-qgp8m9jh</code>"
      ],
      "text/plain": [
       "<IPython.core.display.HTML object>"
      ]
     },
     "metadata": {},
     "output_type": "display_data"
    },
    {
     "data": {
      "text/html": [
       "Syncing run <strong><a href='https://wandb.ai/da24m016-indian-institute-of-technology-madras/DL_Assignment_01/runs/qgp8m9jh' target=\"_blank\">royal-sweep-3</a></strong> to <a href='https://wandb.ai/da24m016-indian-institute-of-technology-madras/DL_Assignment_01' target=\"_blank\">Weights & Biases</a> (<a href='https://wandb.me/run' target=\"_blank\">docs</a>)<br/>Sweep page: <a href='https://wandb.ai/da24m016-indian-institute-of-technology-madras/DL_Assignment_01/sweeps/pu8149xm' target=\"_blank\">https://wandb.ai/da24m016-indian-institute-of-technology-madras/DL_Assignment_01/sweeps/pu8149xm</a>"
      ],
      "text/plain": [
       "<IPython.core.display.HTML object>"
      ]
     },
     "metadata": {},
     "output_type": "display_data"
    },
    {
     "data": {
      "text/html": [
       " View project at <a href='https://wandb.ai/da24m016-indian-institute-of-technology-madras/DL_Assignment_01' target=\"_blank\">https://wandb.ai/da24m016-indian-institute-of-technology-madras/DL_Assignment_01</a>"
      ],
      "text/plain": [
       "<IPython.core.display.HTML object>"
      ]
     },
     "metadata": {},
     "output_type": "display_data"
    },
    {
     "data": {
      "text/html": [
       " View sweep at <a href='https://wandb.ai/da24m016-indian-institute-of-technology-madras/DL_Assignment_01/sweeps/pu8149xm' target=\"_blank\">https://wandb.ai/da24m016-indian-institute-of-technology-madras/DL_Assignment_01/sweeps/pu8149xm</a>"
      ],
      "text/plain": [
       "<IPython.core.display.HTML object>"
      ]
     },
     "metadata": {},
     "output_type": "display_data"
    },
    {
     "data": {
      "text/html": [
       " View run at <a href='https://wandb.ai/da24m016-indian-institute-of-technology-madras/DL_Assignment_01/runs/qgp8m9jh' target=\"_blank\">https://wandb.ai/da24m016-indian-institute-of-technology-madras/DL_Assignment_01/runs/qgp8m9jh</a>"
      ],
      "text/plain": [
       "<IPython.core.display.HTML object>"
      ]
     },
     "metadata": {},
     "output_type": "display_data"
    },
    {
     "name": "stdout",
     "output_type": "stream",
     "text": [
      "Epoch 1/5: Loss=1.5599, Acc=0.5354, Val Loss=1.1588, Val Acc=0.6647\n",
      "Epoch 2/5: Loss=1.0323, Acc=0.6800, Val Loss=0.9163, Val Acc=0.7023\n",
      "Epoch 3/5: Loss=0.8704, Acc=0.7156, Val Loss=0.8049, Val Acc=0.7302\n",
      "Epoch 4/5: Loss=0.7829, Acc=0.7417, Val Loss=0.7361, Val Acc=0.7570\n",
      "Epoch 5/5: Loss=0.7245, Acc=0.7602, Val Loss=0.6879, Val Acc=0.7675\n"
     ]
    },
    {
     "data": {
      "application/vnd.jupyter.widget-view+json": {
       "model_id": "082854edb7624119a51224f6b7774728",
       "version_major": 2,
       "version_minor": 0
      },
      "text/plain": [
       "VBox(children=(Label(value='0.001 MB of 0.012 MB uploaded\\r'), FloatProgress(value=0.1145026340254106, max=1.0…"
      ]
     },
     "metadata": {},
     "output_type": "display_data"
    },
    {
     "data": {
      "text/html": [
       "<style>\n",
       "    table.wandb td:nth-child(1) { padding: 0 10px; text-align: left ; width: auto;} td:nth-child(2) {text-align: left ; width: 100%}\n",
       "    .wandb-row { display: flex; flex-direction: row; flex-wrap: wrap; justify-content: flex-start; width: 100% }\n",
       "    .wandb-col { display: flex; flex-direction: column; flex-basis: 100%; flex: 1; padding: 10px; }\n",
       "    </style>\n",
       "<div class=\"wandb-row\"><div class=\"wandb-col\"><h3>Run history:</h3><br/><table class=\"wandb\"><tr><td>accuracy</td><td>▁▆▇▇█</td></tr><tr><td>epoch</td><td>▁▃▅▆█</td></tr><tr><td>final_val_accuracy</td><td>▁</td></tr><tr><td>final_val_loss</td><td>▁</td></tr><tr><td>loss</td><td>█▄▂▁▁</td></tr><tr><td>val_accuracy</td><td>▁▄▅▇█</td></tr><tr><td>val_loss</td><td>█▄▃▂▁</td></tr></table><br/></div><div class=\"wandb-col\"><h3>Run summary:</h3><br/><table class=\"wandb\"><tr><td>accuracy</td><td>0.76023</td></tr><tr><td>epoch</td><td>5</td></tr><tr><td>final_val_accuracy</td><td>0.7675</td></tr><tr><td>final_val_loss</td><td>0.68787</td></tr><tr><td>loss</td><td>0.72447</td></tr><tr><td>val_accuracy</td><td>0.7675</td></tr><tr><td>val_loss</td><td>0.68787</td></tr></table><br/></div></div>"
      ],
      "text/plain": [
       "<IPython.core.display.HTML object>"
      ]
     },
     "metadata": {},
     "output_type": "display_data"
    },
    {
     "data": {
      "text/html": [
       " View run <strong style=\"color:#cdcd00\">royal-sweep-3</strong> at: <a href='https://wandb.ai/da24m016-indian-institute-of-technology-madras/DL_Assignment_01/runs/qgp8m9jh' target=\"_blank\">https://wandb.ai/da24m016-indian-institute-of-technology-madras/DL_Assignment_01/runs/qgp8m9jh</a><br/>Synced 5 W&B file(s), 0 media file(s), 0 artifact file(s) and 0 other file(s)"
      ],
      "text/plain": [
       "<IPython.core.display.HTML object>"
      ]
     },
     "metadata": {},
     "output_type": "display_data"
    },
    {
     "data": {
      "text/html": [
       "Find logs at: <code>.\\wandb\\run-20250308_042602-qgp8m9jh\\logs</code>"
      ],
      "text/plain": [
       "<IPython.core.display.HTML object>"
      ]
     },
     "metadata": {},
     "output_type": "display_data"
    },
    {
     "name": "stderr",
     "output_type": "stream",
     "text": [
      "\u001b[34m\u001b[1mwandb\u001b[0m: Agent Starting Run: xsm1wgz5 with config:\n",
      "\u001b[34m\u001b[1mwandb\u001b[0m: \tactivation: sigmoid\n",
      "\u001b[34m\u001b[1mwandb\u001b[0m: \tbatch_size: 16\n",
      "\u001b[34m\u001b[1mwandb\u001b[0m: \tepochs: 10\n",
      "\u001b[34m\u001b[1mwandb\u001b[0m: \thidden_size: 64\n",
      "\u001b[34m\u001b[1mwandb\u001b[0m: \tlearning_rate: 0.001\n",
      "\u001b[34m\u001b[1mwandb\u001b[0m: \tnum_layers: 5\n",
      "\u001b[34m\u001b[1mwandb\u001b[0m: \toptimizer: momentum\n",
      "\u001b[34m\u001b[1mwandb\u001b[0m: \tweight_decay: 0\n",
      "\u001b[34m\u001b[1mwandb\u001b[0m: \tweight_init: xavier\n",
      "Failed to detect the name of this notebook, you can set it manually with the WANDB_NOTEBOOK_NAME environment variable to enable code saving.\n"
     ]
    },
    {
     "data": {
      "text/html": [
       "wandb version 0.19.8 is available!  To upgrade, please run:\n",
       " $ pip install wandb --upgrade"
      ],
      "text/plain": [
       "<IPython.core.display.HTML object>"
      ]
     },
     "metadata": {},
     "output_type": "display_data"
    },
    {
     "data": {
      "text/html": [
       "Tracking run with wandb version 0.16.1"
      ],
      "text/plain": [
       "<IPython.core.display.HTML object>"
      ]
     },
     "metadata": {},
     "output_type": "display_data"
    },
    {
     "data": {
      "text/html": [
       "Run data is saved locally in <code>c:\\Users\\D. Sai Mani Kumar\\Downloads\\DL\\da6401_assignment1\\wandb\\run-20250308_042647-xsm1wgz5</code>"
      ],
      "text/plain": [
       "<IPython.core.display.HTML object>"
      ]
     },
     "metadata": {},
     "output_type": "display_data"
    },
    {
     "data": {
      "text/html": [
       "Syncing run <strong><a href='https://wandb.ai/da24m016-indian-institute-of-technology-madras/DL_Assignment_01/runs/xsm1wgz5' target=\"_blank\">lucky-sweep-4</a></strong> to <a href='https://wandb.ai/da24m016-indian-institute-of-technology-madras/DL_Assignment_01' target=\"_blank\">Weights & Biases</a> (<a href='https://wandb.me/run' target=\"_blank\">docs</a>)<br/>Sweep page: <a href='https://wandb.ai/da24m016-indian-institute-of-technology-madras/DL_Assignment_01/sweeps/pu8149xm' target=\"_blank\">https://wandb.ai/da24m016-indian-institute-of-technology-madras/DL_Assignment_01/sweeps/pu8149xm</a>"
      ],
      "text/plain": [
       "<IPython.core.display.HTML object>"
      ]
     },
     "metadata": {},
     "output_type": "display_data"
    },
    {
     "data": {
      "text/html": [
       " View project at <a href='https://wandb.ai/da24m016-indian-institute-of-technology-madras/DL_Assignment_01' target=\"_blank\">https://wandb.ai/da24m016-indian-institute-of-technology-madras/DL_Assignment_01</a>"
      ],
      "text/plain": [
       "<IPython.core.display.HTML object>"
      ]
     },
     "metadata": {},
     "output_type": "display_data"
    },
    {
     "data": {
      "text/html": [
       " View sweep at <a href='https://wandb.ai/da24m016-indian-institute-of-technology-madras/DL_Assignment_01/sweeps/pu8149xm' target=\"_blank\">https://wandb.ai/da24m016-indian-institute-of-technology-madras/DL_Assignment_01/sweeps/pu8149xm</a>"
      ],
      "text/plain": [
       "<IPython.core.display.HTML object>"
      ]
     },
     "metadata": {},
     "output_type": "display_data"
    },
    {
     "data": {
      "text/html": [
       " View run at <a href='https://wandb.ai/da24m016-indian-institute-of-technology-madras/DL_Assignment_01/runs/xsm1wgz5' target=\"_blank\">https://wandb.ai/da24m016-indian-institute-of-technology-madras/DL_Assignment_01/runs/xsm1wgz5</a>"
      ],
      "text/plain": [
       "<IPython.core.display.HTML object>"
      ]
     },
     "metadata": {},
     "output_type": "display_data"
    },
    {
     "name": "stdout",
     "output_type": "stream",
     "text": [
      "Epoch 1/10: Loss=2.3058, Acc=0.0995, Val Loss=2.3052, Val Acc=0.1050\n",
      "Epoch 2/10: Loss=2.3050, Acc=0.1003, Val Loss=2.3056, Val Acc=0.1055\n",
      "Epoch 3/10: Loss=2.3047, Acc=0.1012, Val Loss=2.3054, Val Acc=0.1050\n",
      "Epoch 4/10: Loss=2.3044, Acc=0.1002, Val Loss=2.3053, Val Acc=0.1027\n",
      "Epoch 5/10: Loss=2.3044, Acc=0.1029, Val Loss=2.3024, Val Acc=0.1050\n",
      "Epoch 6/10: Loss=2.3041, Acc=0.0999, Val Loss=2.3033, Val Acc=0.0985\n",
      "Epoch 7/10: Loss=2.3035, Acc=0.1051, Val Loss=2.3047, Val Acc=0.1027\n",
      "Epoch 8/10: Loss=2.3034, Acc=0.1025, Val Loss=2.3031, Val Acc=0.0985\n",
      "Epoch 9/10: Loss=2.3027, Acc=0.1042, Val Loss=2.3017, Val Acc=0.0942\n",
      "Epoch 10/10: Loss=2.3020, Acc=0.1054, Val Loss=2.3018, Val Acc=0.1032\n"
     ]
    },
    {
     "data": {
      "application/vnd.jupyter.widget-view+json": {
       "model_id": "4899b6705f1243d693d50890b5b1b365",
       "version_major": 2,
       "version_minor": 0
      },
      "text/plain": [
       "VBox(children=(Label(value='0.001 MB of 0.001 MB uploaded\\r'), FloatProgress(value=1.0, max=1.0)))"
      ]
     },
     "metadata": {},
     "output_type": "display_data"
    },
    {
     "data": {
      "text/html": [
       "<style>\n",
       "    table.wandb td:nth-child(1) { padding: 0 10px; text-align: left ; width: auto;} td:nth-child(2) {text-align: left ; width: 100%}\n",
       "    .wandb-row { display: flex; flex-direction: row; flex-wrap: wrap; justify-content: flex-start; width: 100% }\n",
       "    .wandb-col { display: flex; flex-direction: column; flex-basis: 100%; flex: 1; padding: 10px; }\n",
       "    </style>\n",
       "<div class=\"wandb-row\"><div class=\"wandb-col\"><h3>Run history:</h3><br/><table class=\"wandb\"><tr><td>accuracy</td><td>▁▂▃▂▅▁█▅▇█</td></tr><tr><td>epoch</td><td>▁▂▃▃▄▅▆▆▇█</td></tr><tr><td>final_val_accuracy</td><td>▁</td></tr><tr><td>final_val_loss</td><td>▁</td></tr><tr><td>loss</td><td>█▆▆▅▅▅▄▄▂▁</td></tr><tr><td>val_accuracy</td><td>███▆█▄▆▄▁▇</td></tr><tr><td>val_loss</td><td>▇██▇▂▄▆▄▁▁</td></tr></table><br/></div><div class=\"wandb-col\"><h3>Run summary:</h3><br/><table class=\"wandb\"><tr><td>accuracy</td><td>0.10541</td></tr><tr><td>epoch</td><td>10</td></tr><tr><td>final_val_accuracy</td><td>0.10317</td></tr><tr><td>final_val_loss</td><td>2.3018</td></tr><tr><td>loss</td><td>2.30195</td></tr><tr><td>val_accuracy</td><td>0.10317</td></tr><tr><td>val_loss</td><td>2.3018</td></tr></table><br/></div></div>"
      ],
      "text/plain": [
       "<IPython.core.display.HTML object>"
      ]
     },
     "metadata": {},
     "output_type": "display_data"
    },
    {
     "data": {
      "text/html": [
       " View run <strong style=\"color:#cdcd00\">lucky-sweep-4</strong> at: <a href='https://wandb.ai/da24m016-indian-institute-of-technology-madras/DL_Assignment_01/runs/xsm1wgz5' target=\"_blank\">https://wandb.ai/da24m016-indian-institute-of-technology-madras/DL_Assignment_01/runs/xsm1wgz5</a><br/>Synced 5 W&B file(s), 0 media file(s), 0 artifact file(s) and 0 other file(s)"
      ],
      "text/plain": [
       "<IPython.core.display.HTML object>"
      ]
     },
     "metadata": {},
     "output_type": "display_data"
    },
    {
     "data": {
      "text/html": [
       "Find logs at: <code>.\\wandb\\run-20250308_042647-xsm1wgz5\\logs</code>"
      ],
      "text/plain": [
       "<IPython.core.display.HTML object>"
      ]
     },
     "metadata": {},
     "output_type": "display_data"
    },
    {
     "name": "stderr",
     "output_type": "stream",
     "text": [
      "\u001b[34m\u001b[1mwandb\u001b[0m: Agent Starting Run: bb3ijrb9 with config:\n",
      "\u001b[34m\u001b[1mwandb\u001b[0m: \tactivation: tanh\n",
      "\u001b[34m\u001b[1mwandb\u001b[0m: \tbatch_size: 16\n",
      "\u001b[34m\u001b[1mwandb\u001b[0m: \tepochs: 10\n",
      "\u001b[34m\u001b[1mwandb\u001b[0m: \thidden_size: 32\n",
      "\u001b[34m\u001b[1mwandb\u001b[0m: \tlearning_rate: 0.0001\n",
      "\u001b[34m\u001b[1mwandb\u001b[0m: \tnum_layers: 4\n",
      "\u001b[34m\u001b[1mwandb\u001b[0m: \toptimizer: momentum\n",
      "\u001b[34m\u001b[1mwandb\u001b[0m: \tweight_decay: 0\n",
      "\u001b[34m\u001b[1mwandb\u001b[0m: \tweight_init: random\n",
      "Failed to detect the name of this notebook, you can set it manually with the WANDB_NOTEBOOK_NAME environment variable to enable code saving.\n"
     ]
    },
    {
     "data": {
      "text/html": [
       "wandb version 0.19.8 is available!  To upgrade, please run:\n",
       " $ pip install wandb --upgrade"
      ],
      "text/plain": [
       "<IPython.core.display.HTML object>"
      ]
     },
     "metadata": {},
     "output_type": "display_data"
    },
    {
     "data": {
      "text/html": [
       "Tracking run with wandb version 0.16.1"
      ],
      "text/plain": [
       "<IPython.core.display.HTML object>"
      ]
     },
     "metadata": {},
     "output_type": "display_data"
    },
    {
     "data": {
      "text/html": [
       "Run data is saved locally in <code>c:\\Users\\D. Sai Mani Kumar\\Downloads\\DL\\da6401_assignment1\\wandb\\run-20250308_042749-bb3ijrb9</code>"
      ],
      "text/plain": [
       "<IPython.core.display.HTML object>"
      ]
     },
     "metadata": {},
     "output_type": "display_data"
    },
    {
     "data": {
      "text/html": [
       "Syncing run <strong><a href='https://wandb.ai/da24m016-indian-institute-of-technology-madras/DL_Assignment_01/runs/bb3ijrb9' target=\"_blank\">zany-sweep-5</a></strong> to <a href='https://wandb.ai/da24m016-indian-institute-of-technology-madras/DL_Assignment_01' target=\"_blank\">Weights & Biases</a> (<a href='https://wandb.me/run' target=\"_blank\">docs</a>)<br/>Sweep page: <a href='https://wandb.ai/da24m016-indian-institute-of-technology-madras/DL_Assignment_01/sweeps/pu8149xm' target=\"_blank\">https://wandb.ai/da24m016-indian-institute-of-technology-madras/DL_Assignment_01/sweeps/pu8149xm</a>"
      ],
      "text/plain": [
       "<IPython.core.display.HTML object>"
      ]
     },
     "metadata": {},
     "output_type": "display_data"
    },
    {
     "data": {
      "text/html": [
       " View project at <a href='https://wandb.ai/da24m016-indian-institute-of-technology-madras/DL_Assignment_01' target=\"_blank\">https://wandb.ai/da24m016-indian-institute-of-technology-madras/DL_Assignment_01</a>"
      ],
      "text/plain": [
       "<IPython.core.display.HTML object>"
      ]
     },
     "metadata": {},
     "output_type": "display_data"
    },
    {
     "data": {
      "text/html": [
       " View sweep at <a href='https://wandb.ai/da24m016-indian-institute-of-technology-madras/DL_Assignment_01/sweeps/pu8149xm' target=\"_blank\">https://wandb.ai/da24m016-indian-institute-of-technology-madras/DL_Assignment_01/sweeps/pu8149xm</a>"
      ],
      "text/plain": [
       "<IPython.core.display.HTML object>"
      ]
     },
     "metadata": {},
     "output_type": "display_data"
    },
    {
     "data": {
      "text/html": [
       " View run at <a href='https://wandb.ai/da24m016-indian-institute-of-technology-madras/DL_Assignment_01/runs/bb3ijrb9' target=\"_blank\">https://wandb.ai/da24m016-indian-institute-of-technology-madras/DL_Assignment_01/runs/bb3ijrb9</a>"
      ],
      "text/plain": [
       "<IPython.core.display.HTML object>"
      ]
     },
     "metadata": {},
     "output_type": "display_data"
    },
    {
     "name": "stdout",
     "output_type": "stream",
     "text": [
      "Epoch 1/10: Loss=2.3026, Acc=0.0979, Val Loss=2.3026, Val Acc=0.0925\n",
      "Epoch 2/10: Loss=2.3026, Acc=0.0983, Val Loss=2.3027, Val Acc=0.0925\n",
      "Epoch 3/10: Loss=2.3026, Acc=0.1005, Val Loss=2.3027, Val Acc=0.0925\n",
      "Epoch 4/10: Loss=2.3026, Acc=0.0996, Val Loss=2.3027, Val Acc=0.0925\n",
      "Epoch 5/10: Loss=2.3026, Acc=0.0999, Val Loss=2.3027, Val Acc=0.0925\n",
      "Epoch 6/10: Loss=2.3026, Acc=0.1003, Val Loss=2.3028, Val Acc=0.0925\n",
      "Epoch 7/10: Loss=2.3026, Acc=0.1005, Val Loss=2.3028, Val Acc=0.0925\n",
      "Epoch 8/10: Loss=2.3026, Acc=0.1001, Val Loss=2.3028, Val Acc=0.0925\n",
      "Epoch 9/10: Loss=2.3026, Acc=0.1005, Val Loss=2.3028, Val Acc=0.0925\n",
      "Epoch 10/10: Loss=2.3026, Acc=0.1002, Val Loss=2.3028, Val Acc=0.0925\n"
     ]
    },
    {
     "data": {
      "application/vnd.jupyter.widget-view+json": {
       "model_id": "ef32ba9b6f2a4db89ab265929dffa0c8",
       "version_major": 2,
       "version_minor": 0
      },
      "text/plain": [
       "VBox(children=(Label(value='0.001 MB of 0.001 MB uploaded\\r'), FloatProgress(value=1.0, max=1.0)))"
      ]
     },
     "metadata": {},
     "output_type": "display_data"
    },
    {
     "data": {
      "text/html": [
       "<style>\n",
       "    table.wandb td:nth-child(1) { padding: 0 10px; text-align: left ; width: auto;} td:nth-child(2) {text-align: left ; width: 100%}\n",
       "    .wandb-row { display: flex; flex-direction: row; flex-wrap: wrap; justify-content: flex-start; width: 100% }\n",
       "    .wandb-col { display: flex; flex-direction: column; flex-basis: 100%; flex: 1; padding: 10px; }\n",
       "    </style>\n",
       "<div class=\"wandb-row\"><div class=\"wandb-col\"><h3>Run history:</h3><br/><table class=\"wandb\"><tr><td>accuracy</td><td>▁▂█▅▆▇█▇█▇</td></tr><tr><td>epoch</td><td>▁▂▃▃▄▅▆▆▇█</td></tr><tr><td>final_val_accuracy</td><td>▁</td></tr><tr><td>final_val_loss</td><td>▁</td></tr><tr><td>loss</td><td>█▅▂▁▂▂▂▁▁▂</td></tr><tr><td>val_accuracy</td><td>▁▁▁▁▁▁▁▁▁▁</td></tr><tr><td>val_loss</td><td>▁▃▅▆▆▇▇███</td></tr></table><br/></div><div class=\"wandb-col\"><h3>Run summary:</h3><br/><table class=\"wandb\"><tr><td>accuracy</td><td>0.10024</td></tr><tr><td>epoch</td><td>10</td></tr><tr><td>final_val_accuracy</td><td>0.0925</td></tr><tr><td>final_val_loss</td><td>2.30278</td></tr><tr><td>loss</td><td>2.3026</td></tr><tr><td>val_accuracy</td><td>0.0925</td></tr><tr><td>val_loss</td><td>2.30278</td></tr></table><br/></div></div>"
      ],
      "text/plain": [
       "<IPython.core.display.HTML object>"
      ]
     },
     "metadata": {},
     "output_type": "display_data"
    },
    {
     "data": {
      "text/html": [
       " View run <strong style=\"color:#cdcd00\">zany-sweep-5</strong> at: <a href='https://wandb.ai/da24m016-indian-institute-of-technology-madras/DL_Assignment_01/runs/bb3ijrb9' target=\"_blank\">https://wandb.ai/da24m016-indian-institute-of-technology-madras/DL_Assignment_01/runs/bb3ijrb9</a><br/>Synced 5 W&B file(s), 0 media file(s), 0 artifact file(s) and 0 other file(s)"
      ],
      "text/plain": [
       "<IPython.core.display.HTML object>"
      ]
     },
     "metadata": {},
     "output_type": "display_data"
    },
    {
     "data": {
      "text/html": [
       "Find logs at: <code>.\\wandb\\run-20250308_042749-bb3ijrb9\\logs</code>"
      ],
      "text/plain": [
       "<IPython.core.display.HTML object>"
      ]
     },
     "metadata": {},
     "output_type": "display_data"
    },
    {
     "name": "stderr",
     "output_type": "stream",
     "text": [
      "\u001b[34m\u001b[1mwandb\u001b[0m: Sweep Agent: Waiting for job.\n",
      "\u001b[34m\u001b[1mwandb\u001b[0m: Job received.\n",
      "\u001b[34m\u001b[1mwandb\u001b[0m: Agent Starting Run: e9a4zmwe with config:\n",
      "\u001b[34m\u001b[1mwandb\u001b[0m: \tactivation: relu\n",
      "\u001b[34m\u001b[1mwandb\u001b[0m: \tbatch_size: 64\n",
      "\u001b[34m\u001b[1mwandb\u001b[0m: \tepochs: 5\n",
      "\u001b[34m\u001b[1mwandb\u001b[0m: \thidden_size: 128\n",
      "\u001b[34m\u001b[1mwandb\u001b[0m: \tlearning_rate: 0.0001\n",
      "\u001b[34m\u001b[1mwandb\u001b[0m: \tnum_layers: 3\n",
      "\u001b[34m\u001b[1mwandb\u001b[0m: \toptimizer: momentum\n",
      "\u001b[34m\u001b[1mwandb\u001b[0m: \tweight_decay: 0.0005\n",
      "\u001b[34m\u001b[1mwandb\u001b[0m: \tweight_init: xavier\n",
      "Failed to detect the name of this notebook, you can set it manually with the WANDB_NOTEBOOK_NAME environment variable to enable code saving.\n"
     ]
    },
    {
     "data": {
      "text/html": [
       "wandb version 0.19.8 is available!  To upgrade, please run:\n",
       " $ pip install wandb --upgrade"
      ],
      "text/plain": [
       "<IPython.core.display.HTML object>"
      ]
     },
     "metadata": {},
     "output_type": "display_data"
    },
    {
     "data": {
      "text/html": [
       "Tracking run with wandb version 0.16.1"
      ],
      "text/plain": [
       "<IPython.core.display.HTML object>"
      ]
     },
     "metadata": {},
     "output_type": "display_data"
    },
    {
     "data": {
      "text/html": [
       "Run data is saved locally in <code>c:\\Users\\D. Sai Mani Kumar\\Downloads\\DL\\da6401_assignment1\\wandb\\run-20250308_042841-e9a4zmwe</code>"
      ],
      "text/plain": [
       "<IPython.core.display.HTML object>"
      ]
     },
     "metadata": {},
     "output_type": "display_data"
    },
    {
     "data": {
      "text/html": [
       "Syncing run <strong><a href='https://wandb.ai/da24m016-indian-institute-of-technology-madras/DL_Assignment_01/runs/e9a4zmwe' target=\"_blank\">fearless-sweep-6</a></strong> to <a href='https://wandb.ai/da24m016-indian-institute-of-technology-madras/DL_Assignment_01' target=\"_blank\">Weights & Biases</a> (<a href='https://wandb.me/run' target=\"_blank\">docs</a>)<br/>Sweep page: <a href='https://wandb.ai/da24m016-indian-institute-of-technology-madras/DL_Assignment_01/sweeps/pu8149xm' target=\"_blank\">https://wandb.ai/da24m016-indian-institute-of-technology-madras/DL_Assignment_01/sweeps/pu8149xm</a>"
      ],
      "text/plain": [
       "<IPython.core.display.HTML object>"
      ]
     },
     "metadata": {},
     "output_type": "display_data"
    },
    {
     "data": {
      "text/html": [
       " View project at <a href='https://wandb.ai/da24m016-indian-institute-of-technology-madras/DL_Assignment_01' target=\"_blank\">https://wandb.ai/da24m016-indian-institute-of-technology-madras/DL_Assignment_01</a>"
      ],
      "text/plain": [
       "<IPython.core.display.HTML object>"
      ]
     },
     "metadata": {},
     "output_type": "display_data"
    },
    {
     "data": {
      "text/html": [
       " View sweep at <a href='https://wandb.ai/da24m016-indian-institute-of-technology-madras/DL_Assignment_01/sweeps/pu8149xm' target=\"_blank\">https://wandb.ai/da24m016-indian-institute-of-technology-madras/DL_Assignment_01/sweeps/pu8149xm</a>"
      ],
      "text/plain": [
       "<IPython.core.display.HTML object>"
      ]
     },
     "metadata": {},
     "output_type": "display_data"
    },
    {
     "data": {
      "text/html": [
       " View run at <a href='https://wandb.ai/da24m016-indian-institute-of-technology-madras/DL_Assignment_01/runs/e9a4zmwe' target=\"_blank\">https://wandb.ai/da24m016-indian-institute-of-technology-madras/DL_Assignment_01/runs/e9a4zmwe</a>"
      ],
      "text/plain": [
       "<IPython.core.display.HTML object>"
      ]
     },
     "metadata": {},
     "output_type": "display_data"
    },
    {
     "name": "stdout",
     "output_type": "stream",
     "text": [
      "Epoch 1/5: Loss=2.0056, Acc=0.3787, Val Loss=1.6844, Val Acc=0.5960\n",
      "Epoch 2/5: Loss=1.4128, Acc=0.6239, Val Loss=1.1644, Val Acc=0.6587\n",
      "Epoch 3/5: Loss=1.0375, Acc=0.6661, Val Loss=0.9165, Val Acc=0.6923\n",
      "Epoch 4/5: Loss=0.8709, Acc=0.6978, Val Loss=0.8065, Val Acc=0.7210\n",
      "Epoch 5/5: Loss=0.7878, Acc=0.7211, Val Loss=0.7437, Val Acc=0.7397\n"
     ]
    },
    {
     "data": {
      "application/vnd.jupyter.widget-view+json": {
       "model_id": "b51cdd578e8843cd898b73bd447ea49e",
       "version_major": 2,
       "version_minor": 0
      },
      "text/plain": [
       "VBox(children=(Label(value='0.001 MB of 0.012 MB uploaded\\r'), FloatProgress(value=0.11438971499380421, max=1.…"
      ]
     },
     "metadata": {},
     "output_type": "display_data"
    },
    {
     "data": {
      "text/html": [
       "<style>\n",
       "    table.wandb td:nth-child(1) { padding: 0 10px; text-align: left ; width: auto;} td:nth-child(2) {text-align: left ; width: 100%}\n",
       "    .wandb-row { display: flex; flex-direction: row; flex-wrap: wrap; justify-content: flex-start; width: 100% }\n",
       "    .wandb-col { display: flex; flex-direction: column; flex-basis: 100%; flex: 1; padding: 10px; }\n",
       "    </style>\n",
       "<div class=\"wandb-row\"><div class=\"wandb-col\"><h3>Run history:</h3><br/><table class=\"wandb\"><tr><td>accuracy</td><td>▁▆▇██</td></tr><tr><td>epoch</td><td>▁▃▅▆█</td></tr><tr><td>final_val_accuracy</td><td>▁</td></tr><tr><td>final_val_loss</td><td>▁</td></tr><tr><td>loss</td><td>█▅▂▁▁</td></tr><tr><td>val_accuracy</td><td>▁▄▆▇█</td></tr><tr><td>val_loss</td><td>█▄▂▁▁</td></tr></table><br/></div><div class=\"wandb-col\"><h3>Run summary:</h3><br/><table class=\"wandb\"><tr><td>accuracy</td><td>0.7211</td></tr><tr><td>epoch</td><td>5</td></tr><tr><td>final_val_accuracy</td><td>0.73967</td></tr><tr><td>final_val_loss</td><td>0.74372</td></tr><tr><td>loss</td><td>0.78775</td></tr><tr><td>val_accuracy</td><td>0.73967</td></tr><tr><td>val_loss</td><td>0.74372</td></tr></table><br/></div></div>"
      ],
      "text/plain": [
       "<IPython.core.display.HTML object>"
      ]
     },
     "metadata": {},
     "output_type": "display_data"
    },
    {
     "data": {
      "text/html": [
       " View run <strong style=\"color:#cdcd00\">fearless-sweep-6</strong> at: <a href='https://wandb.ai/da24m016-indian-institute-of-technology-madras/DL_Assignment_01/runs/e9a4zmwe' target=\"_blank\">https://wandb.ai/da24m016-indian-institute-of-technology-madras/DL_Assignment_01/runs/e9a4zmwe</a><br/>Synced 5 W&B file(s), 0 media file(s), 0 artifact file(s) and 0 other file(s)"
      ],
      "text/plain": [
       "<IPython.core.display.HTML object>"
      ]
     },
     "metadata": {},
     "output_type": "display_data"
    },
    {
     "data": {
      "text/html": [
       "Find logs at: <code>.\\wandb\\run-20250308_042841-e9a4zmwe\\logs</code>"
      ],
      "text/plain": [
       "<IPython.core.display.HTML object>"
      ]
     },
     "metadata": {},
     "output_type": "display_data"
    },
    {
     "name": "stderr",
     "output_type": "stream",
     "text": [
      "\u001b[34m\u001b[1mwandb\u001b[0m: Agent Starting Run: p3e0uwtz with config:\n",
      "\u001b[34m\u001b[1mwandb\u001b[0m: \tactivation: relu\n",
      "\u001b[34m\u001b[1mwandb\u001b[0m: \tbatch_size: 64\n",
      "\u001b[34m\u001b[1mwandb\u001b[0m: \tepochs: 5\n",
      "\u001b[34m\u001b[1mwandb\u001b[0m: \thidden_size: 128\n",
      "\u001b[34m\u001b[1mwandb\u001b[0m: \tlearning_rate: 0.0001\n",
      "\u001b[34m\u001b[1mwandb\u001b[0m: \tnum_layers: 3\n",
      "\u001b[34m\u001b[1mwandb\u001b[0m: \toptimizer: sgd\n",
      "\u001b[34m\u001b[1mwandb\u001b[0m: \tweight_decay: 0\n",
      "\u001b[34m\u001b[1mwandb\u001b[0m: \tweight_init: random\n",
      "Failed to detect the name of this notebook, you can set it manually with the WANDB_NOTEBOOK_NAME environment variable to enable code saving.\n"
     ]
    },
    {
     "data": {
      "text/html": [
       "wandb version 0.19.8 is available!  To upgrade, please run:\n",
       " $ pip install wandb --upgrade"
      ],
      "text/plain": [
       "<IPython.core.display.HTML object>"
      ]
     },
     "metadata": {},
     "output_type": "display_data"
    },
    {
     "data": {
      "text/html": [
       "Tracking run with wandb version 0.16.1"
      ],
      "text/plain": [
       "<IPython.core.display.HTML object>"
      ]
     },
     "metadata": {},
     "output_type": "display_data"
    },
    {
     "data": {
      "text/html": [
       "Run data is saved locally in <code>c:\\Users\\D. Sai Mani Kumar\\Downloads\\DL\\da6401_assignment1\\wandb\\run-20250308_042908-p3e0uwtz</code>"
      ],
      "text/plain": [
       "<IPython.core.display.HTML object>"
      ]
     },
     "metadata": {},
     "output_type": "display_data"
    },
    {
     "data": {
      "text/html": [
       "Syncing run <strong><a href='https://wandb.ai/da24m016-indian-institute-of-technology-madras/DL_Assignment_01/runs/p3e0uwtz' target=\"_blank\">morning-sweep-7</a></strong> to <a href='https://wandb.ai/da24m016-indian-institute-of-technology-madras/DL_Assignment_01' target=\"_blank\">Weights & Biases</a> (<a href='https://wandb.me/run' target=\"_blank\">docs</a>)<br/>Sweep page: <a href='https://wandb.ai/da24m016-indian-institute-of-technology-madras/DL_Assignment_01/sweeps/pu8149xm' target=\"_blank\">https://wandb.ai/da24m016-indian-institute-of-technology-madras/DL_Assignment_01/sweeps/pu8149xm</a>"
      ],
      "text/plain": [
       "<IPython.core.display.HTML object>"
      ]
     },
     "metadata": {},
     "output_type": "display_data"
    },
    {
     "data": {
      "text/html": [
       " View project at <a href='https://wandb.ai/da24m016-indian-institute-of-technology-madras/DL_Assignment_01' target=\"_blank\">https://wandb.ai/da24m016-indian-institute-of-technology-madras/DL_Assignment_01</a>"
      ],
      "text/plain": [
       "<IPython.core.display.HTML object>"
      ]
     },
     "metadata": {},
     "output_type": "display_data"
    },
    {
     "data": {
      "text/html": [
       " View sweep at <a href='https://wandb.ai/da24m016-indian-institute-of-technology-madras/DL_Assignment_01/sweeps/pu8149xm' target=\"_blank\">https://wandb.ai/da24m016-indian-institute-of-technology-madras/DL_Assignment_01/sweeps/pu8149xm</a>"
      ],
      "text/plain": [
       "<IPython.core.display.HTML object>"
      ]
     },
     "metadata": {},
     "output_type": "display_data"
    },
    {
     "data": {
      "text/html": [
       " View run at <a href='https://wandb.ai/da24m016-indian-institute-of-technology-madras/DL_Assignment_01/runs/p3e0uwtz' target=\"_blank\">https://wandb.ai/da24m016-indian-institute-of-technology-madras/DL_Assignment_01/runs/p3e0uwtz</a>"
      ],
      "text/plain": [
       "<IPython.core.display.HTML object>"
      ]
     },
     "metadata": {},
     "output_type": "display_data"
    },
    {
     "name": "stdout",
     "output_type": "stream",
     "text": [
      "Epoch 1/5: Loss=2.3026, Acc=0.1050, Val Loss=2.3026, Val Acc=0.0948\n",
      "Epoch 2/5: Loss=2.3026, Acc=0.1092, Val Loss=2.3026, Val Acc=0.0987\n",
      "Epoch 3/5: Loss=2.3026, Acc=0.1314, Val Loss=2.3026, Val Acc=0.1095\n",
      "Epoch 4/5: Loss=2.3026, Acc=0.1056, Val Loss=2.3026, Val Acc=0.1252\n",
      "Epoch 5/5: Loss=2.3026, Acc=0.1183, Val Loss=2.3026, Val Acc=0.1417\n"
     ]
    },
    {
     "data": {
      "application/vnd.jupyter.widget-view+json": {
       "model_id": "eac46bb64fa148df90f1e4ed8363066a",
       "version_major": 2,
       "version_minor": 0
      },
      "text/plain": [
       "VBox(children=(Label(value='0.001 MB of 0.001 MB uploaded\\r'), FloatProgress(value=1.0, max=1.0)))"
      ]
     },
     "metadata": {},
     "output_type": "display_data"
    },
    {
     "data": {
      "text/html": [
       "<style>\n",
       "    table.wandb td:nth-child(1) { padding: 0 10px; text-align: left ; width: auto;} td:nth-child(2) {text-align: left ; width: 100%}\n",
       "    .wandb-row { display: flex; flex-direction: row; flex-wrap: wrap; justify-content: flex-start; width: 100% }\n",
       "    .wandb-col { display: flex; flex-direction: column; flex-basis: 100%; flex: 1; padding: 10px; }\n",
       "    </style>\n",
       "<div class=\"wandb-row\"><div class=\"wandb-col\"><h3>Run history:</h3><br/><table class=\"wandb\"><tr><td>accuracy</td><td>▁▂█▁▅</td></tr><tr><td>epoch</td><td>▁▃▅▆█</td></tr><tr><td>final_val_accuracy</td><td>▁</td></tr><tr><td>final_val_loss</td><td>▁</td></tr><tr><td>loss</td><td>█▆▅▃▁</td></tr><tr><td>val_accuracy</td><td>▁▂▃▆█</td></tr><tr><td>val_loss</td><td>█▅▁▁▁</td></tr></table><br/></div><div class=\"wandb-col\"><h3>Run summary:</h3><br/><table class=\"wandb\"><tr><td>accuracy</td><td>0.11827</td></tr><tr><td>epoch</td><td>5</td></tr><tr><td>final_val_accuracy</td><td>0.14167</td></tr><tr><td>final_val_loss</td><td>2.3026</td></tr><tr><td>loss</td><td>2.30259</td></tr><tr><td>val_accuracy</td><td>0.14167</td></tr><tr><td>val_loss</td><td>2.3026</td></tr></table><br/></div></div>"
      ],
      "text/plain": [
       "<IPython.core.display.HTML object>"
      ]
     },
     "metadata": {},
     "output_type": "display_data"
    },
    {
     "data": {
      "text/html": [
       " View run <strong style=\"color:#cdcd00\">morning-sweep-7</strong> at: <a href='https://wandb.ai/da24m016-indian-institute-of-technology-madras/DL_Assignment_01/runs/p3e0uwtz' target=\"_blank\">https://wandb.ai/da24m016-indian-institute-of-technology-madras/DL_Assignment_01/runs/p3e0uwtz</a><br/>Synced 5 W&B file(s), 0 media file(s), 0 artifact file(s) and 0 other file(s)"
      ],
      "text/plain": [
       "<IPython.core.display.HTML object>"
      ]
     },
     "metadata": {},
     "output_type": "display_data"
    },
    {
     "data": {
      "text/html": [
       "Find logs at: <code>.\\wandb\\run-20250308_042908-p3e0uwtz\\logs</code>"
      ],
      "text/plain": [
       "<IPython.core.display.HTML object>"
      ]
     },
     "metadata": {},
     "output_type": "display_data"
    },
    {
     "name": "stderr",
     "output_type": "stream",
     "text": [
      "\u001b[34m\u001b[1mwandb\u001b[0m: Agent Starting Run: l5brcx7g with config:\n",
      "\u001b[34m\u001b[1mwandb\u001b[0m: \tactivation: relu\n",
      "\u001b[34m\u001b[1mwandb\u001b[0m: \tbatch_size: 32\n",
      "\u001b[34m\u001b[1mwandb\u001b[0m: \tepochs: 10\n",
      "\u001b[34m\u001b[1mwandb\u001b[0m: \thidden_size: 128\n",
      "\u001b[34m\u001b[1mwandb\u001b[0m: \tlearning_rate: 0.0001\n",
      "\u001b[34m\u001b[1mwandb\u001b[0m: \tnum_layers: 4\n",
      "\u001b[34m\u001b[1mwandb\u001b[0m: \toptimizer: momentum\n",
      "\u001b[34m\u001b[1mwandb\u001b[0m: \tweight_decay: 0.0005\n",
      "\u001b[34m\u001b[1mwandb\u001b[0m: \tweight_init: xavier\n",
      "Failed to detect the name of this notebook, you can set it manually with the WANDB_NOTEBOOK_NAME environment variable to enable code saving.\n"
     ]
    },
    {
     "data": {
      "text/html": [
       "wandb version 0.19.8 is available!  To upgrade, please run:\n",
       " $ pip install wandb --upgrade"
      ],
      "text/plain": [
       "<IPython.core.display.HTML object>"
      ]
     },
     "metadata": {},
     "output_type": "display_data"
    },
    {
     "data": {
      "text/html": [
       "Tracking run with wandb version 0.16.1"
      ],
      "text/plain": [
       "<IPython.core.display.HTML object>"
      ]
     },
     "metadata": {},
     "output_type": "display_data"
    },
    {
     "data": {
      "text/html": [
       "Run data is saved locally in <code>c:\\Users\\D. Sai Mani Kumar\\Downloads\\DL\\da6401_assignment1\\wandb\\run-20250308_042934-l5brcx7g</code>"
      ],
      "text/plain": [
       "<IPython.core.display.HTML object>"
      ]
     },
     "metadata": {},
     "output_type": "display_data"
    },
    {
     "data": {
      "text/html": [
       "Syncing run <strong><a href='https://wandb.ai/da24m016-indian-institute-of-technology-madras/DL_Assignment_01/runs/l5brcx7g' target=\"_blank\">happy-sweep-8</a></strong> to <a href='https://wandb.ai/da24m016-indian-institute-of-technology-madras/DL_Assignment_01' target=\"_blank\">Weights & Biases</a> (<a href='https://wandb.me/run' target=\"_blank\">docs</a>)<br/>Sweep page: <a href='https://wandb.ai/da24m016-indian-institute-of-technology-madras/DL_Assignment_01/sweeps/pu8149xm' target=\"_blank\">https://wandb.ai/da24m016-indian-institute-of-technology-madras/DL_Assignment_01/sweeps/pu8149xm</a>"
      ],
      "text/plain": [
       "<IPython.core.display.HTML object>"
      ]
     },
     "metadata": {},
     "output_type": "display_data"
    },
    {
     "data": {
      "text/html": [
       " View project at <a href='https://wandb.ai/da24m016-indian-institute-of-technology-madras/DL_Assignment_01' target=\"_blank\">https://wandb.ai/da24m016-indian-institute-of-technology-madras/DL_Assignment_01</a>"
      ],
      "text/plain": [
       "<IPython.core.display.HTML object>"
      ]
     },
     "metadata": {},
     "output_type": "display_data"
    },
    {
     "data": {
      "text/html": [
       " View sweep at <a href='https://wandb.ai/da24m016-indian-institute-of-technology-madras/DL_Assignment_01/sweeps/pu8149xm' target=\"_blank\">https://wandb.ai/da24m016-indian-institute-of-technology-madras/DL_Assignment_01/sweeps/pu8149xm</a>"
      ],
      "text/plain": [
       "<IPython.core.display.HTML object>"
      ]
     },
     "metadata": {},
     "output_type": "display_data"
    },
    {
     "data": {
      "text/html": [
       " View run at <a href='https://wandb.ai/da24m016-indian-institute-of-technology-madras/DL_Assignment_01/runs/l5brcx7g' target=\"_blank\">https://wandb.ai/da24m016-indian-institute-of-technology-madras/DL_Assignment_01/runs/l5brcx7g</a>"
      ],
      "text/plain": [
       "<IPython.core.display.HTML object>"
      ]
     },
     "metadata": {},
     "output_type": "display_data"
    },
    {
     "name": "stdout",
     "output_type": "stream",
     "text": [
      "Epoch 1/10: Loss=2.0016, Acc=0.3362, Val Loss=1.5218, Val Acc=0.5260\n",
      "Epoch 2/10: Loss=1.1430, Acc=0.6355, Val Loss=0.8952, Val Acc=0.6937\n",
      "Epoch 3/10: Loss=0.8205, Acc=0.7090, Val Loss=0.7415, Val Acc=0.7385\n",
      "Epoch 4/10: Loss=0.7133, Acc=0.7474, Val Loss=0.6686, Val Acc=0.7563\n",
      "Epoch 5/10: Loss=0.6513, Acc=0.7732, Val Loss=0.6235, Val Acc=0.7770\n",
      "Epoch 6/10: Loss=0.6087, Acc=0.7879, Val Loss=0.5860, Val Acc=0.7965\n",
      "Epoch 7/10: Loss=0.5775, Acc=0.8003, Val Loss=0.5587, Val Acc=0.8037\n",
      "Epoch 8/10: Loss=0.5525, Acc=0.8085, Val Loss=0.5371, Val Acc=0.8125\n",
      "Epoch 9/10: Loss=0.5320, Acc=0.8146, Val Loss=0.5243, Val Acc=0.8180\n",
      "Epoch 10/10: Loss=0.5170, Acc=0.8202, Val Loss=0.5069, Val Acc=0.8225\n"
     ]
    },
    {
     "data": {
      "application/vnd.jupyter.widget-view+json": {
       "model_id": "81486a8a8d6a4e86af69cc44aadd0312",
       "version_major": 2,
       "version_minor": 0
      },
      "text/plain": [
       "VBox(children=(Label(value='0.001 MB of 0.001 MB uploaded\\r'), FloatProgress(value=1.0, max=1.0)))"
      ]
     },
     "metadata": {},
     "output_type": "display_data"
    },
    {
     "data": {
      "text/html": [
       "<style>\n",
       "    table.wandb td:nth-child(1) { padding: 0 10px; text-align: left ; width: auto;} td:nth-child(2) {text-align: left ; width: 100%}\n",
       "    .wandb-row { display: flex; flex-direction: row; flex-wrap: wrap; justify-content: flex-start; width: 100% }\n",
       "    .wandb-col { display: flex; flex-direction: column; flex-basis: 100%; flex: 1; padding: 10px; }\n",
       "    </style>\n",
       "<div class=\"wandb-row\"><div class=\"wandb-col\"><h3>Run history:</h3><br/><table class=\"wandb\"><tr><td>accuracy</td><td>▁▅▆▇▇█████</td></tr><tr><td>epoch</td><td>▁▂▃▃▄▅▆▆▇█</td></tr><tr><td>final_val_accuracy</td><td>▁</td></tr><tr><td>final_val_loss</td><td>▁</td></tr><tr><td>loss</td><td>█▄▂▂▂▁▁▁▁▁</td></tr><tr><td>val_accuracy</td><td>▁▅▆▆▇▇████</td></tr><tr><td>val_loss</td><td>█▄▃▂▂▂▁▁▁▁</td></tr></table><br/></div><div class=\"wandb-col\"><h3>Run summary:</h3><br/><table class=\"wandb\"><tr><td>accuracy</td><td>0.82017</td></tr><tr><td>epoch</td><td>10</td></tr><tr><td>final_val_accuracy</td><td>0.8225</td></tr><tr><td>final_val_loss</td><td>0.50694</td></tr><tr><td>loss</td><td>0.51699</td></tr><tr><td>val_accuracy</td><td>0.8225</td></tr><tr><td>val_loss</td><td>0.50694</td></tr></table><br/></div></div>"
      ],
      "text/plain": [
       "<IPython.core.display.HTML object>"
      ]
     },
     "metadata": {},
     "output_type": "display_data"
    },
    {
     "data": {
      "text/html": [
       " View run <strong style=\"color:#cdcd00\">happy-sweep-8</strong> at: <a href='https://wandb.ai/da24m016-indian-institute-of-technology-madras/DL_Assignment_01/runs/l5brcx7g' target=\"_blank\">https://wandb.ai/da24m016-indian-institute-of-technology-madras/DL_Assignment_01/runs/l5brcx7g</a><br/>Synced 5 W&B file(s), 0 media file(s), 0 artifact file(s) and 0 other file(s)"
      ],
      "text/plain": [
       "<IPython.core.display.HTML object>"
      ]
     },
     "metadata": {},
     "output_type": "display_data"
    },
    {
     "data": {
      "text/html": [
       "Find logs at: <code>.\\wandb\\run-20250308_042934-l5brcx7g\\logs</code>"
      ],
      "text/plain": [
       "<IPython.core.display.HTML object>"
      ]
     },
     "metadata": {},
     "output_type": "display_data"
    },
    {
     "name": "stderr",
     "output_type": "stream",
     "text": [
      "\u001b[34m\u001b[1mwandb\u001b[0m: Sweep Agent: Waiting for job.\n",
      "\u001b[34m\u001b[1mwandb\u001b[0m: Job received.\n",
      "\u001b[34m\u001b[1mwandb\u001b[0m: Agent Starting Run: 9su5rfok with config:\n",
      "\u001b[34m\u001b[1mwandb\u001b[0m: \tactivation: relu\n",
      "\u001b[34m\u001b[1mwandb\u001b[0m: \tbatch_size: 64\n",
      "\u001b[34m\u001b[1mwandb\u001b[0m: \tepochs: 10\n",
      "\u001b[34m\u001b[1mwandb\u001b[0m: \thidden_size: 128\n",
      "\u001b[34m\u001b[1mwandb\u001b[0m: \tlearning_rate: 0.0001\n",
      "\u001b[34m\u001b[1mwandb\u001b[0m: \tnum_layers: 4\n",
      "\u001b[34m\u001b[1mwandb\u001b[0m: \toptimizer: adam\n",
      "\u001b[34m\u001b[1mwandb\u001b[0m: \tweight_decay: 0.5\n",
      "\u001b[34m\u001b[1mwandb\u001b[0m: \tweight_init: xavier\n",
      "Failed to detect the name of this notebook, you can set it manually with the WANDB_NOTEBOOK_NAME environment variable to enable code saving.\n"
     ]
    },
    {
     "data": {
      "text/html": [
       "wandb version 0.19.8 is available!  To upgrade, please run:\n",
       " $ pip install wandb --upgrade"
      ],
      "text/plain": [
       "<IPython.core.display.HTML object>"
      ]
     },
     "metadata": {},
     "output_type": "display_data"
    },
    {
     "data": {
      "text/html": [
       "Tracking run with wandb version 0.16.1"
      ],
      "text/plain": [
       "<IPython.core.display.HTML object>"
      ]
     },
     "metadata": {},
     "output_type": "display_data"
    },
    {
     "data": {
      "text/html": [
       "Run data is saved locally in <code>c:\\Users\\D. Sai Mani Kumar\\Downloads\\DL\\da6401_assignment1\\wandb\\run-20250308_043121-9su5rfok</code>"
      ],
      "text/plain": [
       "<IPython.core.display.HTML object>"
      ]
     },
     "metadata": {},
     "output_type": "display_data"
    },
    {
     "data": {
      "text/html": [
       "Syncing run <strong><a href='https://wandb.ai/da24m016-indian-institute-of-technology-madras/DL_Assignment_01/runs/9su5rfok' target=\"_blank\">avid-sweep-9</a></strong> to <a href='https://wandb.ai/da24m016-indian-institute-of-technology-madras/DL_Assignment_01' target=\"_blank\">Weights & Biases</a> (<a href='https://wandb.me/run' target=\"_blank\">docs</a>)<br/>Sweep page: <a href='https://wandb.ai/da24m016-indian-institute-of-technology-madras/DL_Assignment_01/sweeps/pu8149xm' target=\"_blank\">https://wandb.ai/da24m016-indian-institute-of-technology-madras/DL_Assignment_01/sweeps/pu8149xm</a>"
      ],
      "text/plain": [
       "<IPython.core.display.HTML object>"
      ]
     },
     "metadata": {},
     "output_type": "display_data"
    },
    {
     "data": {
      "text/html": [
       " View project at <a href='https://wandb.ai/da24m016-indian-institute-of-technology-madras/DL_Assignment_01' target=\"_blank\">https://wandb.ai/da24m016-indian-institute-of-technology-madras/DL_Assignment_01</a>"
      ],
      "text/plain": [
       "<IPython.core.display.HTML object>"
      ]
     },
     "metadata": {},
     "output_type": "display_data"
    },
    {
     "data": {
      "text/html": [
       " View sweep at <a href='https://wandb.ai/da24m016-indian-institute-of-technology-madras/DL_Assignment_01/sweeps/pu8149xm' target=\"_blank\">https://wandb.ai/da24m016-indian-institute-of-technology-madras/DL_Assignment_01/sweeps/pu8149xm</a>"
      ],
      "text/plain": [
       "<IPython.core.display.HTML object>"
      ]
     },
     "metadata": {},
     "output_type": "display_data"
    },
    {
     "data": {
      "text/html": [
       " View run at <a href='https://wandb.ai/da24m016-indian-institute-of-technology-madras/DL_Assignment_01/runs/9su5rfok' target=\"_blank\">https://wandb.ai/da24m016-indian-institute-of-technology-madras/DL_Assignment_01/runs/9su5rfok</a>"
      ],
      "text/plain": [
       "<IPython.core.display.HTML object>"
      ]
     },
     "metadata": {},
     "output_type": "display_data"
    },
    {
     "name": "stdout",
     "output_type": "stream",
     "text": [
      "Epoch 1/10: Loss=2.2756, Acc=0.2617, Val Loss=2.2982, Val Acc=0.1488\n",
      "Epoch 2/10: Loss=2.3019, Acc=0.1125, Val Loss=2.3028, Val Acc=0.0942\n",
      "Epoch 3/10: Loss=2.3026, Acc=0.0996, Val Loss=2.3027, Val Acc=0.1003\n",
      "Epoch 4/10: Loss=2.3026, Acc=0.1000, Val Loss=2.3027, Val Acc=0.1003\n",
      "Epoch 5/10: Loss=2.3026, Acc=0.0999, Val Loss=2.3027, Val Acc=0.1003\n",
      "Epoch 6/10: Loss=2.3026, Acc=0.0993, Val Loss=2.3027, Val Acc=0.1003\n",
      "Epoch 7/10: Loss=2.3026, Acc=0.0995, Val Loss=2.3027, Val Acc=0.0925\n",
      "Epoch 8/10: Loss=2.3026, Acc=0.1000, Val Loss=2.3027, Val Acc=0.0925\n",
      "Epoch 9/10: Loss=2.3026, Acc=0.1005, Val Loss=2.3027, Val Acc=0.0925\n",
      "Epoch 10/10: Loss=2.3026, Acc=0.1008, Val Loss=2.3028, Val Acc=0.0925\n"
     ]
    },
    {
     "data": {
      "application/vnd.jupyter.widget-view+json": {
       "model_id": "f0325257c9564f6bb2d3b7f5c136e47d",
       "version_major": 2,
       "version_minor": 0
      },
      "text/plain": [
       "VBox(children=(Label(value='0.001 MB of 0.001 MB uploaded\\r'), FloatProgress(value=1.0, max=1.0)))"
      ]
     },
     "metadata": {},
     "output_type": "display_data"
    },
    {
     "data": {
      "text/html": [
       "<style>\n",
       "    table.wandb td:nth-child(1) { padding: 0 10px; text-align: left ; width: auto;} td:nth-child(2) {text-align: left ; width: 100%}\n",
       "    .wandb-row { display: flex; flex-direction: row; flex-wrap: wrap; justify-content: flex-start; width: 100% }\n",
       "    .wandb-col { display: flex; flex-direction: column; flex-basis: 100%; flex: 1; padding: 10px; }\n",
       "    </style>\n",
       "<div class=\"wandb-row\"><div class=\"wandb-col\"><h3>Run history:</h3><br/><table class=\"wandb\"><tr><td>accuracy</td><td>█▂▁▁▁▁▁▁▁▁</td></tr><tr><td>epoch</td><td>▁▂▃▃▄▅▆▆▇█</td></tr><tr><td>final_val_accuracy</td><td>▁</td></tr><tr><td>final_val_loss</td><td>▁</td></tr><tr><td>loss</td><td>▁█████████</td></tr><tr><td>val_accuracy</td><td>█▁▂▂▂▂▁▁▁▁</td></tr><tr><td>val_loss</td><td>▁█████████</td></tr></table><br/></div><div class=\"wandb-col\"><h3>Run summary:</h3><br/><table class=\"wandb\"><tr><td>accuracy</td><td>0.10085</td></tr><tr><td>epoch</td><td>10</td></tr><tr><td>final_val_accuracy</td><td>0.0925</td></tr><tr><td>final_val_loss</td><td>2.30275</td></tr><tr><td>loss</td><td>2.30259</td></tr><tr><td>val_accuracy</td><td>0.0925</td></tr><tr><td>val_loss</td><td>2.30275</td></tr></table><br/></div></div>"
      ],
      "text/plain": [
       "<IPython.core.display.HTML object>"
      ]
     },
     "metadata": {},
     "output_type": "display_data"
    },
    {
     "data": {
      "text/html": [
       " View run <strong style=\"color:#cdcd00\">avid-sweep-9</strong> at: <a href='https://wandb.ai/da24m016-indian-institute-of-technology-madras/DL_Assignment_01/runs/9su5rfok' target=\"_blank\">https://wandb.ai/da24m016-indian-institute-of-technology-madras/DL_Assignment_01/runs/9su5rfok</a><br/>Synced 5 W&B file(s), 0 media file(s), 0 artifact file(s) and 0 other file(s)"
      ],
      "text/plain": [
       "<IPython.core.display.HTML object>"
      ]
     },
     "metadata": {},
     "output_type": "display_data"
    },
    {
     "data": {
      "text/html": [
       "Find logs at: <code>.\\wandb\\run-20250308_043121-9su5rfok\\logs</code>"
      ],
      "text/plain": [
       "<IPython.core.display.HTML object>"
      ]
     },
     "metadata": {},
     "output_type": "display_data"
    },
    {
     "name": "stderr",
     "output_type": "stream",
     "text": [
      "\u001b[34m\u001b[1mwandb\u001b[0m: Agent Starting Run: l28oiyjw with config:\n",
      "\u001b[34m\u001b[1mwandb\u001b[0m: \tactivation: relu\n",
      "\u001b[34m\u001b[1mwandb\u001b[0m: \tbatch_size: 32\n",
      "\u001b[34m\u001b[1mwandb\u001b[0m: \tepochs: 5\n",
      "\u001b[34m\u001b[1mwandb\u001b[0m: \thidden_size: 128\n",
      "\u001b[34m\u001b[1mwandb\u001b[0m: \tlearning_rate: 0.0001\n",
      "\u001b[34m\u001b[1mwandb\u001b[0m: \tnum_layers: 3\n",
      "\u001b[34m\u001b[1mwandb\u001b[0m: \toptimizer: momentum\n",
      "\u001b[34m\u001b[1mwandb\u001b[0m: \tweight_decay: 0.0005\n",
      "\u001b[34m\u001b[1mwandb\u001b[0m: \tweight_init: xavier\n",
      "Failed to detect the name of this notebook, you can set it manually with the WANDB_NOTEBOOK_NAME environment variable to enable code saving.\n"
     ]
    },
    {
     "data": {
      "text/html": [
       "wandb version 0.19.8 is available!  To upgrade, please run:\n",
       " $ pip install wandb --upgrade"
      ],
      "text/plain": [
       "<IPython.core.display.HTML object>"
      ]
     },
     "metadata": {},
     "output_type": "display_data"
    },
    {
     "data": {
      "text/html": [
       "Tracking run with wandb version 0.16.1"
      ],
      "text/plain": [
       "<IPython.core.display.HTML object>"
      ]
     },
     "metadata": {},
     "output_type": "display_data"
    },
    {
     "data": {
      "text/html": [
       "Run data is saved locally in <code>c:\\Users\\D. Sai Mani Kumar\\Downloads\\DL\\da6401_assignment1\\wandb\\run-20250308_043236-l28oiyjw</code>"
      ],
      "text/plain": [
       "<IPython.core.display.HTML object>"
      ]
     },
     "metadata": {},
     "output_type": "display_data"
    },
    {
     "data": {
      "text/html": [
       "Syncing run <strong><a href='https://wandb.ai/da24m016-indian-institute-of-technology-madras/DL_Assignment_01/runs/l28oiyjw' target=\"_blank\">super-sweep-10</a></strong> to <a href='https://wandb.ai/da24m016-indian-institute-of-technology-madras/DL_Assignment_01' target=\"_blank\">Weights & Biases</a> (<a href='https://wandb.me/run' target=\"_blank\">docs</a>)<br/>Sweep page: <a href='https://wandb.ai/da24m016-indian-institute-of-technology-madras/DL_Assignment_01/sweeps/pu8149xm' target=\"_blank\">https://wandb.ai/da24m016-indian-institute-of-technology-madras/DL_Assignment_01/sweeps/pu8149xm</a>"
      ],
      "text/plain": [
       "<IPython.core.display.HTML object>"
      ]
     },
     "metadata": {},
     "output_type": "display_data"
    },
    {
     "data": {
      "text/html": [
       " View project at <a href='https://wandb.ai/da24m016-indian-institute-of-technology-madras/DL_Assignment_01' target=\"_blank\">https://wandb.ai/da24m016-indian-institute-of-technology-madras/DL_Assignment_01</a>"
      ],
      "text/plain": [
       "<IPython.core.display.HTML object>"
      ]
     },
     "metadata": {},
     "output_type": "display_data"
    },
    {
     "data": {
      "text/html": [
       " View sweep at <a href='https://wandb.ai/da24m016-indian-institute-of-technology-madras/DL_Assignment_01/sweeps/pu8149xm' target=\"_blank\">https://wandb.ai/da24m016-indian-institute-of-technology-madras/DL_Assignment_01/sweeps/pu8149xm</a>"
      ],
      "text/plain": [
       "<IPython.core.display.HTML object>"
      ]
     },
     "metadata": {},
     "output_type": "display_data"
    },
    {
     "data": {
      "text/html": [
       " View run at <a href='https://wandb.ai/da24m016-indian-institute-of-technology-madras/DL_Assignment_01/runs/l28oiyjw' target=\"_blank\">https://wandb.ai/da24m016-indian-institute-of-technology-madras/DL_Assignment_01/runs/l28oiyjw</a>"
      ],
      "text/plain": [
       "<IPython.core.display.HTML object>"
      ]
     },
     "metadata": {},
     "output_type": "display_data"
    },
    {
     "name": "stdout",
     "output_type": "stream",
     "text": [
      "Epoch 1/5: Loss=1.6941, Acc=0.4941, Val Loss=1.1267, Val Acc=0.6755\n",
      "Epoch 2/5: Loss=0.9371, Acc=0.6951, Val Loss=0.8017, Val Acc=0.7328\n",
      "Epoch 3/5: Loss=0.7554, Acc=0.7432, Val Loss=0.6974, Val Acc=0.7647\n",
      "Epoch 4/5: Loss=0.6734, Acc=0.7704, Val Loss=0.6358, Val Acc=0.7823\n",
      "Epoch 5/5: Loss=0.6202, Acc=0.7891, Val Loss=0.5927, Val Acc=0.7930\n"
     ]
    },
    {
     "data": {
      "application/vnd.jupyter.widget-view+json": {
       "model_id": "8678c465b08b4f3ab938cf3f644935df",
       "version_major": 2,
       "version_minor": 0
      },
      "text/plain": [
       "VBox(children=(Label(value='0.001 MB of 0.001 MB uploaded\\r'), FloatProgress(value=1.0, max=1.0)))"
      ]
     },
     "metadata": {},
     "output_type": "display_data"
    },
    {
     "data": {
      "text/html": [
       "<style>\n",
       "    table.wandb td:nth-child(1) { padding: 0 10px; text-align: left ; width: auto;} td:nth-child(2) {text-align: left ; width: 100%}\n",
       "    .wandb-row { display: flex; flex-direction: row; flex-wrap: wrap; justify-content: flex-start; width: 100% }\n",
       "    .wandb-col { display: flex; flex-direction: column; flex-basis: 100%; flex: 1; padding: 10px; }\n",
       "    </style>\n",
       "<div class=\"wandb-row\"><div class=\"wandb-col\"><h3>Run history:</h3><br/><table class=\"wandb\"><tr><td>accuracy</td><td>▁▆▇██</td></tr><tr><td>epoch</td><td>▁▃▅▆█</td></tr><tr><td>final_val_accuracy</td><td>▁</td></tr><tr><td>final_val_loss</td><td>▁</td></tr><tr><td>loss</td><td>█▃▂▁▁</td></tr><tr><td>val_accuracy</td><td>▁▄▆▇█</td></tr><tr><td>val_loss</td><td>█▄▂▂▁</td></tr></table><br/></div><div class=\"wandb-col\"><h3>Run summary:</h3><br/><table class=\"wandb\"><tr><td>accuracy</td><td>0.78912</td></tr><tr><td>epoch</td><td>5</td></tr><tr><td>final_val_accuracy</td><td>0.793</td></tr><tr><td>final_val_loss</td><td>0.59273</td></tr><tr><td>loss</td><td>0.62024</td></tr><tr><td>val_accuracy</td><td>0.793</td></tr><tr><td>val_loss</td><td>0.59273</td></tr></table><br/></div></div>"
      ],
      "text/plain": [
       "<IPython.core.display.HTML object>"
      ]
     },
     "metadata": {},
     "output_type": "display_data"
    },
    {
     "data": {
      "text/html": [
       " View run <strong style=\"color:#cdcd00\">super-sweep-10</strong> at: <a href='https://wandb.ai/da24m016-indian-institute-of-technology-madras/DL_Assignment_01/runs/l28oiyjw' target=\"_blank\">https://wandb.ai/da24m016-indian-institute-of-technology-madras/DL_Assignment_01/runs/l28oiyjw</a><br/>Synced 5 W&B file(s), 0 media file(s), 0 artifact file(s) and 0 other file(s)"
      ],
      "text/plain": [
       "<IPython.core.display.HTML object>"
      ]
     },
     "metadata": {},
     "output_type": "display_data"
    },
    {
     "data": {
      "text/html": [
       "Find logs at: <code>.\\wandb\\run-20250308_043236-l28oiyjw\\logs</code>"
      ],
      "text/plain": [
       "<IPython.core.display.HTML object>"
      ]
     },
     "metadata": {},
     "output_type": "display_data"
    },
    {
     "name": "stderr",
     "output_type": "stream",
     "text": [
      "\u001b[34m\u001b[1mwandb\u001b[0m: Agent Starting Run: 97bzlwqr with config:\n",
      "\u001b[34m\u001b[1mwandb\u001b[0m: \tactivation: tanh\n",
      "\u001b[34m\u001b[1mwandb\u001b[0m: \tbatch_size: 64\n",
      "\u001b[34m\u001b[1mwandb\u001b[0m: \tepochs: 5\n",
      "\u001b[34m\u001b[1mwandb\u001b[0m: \thidden_size: 128\n",
      "\u001b[34m\u001b[1mwandb\u001b[0m: \tlearning_rate: 0.0001\n",
      "\u001b[34m\u001b[1mwandb\u001b[0m: \tnum_layers: 5\n",
      "\u001b[34m\u001b[1mwandb\u001b[0m: \toptimizer: sgd\n",
      "\u001b[34m\u001b[1mwandb\u001b[0m: \tweight_decay: 0.0005\n",
      "\u001b[34m\u001b[1mwandb\u001b[0m: \tweight_init: xavier\n",
      "Failed to detect the name of this notebook, you can set it manually with the WANDB_NOTEBOOK_NAME environment variable to enable code saving.\n"
     ]
    },
    {
     "data": {
      "text/html": [
       "wandb version 0.19.8 is available!  To upgrade, please run:\n",
       " $ pip install wandb --upgrade"
      ],
      "text/plain": [
       "<IPython.core.display.HTML object>"
      ]
     },
     "metadata": {},
     "output_type": "display_data"
    },
    {
     "data": {
      "text/html": [
       "Tracking run with wandb version 0.16.1"
      ],
      "text/plain": [
       "<IPython.core.display.HTML object>"
      ]
     },
     "metadata": {},
     "output_type": "display_data"
    },
    {
     "data": {
      "text/html": [
       "Run data is saved locally in <code>c:\\Users\\D. Sai Mani Kumar\\Downloads\\DL\\da6401_assignment1\\wandb\\run-20250308_043329-97bzlwqr</code>"
      ],
      "text/plain": [
       "<IPython.core.display.HTML object>"
      ]
     },
     "metadata": {},
     "output_type": "display_data"
    },
    {
     "data": {
      "text/html": [
       "Syncing run <strong><a href='https://wandb.ai/da24m016-indian-institute-of-technology-madras/DL_Assignment_01/runs/97bzlwqr' target=\"_blank\">lively-sweep-11</a></strong> to <a href='https://wandb.ai/da24m016-indian-institute-of-technology-madras/DL_Assignment_01' target=\"_blank\">Weights & Biases</a> (<a href='https://wandb.me/run' target=\"_blank\">docs</a>)<br/>Sweep page: <a href='https://wandb.ai/da24m016-indian-institute-of-technology-madras/DL_Assignment_01/sweeps/pu8149xm' target=\"_blank\">https://wandb.ai/da24m016-indian-institute-of-technology-madras/DL_Assignment_01/sweeps/pu8149xm</a>"
      ],
      "text/plain": [
       "<IPython.core.display.HTML object>"
      ]
     },
     "metadata": {},
     "output_type": "display_data"
    },
    {
     "data": {
      "text/html": [
       " View project at <a href='https://wandb.ai/da24m016-indian-institute-of-technology-madras/DL_Assignment_01' target=\"_blank\">https://wandb.ai/da24m016-indian-institute-of-technology-madras/DL_Assignment_01</a>"
      ],
      "text/plain": [
       "<IPython.core.display.HTML object>"
      ]
     },
     "metadata": {},
     "output_type": "display_data"
    },
    {
     "data": {
      "text/html": [
       " View sweep at <a href='https://wandb.ai/da24m016-indian-institute-of-technology-madras/DL_Assignment_01/sweeps/pu8149xm' target=\"_blank\">https://wandb.ai/da24m016-indian-institute-of-technology-madras/DL_Assignment_01/sweeps/pu8149xm</a>"
      ],
      "text/plain": [
       "<IPython.core.display.HTML object>"
      ]
     },
     "metadata": {},
     "output_type": "display_data"
    },
    {
     "data": {
      "text/html": [
       " View run at <a href='https://wandb.ai/da24m016-indian-institute-of-technology-madras/DL_Assignment_01/runs/97bzlwqr' target=\"_blank\">https://wandb.ai/da24m016-indian-institute-of-technology-madras/DL_Assignment_01/runs/97bzlwqr</a>"
      ],
      "text/plain": [
       "<IPython.core.display.HTML object>"
      ]
     },
     "metadata": {},
     "output_type": "display_data"
    },
    {
     "name": "stdout",
     "output_type": "stream",
     "text": [
      "Epoch 1/5: Loss=2.1960, Acc=0.1753, Val Loss=2.0840, Val Acc=0.2487\n",
      "Epoch 2/5: Loss=1.9957, Acc=0.3135, Val Loss=1.9116, Val Acc=0.3978\n",
      "Epoch 3/5: Loss=1.8412, Acc=0.4353, Val Loss=1.7707, Val Acc=0.4785\n",
      "Epoch 4/5: Loss=1.7133, Acc=0.5003, Val Loss=1.6538, Val Acc=0.5258\n",
      "Epoch 5/5: Loss=1.6073, Acc=0.5381, Val Loss=1.5565, Val Acc=0.5537\n"
     ]
    },
    {
     "data": {
      "application/vnd.jupyter.widget-view+json": {
       "model_id": "351e5354f4df4b1399bce2311cfd35b7",
       "version_major": 2,
       "version_minor": 0
      },
      "text/plain": [
       "VBox(children=(Label(value='0.001 MB of 0.001 MB uploaded\\r'), FloatProgress(value=1.0, max=1.0)))"
      ]
     },
     "metadata": {},
     "output_type": "display_data"
    },
    {
     "data": {
      "text/html": [
       "<style>\n",
       "    table.wandb td:nth-child(1) { padding: 0 10px; text-align: left ; width: auto;} td:nth-child(2) {text-align: left ; width: 100%}\n",
       "    .wandb-row { display: flex; flex-direction: row; flex-wrap: wrap; justify-content: flex-start; width: 100% }\n",
       "    .wandb-col { display: flex; flex-direction: column; flex-basis: 100%; flex: 1; padding: 10px; }\n",
       "    </style>\n",
       "<div class=\"wandb-row\"><div class=\"wandb-col\"><h3>Run history:</h3><br/><table class=\"wandb\"><tr><td>accuracy</td><td>▁▄▆▇█</td></tr><tr><td>epoch</td><td>▁▃▅▆█</td></tr><tr><td>final_val_accuracy</td><td>▁</td></tr><tr><td>final_val_loss</td><td>▁</td></tr><tr><td>loss</td><td>█▆▄▂▁</td></tr><tr><td>val_accuracy</td><td>▁▄▆▇█</td></tr><tr><td>val_loss</td><td>█▆▄▂▁</td></tr></table><br/></div><div class=\"wandb-col\"><h3>Run summary:</h3><br/><table class=\"wandb\"><tr><td>accuracy</td><td>0.53815</td></tr><tr><td>epoch</td><td>5</td></tr><tr><td>final_val_accuracy</td><td>0.55367</td></tr><tr><td>final_val_loss</td><td>1.55648</td></tr><tr><td>loss</td><td>1.60733</td></tr><tr><td>val_accuracy</td><td>0.55367</td></tr><tr><td>val_loss</td><td>1.55648</td></tr></table><br/></div></div>"
      ],
      "text/plain": [
       "<IPython.core.display.HTML object>"
      ]
     },
     "metadata": {},
     "output_type": "display_data"
    },
    {
     "data": {
      "text/html": [
       " View run <strong style=\"color:#cdcd00\">lively-sweep-11</strong> at: <a href='https://wandb.ai/da24m016-indian-institute-of-technology-madras/DL_Assignment_01/runs/97bzlwqr' target=\"_blank\">https://wandb.ai/da24m016-indian-institute-of-technology-madras/DL_Assignment_01/runs/97bzlwqr</a><br/>Synced 5 W&B file(s), 0 media file(s), 0 artifact file(s) and 0 other file(s)"
      ],
      "text/plain": [
       "<IPython.core.display.HTML object>"
      ]
     },
     "metadata": {},
     "output_type": "display_data"
    },
    {
     "data": {
      "text/html": [
       "Find logs at: <code>.\\wandb\\run-20250308_043329-97bzlwqr\\logs</code>"
      ],
      "text/plain": [
       "<IPython.core.display.HTML object>"
      ]
     },
     "metadata": {},
     "output_type": "display_data"
    },
    {
     "name": "stderr",
     "output_type": "stream",
     "text": [
      "\u001b[34m\u001b[1mwandb\u001b[0m: Agent Starting Run: qax4nvez with config:\n",
      "\u001b[34m\u001b[1mwandb\u001b[0m: \tactivation: relu\n",
      "\u001b[34m\u001b[1mwandb\u001b[0m: \tbatch_size: 64\n",
      "\u001b[34m\u001b[1mwandb\u001b[0m: \tepochs: 5\n",
      "\u001b[34m\u001b[1mwandb\u001b[0m: \thidden_size: 128\n",
      "\u001b[34m\u001b[1mwandb\u001b[0m: \tlearning_rate: 0.0001\n",
      "\u001b[34m\u001b[1mwandb\u001b[0m: \tnum_layers: 4\n",
      "\u001b[34m\u001b[1mwandb\u001b[0m: \toptimizer: nesterov\n",
      "\u001b[34m\u001b[1mwandb\u001b[0m: \tweight_decay: 0.0005\n",
      "\u001b[34m\u001b[1mwandb\u001b[0m: \tweight_init: xavier\n",
      "Failed to detect the name of this notebook, you can set it manually with the WANDB_NOTEBOOK_NAME environment variable to enable code saving.\n"
     ]
    },
    {
     "data": {
      "text/html": [
       "wandb version 0.19.8 is available!  To upgrade, please run:\n",
       " $ pip install wandb --upgrade"
      ],
      "text/plain": [
       "<IPython.core.display.HTML object>"
      ]
     },
     "metadata": {},
     "output_type": "display_data"
    },
    {
     "data": {
      "text/html": [
       "Tracking run with wandb version 0.16.1"
      ],
      "text/plain": [
       "<IPython.core.display.HTML object>"
      ]
     },
     "metadata": {},
     "output_type": "display_data"
    },
    {
     "data": {
      "text/html": [
       "Run data is saved locally in <code>c:\\Users\\D. Sai Mani Kumar\\Downloads\\DL\\da6401_assignment1\\wandb\\run-20250308_043407-qax4nvez</code>"
      ],
      "text/plain": [
       "<IPython.core.display.HTML object>"
      ]
     },
     "metadata": {},
     "output_type": "display_data"
    },
    {
     "data": {
      "text/html": [
       "Syncing run <strong><a href='https://wandb.ai/da24m016-indian-institute-of-technology-madras/DL_Assignment_01/runs/qax4nvez' target=\"_blank\">ethereal-sweep-12</a></strong> to <a href='https://wandb.ai/da24m016-indian-institute-of-technology-madras/DL_Assignment_01' target=\"_blank\">Weights & Biases</a> (<a href='https://wandb.me/run' target=\"_blank\">docs</a>)<br/>Sweep page: <a href='https://wandb.ai/da24m016-indian-institute-of-technology-madras/DL_Assignment_01/sweeps/pu8149xm' target=\"_blank\">https://wandb.ai/da24m016-indian-institute-of-technology-madras/DL_Assignment_01/sweeps/pu8149xm</a>"
      ],
      "text/plain": [
       "<IPython.core.display.HTML object>"
      ]
     },
     "metadata": {},
     "output_type": "display_data"
    },
    {
     "data": {
      "text/html": [
       " View project at <a href='https://wandb.ai/da24m016-indian-institute-of-technology-madras/DL_Assignment_01' target=\"_blank\">https://wandb.ai/da24m016-indian-institute-of-technology-madras/DL_Assignment_01</a>"
      ],
      "text/plain": [
       "<IPython.core.display.HTML object>"
      ]
     },
     "metadata": {},
     "output_type": "display_data"
    },
    {
     "data": {
      "text/html": [
       " View sweep at <a href='https://wandb.ai/da24m016-indian-institute-of-technology-madras/DL_Assignment_01/sweeps/pu8149xm' target=\"_blank\">https://wandb.ai/da24m016-indian-institute-of-technology-madras/DL_Assignment_01/sweeps/pu8149xm</a>"
      ],
      "text/plain": [
       "<IPython.core.display.HTML object>"
      ]
     },
     "metadata": {},
     "output_type": "display_data"
    },
    {
     "data": {
      "text/html": [
       " View run at <a href='https://wandb.ai/da24m016-indian-institute-of-technology-madras/DL_Assignment_01/runs/qax4nvez' target=\"_blank\">https://wandb.ai/da24m016-indian-institute-of-technology-madras/DL_Assignment_01/runs/qax4nvez</a>"
      ],
      "text/plain": [
       "<IPython.core.display.HTML object>"
      ]
     },
     "metadata": {},
     "output_type": "display_data"
    },
    {
     "name": "stdout",
     "output_type": "stream",
     "text": [
      "Epoch 1/5: Loss=2.1527, Acc=0.3143, Val Loss=1.9427, Val Acc=0.4903\n",
      "Epoch 2/5: Loss=1.6328, Acc=0.5507, Val Loss=1.3091, Val Acc=0.6282\n",
      "Epoch 3/5: Loss=1.1279, Acc=0.6432, Val Loss=0.9700, Val Acc=0.6677\n",
      "Epoch 4/5: Loss=0.9036, Acc=0.6846, Val Loss=0.8248, Val Acc=0.7008\n",
      "Epoch 5/5: Loss=0.7984, Acc=0.7175, Val Loss=0.7521, Val Acc=0.7257\n"
     ]
    },
    {
     "data": {
      "application/vnd.jupyter.widget-view+json": {
       "model_id": "ddc631f80c384c6392ff4e1b4a619e15",
       "version_major": 2,
       "version_minor": 0
      },
      "text/plain": [
       "VBox(children=(Label(value='0.001 MB of 0.001 MB uploaded\\r'), FloatProgress(value=1.0, max=1.0)))"
      ]
     },
     "metadata": {},
     "output_type": "display_data"
    },
    {
     "data": {
      "text/html": [
       "<style>\n",
       "    table.wandb td:nth-child(1) { padding: 0 10px; text-align: left ; width: auto;} td:nth-child(2) {text-align: left ; width: 100%}\n",
       "    .wandb-row { display: flex; flex-direction: row; flex-wrap: wrap; justify-content: flex-start; width: 100% }\n",
       "    .wandb-col { display: flex; flex-direction: column; flex-basis: 100%; flex: 1; padding: 10px; }\n",
       "    </style>\n",
       "<div class=\"wandb-row\"><div class=\"wandb-col\"><h3>Run history:</h3><br/><table class=\"wandb\"><tr><td>accuracy</td><td>▁▅▇▇█</td></tr><tr><td>epoch</td><td>▁▃▅▆█</td></tr><tr><td>final_val_accuracy</td><td>▁</td></tr><tr><td>final_val_loss</td><td>▁</td></tr><tr><td>loss</td><td>█▅▃▂▁</td></tr><tr><td>val_accuracy</td><td>▁▅▆▇█</td></tr><tr><td>val_loss</td><td>█▄▂▁▁</td></tr></table><br/></div><div class=\"wandb-col\"><h3>Run summary:</h3><br/><table class=\"wandb\"><tr><td>accuracy</td><td>0.71749</td></tr><tr><td>epoch</td><td>5</td></tr><tr><td>final_val_accuracy</td><td>0.72567</td></tr><tr><td>final_val_loss</td><td>0.75213</td></tr><tr><td>loss</td><td>0.79836</td></tr><tr><td>val_accuracy</td><td>0.72567</td></tr><tr><td>val_loss</td><td>0.75213</td></tr></table><br/></div></div>"
      ],
      "text/plain": [
       "<IPython.core.display.HTML object>"
      ]
     },
     "metadata": {},
     "output_type": "display_data"
    },
    {
     "data": {
      "text/html": [
       " View run <strong style=\"color:#cdcd00\">ethereal-sweep-12</strong> at: <a href='https://wandb.ai/da24m016-indian-institute-of-technology-madras/DL_Assignment_01/runs/qax4nvez' target=\"_blank\">https://wandb.ai/da24m016-indian-institute-of-technology-madras/DL_Assignment_01/runs/qax4nvez</a><br/>Synced 5 W&B file(s), 0 media file(s), 0 artifact file(s) and 0 other file(s)"
      ],
      "text/plain": [
       "<IPython.core.display.HTML object>"
      ]
     },
     "metadata": {},
     "output_type": "display_data"
    },
    {
     "data": {
      "text/html": [
       "Find logs at: <code>.\\wandb\\run-20250308_043407-qax4nvez\\logs</code>"
      ],
      "text/plain": [
       "<IPython.core.display.HTML object>"
      ]
     },
     "metadata": {},
     "output_type": "display_data"
    },
    {
     "name": "stderr",
     "output_type": "stream",
     "text": [
      "\u001b[34m\u001b[1mwandb\u001b[0m: Agent Starting Run: n94e72ut with config:\n",
      "\u001b[34m\u001b[1mwandb\u001b[0m: \tactivation: relu\n",
      "\u001b[34m\u001b[1mwandb\u001b[0m: \tbatch_size: 32\n",
      "\u001b[34m\u001b[1mwandb\u001b[0m: \tepochs: 10\n",
      "\u001b[34m\u001b[1mwandb\u001b[0m: \thidden_size: 128\n",
      "\u001b[34m\u001b[1mwandb\u001b[0m: \tlearning_rate: 0.0001\n",
      "\u001b[34m\u001b[1mwandb\u001b[0m: \tnum_layers: 3\n",
      "\u001b[34m\u001b[1mwandb\u001b[0m: \toptimizer: momentum\n",
      "\u001b[34m\u001b[1mwandb\u001b[0m: \tweight_decay: 0.5\n",
      "\u001b[34m\u001b[1mwandb\u001b[0m: \tweight_init: xavier\n",
      "Failed to detect the name of this notebook, you can set it manually with the WANDB_NOTEBOOK_NAME environment variable to enable code saving.\n"
     ]
    },
    {
     "data": {
      "text/html": [
       "wandb version 0.19.8 is available!  To upgrade, please run:\n",
       " $ pip install wandb --upgrade"
      ],
      "text/plain": [
       "<IPython.core.display.HTML object>"
      ]
     },
     "metadata": {},
     "output_type": "display_data"
    },
    {
     "data": {
      "text/html": [
       "Tracking run with wandb version 0.16.1"
      ],
      "text/plain": [
       "<IPython.core.display.HTML object>"
      ]
     },
     "metadata": {},
     "output_type": "display_data"
    },
    {
     "data": {
      "text/html": [
       "Run data is saved locally in <code>c:\\Users\\D. Sai Mani Kumar\\Downloads\\DL\\da6401_assignment1\\wandb\\run-20250308_043445-n94e72ut</code>"
      ],
      "text/plain": [
       "<IPython.core.display.HTML object>"
      ]
     },
     "metadata": {},
     "output_type": "display_data"
    },
    {
     "data": {
      "text/html": [
       "Syncing run <strong><a href='https://wandb.ai/da24m016-indian-institute-of-technology-madras/DL_Assignment_01/runs/n94e72ut' target=\"_blank\">snowy-sweep-13</a></strong> to <a href='https://wandb.ai/da24m016-indian-institute-of-technology-madras/DL_Assignment_01' target=\"_blank\">Weights & Biases</a> (<a href='https://wandb.me/run' target=\"_blank\">docs</a>)<br/>Sweep page: <a href='https://wandb.ai/da24m016-indian-institute-of-technology-madras/DL_Assignment_01/sweeps/pu8149xm' target=\"_blank\">https://wandb.ai/da24m016-indian-institute-of-technology-madras/DL_Assignment_01/sweeps/pu8149xm</a>"
      ],
      "text/plain": [
       "<IPython.core.display.HTML object>"
      ]
     },
     "metadata": {},
     "output_type": "display_data"
    },
    {
     "data": {
      "text/html": [
       " View project at <a href='https://wandb.ai/da24m016-indian-institute-of-technology-madras/DL_Assignment_01' target=\"_blank\">https://wandb.ai/da24m016-indian-institute-of-technology-madras/DL_Assignment_01</a>"
      ],
      "text/plain": [
       "<IPython.core.display.HTML object>"
      ]
     },
     "metadata": {},
     "output_type": "display_data"
    },
    {
     "data": {
      "text/html": [
       " View sweep at <a href='https://wandb.ai/da24m016-indian-institute-of-technology-madras/DL_Assignment_01/sweeps/pu8149xm' target=\"_blank\">https://wandb.ai/da24m016-indian-institute-of-technology-madras/DL_Assignment_01/sweeps/pu8149xm</a>"
      ],
      "text/plain": [
       "<IPython.core.display.HTML object>"
      ]
     },
     "metadata": {},
     "output_type": "display_data"
    },
    {
     "data": {
      "text/html": [
       " View run at <a href='https://wandb.ai/da24m016-indian-institute-of-technology-madras/DL_Assignment_01/runs/n94e72ut' target=\"_blank\">https://wandb.ai/da24m016-indian-institute-of-technology-madras/DL_Assignment_01/runs/n94e72ut</a>"
      ],
      "text/plain": [
       "<IPython.core.display.HTML object>"
      ]
     },
     "metadata": {},
     "output_type": "display_data"
    },
    {
     "name": "stdout",
     "output_type": "stream",
     "text": [
      "Epoch 1/10: Loss=2.2242, Acc=0.4305, Val Loss=2.2632, Val Acc=0.5625\n",
      "Epoch 2/10: Loss=2.2882, Acc=0.3440, Val Loss=2.3001, Val Acc=0.1313\n",
      "Epoch 3/10: Loss=2.3018, Acc=0.1014, Val Loss=2.3027, Val Acc=0.0925\n",
      "Epoch 4/10: Loss=2.3026, Acc=0.1008, Val Loss=2.3028, Val Acc=0.0925\n",
      "Epoch 5/10: Loss=2.3026, Acc=0.1008, Val Loss=2.3028, Val Acc=0.0925\n",
      "Epoch 6/10: Loss=2.3026, Acc=0.1009, Val Loss=2.3028, Val Acc=0.0925\n",
      "Epoch 7/10: Loss=2.3026, Acc=0.1009, Val Loss=2.3028, Val Acc=0.0925\n",
      "Epoch 8/10: Loss=2.3026, Acc=0.1009, Val Loss=2.3028, Val Acc=0.0925\n",
      "Epoch 9/10: Loss=2.3026, Acc=0.1008, Val Loss=2.3028, Val Acc=0.0925\n",
      "Epoch 10/10: Loss=2.3026, Acc=0.1009, Val Loss=2.3028, Val Acc=0.0925\n"
     ]
    },
    {
     "data": {
      "application/vnd.jupyter.widget-view+json": {
       "model_id": "f3d289c8463b44e085ad14aad3c4ab4f",
       "version_major": 2,
       "version_minor": 0
      },
      "text/plain": [
       "VBox(children=(Label(value='0.001 MB of 0.001 MB uploaded\\r'), FloatProgress(value=1.0, max=1.0)))"
      ]
     },
     "metadata": {},
     "output_type": "display_data"
    },
    {
     "data": {
      "text/html": [
       "<style>\n",
       "    table.wandb td:nth-child(1) { padding: 0 10px; text-align: left ; width: auto;} td:nth-child(2) {text-align: left ; width: 100%}\n",
       "    .wandb-row { display: flex; flex-direction: row; flex-wrap: wrap; justify-content: flex-start; width: 100% }\n",
       "    .wandb-col { display: flex; flex-direction: column; flex-basis: 100%; flex: 1; padding: 10px; }\n",
       "    </style>\n",
       "<div class=\"wandb-row\"><div class=\"wandb-col\"><h3>Run history:</h3><br/><table class=\"wandb\"><tr><td>accuracy</td><td>█▆▁▁▁▁▁▁▁▁</td></tr><tr><td>epoch</td><td>▁▂▃▃▄▅▆▆▇█</td></tr><tr><td>final_val_accuracy</td><td>▁</td></tr><tr><td>final_val_loss</td><td>▁</td></tr><tr><td>loss</td><td>▁▇████████</td></tr><tr><td>val_accuracy</td><td>█▂▁▁▁▁▁▁▁▁</td></tr><tr><td>val_loss</td><td>▁█████████</td></tr></table><br/></div><div class=\"wandb-col\"><h3>Run summary:</h3><br/><table class=\"wandb\"><tr><td>accuracy</td><td>0.10086</td></tr><tr><td>epoch</td><td>10</td></tr><tr><td>final_val_accuracy</td><td>0.0925</td></tr><tr><td>final_val_loss</td><td>2.30277</td></tr><tr><td>loss</td><td>2.30259</td></tr><tr><td>val_accuracy</td><td>0.0925</td></tr><tr><td>val_loss</td><td>2.30277</td></tr></table><br/></div></div>"
      ],
      "text/plain": [
       "<IPython.core.display.HTML object>"
      ]
     },
     "metadata": {},
     "output_type": "display_data"
    },
    {
     "data": {
      "text/html": [
       " View run <strong style=\"color:#cdcd00\">snowy-sweep-13</strong> at: <a href='https://wandb.ai/da24m016-indian-institute-of-technology-madras/DL_Assignment_01/runs/n94e72ut' target=\"_blank\">https://wandb.ai/da24m016-indian-institute-of-technology-madras/DL_Assignment_01/runs/n94e72ut</a><br/>Synced 5 W&B file(s), 0 media file(s), 0 artifact file(s) and 0 other file(s)"
      ],
      "text/plain": [
       "<IPython.core.display.HTML object>"
      ]
     },
     "metadata": {},
     "output_type": "display_data"
    },
    {
     "data": {
      "text/html": [
       "Find logs at: <code>.\\wandb\\run-20250308_043445-n94e72ut\\logs</code>"
      ],
      "text/plain": [
       "<IPython.core.display.HTML object>"
      ]
     },
     "metadata": {},
     "output_type": "display_data"
    },
    {
     "name": "stderr",
     "output_type": "stream",
     "text": [
      "\u001b[34m\u001b[1mwandb\u001b[0m: Sweep Agent: Waiting for job.\n",
      "\u001b[34m\u001b[1mwandb\u001b[0m: Job received.\n",
      "\u001b[34m\u001b[1mwandb\u001b[0m: Agent Starting Run: xatjpda3 with config:\n",
      "\u001b[34m\u001b[1mwandb\u001b[0m: \tactivation: relu\n",
      "\u001b[34m\u001b[1mwandb\u001b[0m: \tbatch_size: 64\n",
      "\u001b[34m\u001b[1mwandb\u001b[0m: \tepochs: 5\n",
      "\u001b[34m\u001b[1mwandb\u001b[0m: \thidden_size: 128\n",
      "\u001b[34m\u001b[1mwandb\u001b[0m: \tlearning_rate: 0.0001\n",
      "\u001b[34m\u001b[1mwandb\u001b[0m: \tnum_layers: 4\n",
      "\u001b[34m\u001b[1mwandb\u001b[0m: \toptimizer: sgd\n",
      "\u001b[34m\u001b[1mwandb\u001b[0m: \tweight_decay: 0.5\n",
      "\u001b[34m\u001b[1mwandb\u001b[0m: \tweight_init: xavier\n",
      "Failed to detect the name of this notebook, you can set it manually with the WANDB_NOTEBOOK_NAME environment variable to enable code saving.\n"
     ]
    },
    {
     "data": {
      "text/html": [
       "wandb version 0.19.8 is available!  To upgrade, please run:\n",
       " $ pip install wandb --upgrade"
      ],
      "text/plain": [
       "<IPython.core.display.HTML object>"
      ]
     },
     "metadata": {},
     "output_type": "display_data"
    },
    {
     "data": {
      "text/html": [
       "Tracking run with wandb version 0.16.1"
      ],
      "text/plain": [
       "<IPython.core.display.HTML object>"
      ]
     },
     "metadata": {},
     "output_type": "display_data"
    },
    {
     "data": {
      "text/html": [
       "Run data is saved locally in <code>c:\\Users\\D. Sai Mani Kumar\\Downloads\\DL\\da6401_assignment1\\wandb\\run-20250308_043559-xatjpda3</code>"
      ],
      "text/plain": [
       "<IPython.core.display.HTML object>"
      ]
     },
     "metadata": {},
     "output_type": "display_data"
    },
    {
     "data": {
      "text/html": [
       "Syncing run <strong><a href='https://wandb.ai/da24m016-indian-institute-of-technology-madras/DL_Assignment_01/runs/xatjpda3' target=\"_blank\">icy-sweep-14</a></strong> to <a href='https://wandb.ai/da24m016-indian-institute-of-technology-madras/DL_Assignment_01' target=\"_blank\">Weights & Biases</a> (<a href='https://wandb.me/run' target=\"_blank\">docs</a>)<br/>Sweep page: <a href='https://wandb.ai/da24m016-indian-institute-of-technology-madras/DL_Assignment_01/sweeps/pu8149xm' target=\"_blank\">https://wandb.ai/da24m016-indian-institute-of-technology-madras/DL_Assignment_01/sweeps/pu8149xm</a>"
      ],
      "text/plain": [
       "<IPython.core.display.HTML object>"
      ]
     },
     "metadata": {},
     "output_type": "display_data"
    },
    {
     "data": {
      "text/html": [
       " View project at <a href='https://wandb.ai/da24m016-indian-institute-of-technology-madras/DL_Assignment_01' target=\"_blank\">https://wandb.ai/da24m016-indian-institute-of-technology-madras/DL_Assignment_01</a>"
      ],
      "text/plain": [
       "<IPython.core.display.HTML object>"
      ]
     },
     "metadata": {},
     "output_type": "display_data"
    },
    {
     "data": {
      "text/html": [
       " View sweep at <a href='https://wandb.ai/da24m016-indian-institute-of-technology-madras/DL_Assignment_01/sweeps/pu8149xm' target=\"_blank\">https://wandb.ai/da24m016-indian-institute-of-technology-madras/DL_Assignment_01/sweeps/pu8149xm</a>"
      ],
      "text/plain": [
       "<IPython.core.display.HTML object>"
      ]
     },
     "metadata": {},
     "output_type": "display_data"
    },
    {
     "data": {
      "text/html": [
       " View run at <a href='https://wandb.ai/da24m016-indian-institute-of-technology-madras/DL_Assignment_01/runs/xatjpda3' target=\"_blank\">https://wandb.ai/da24m016-indian-institute-of-technology-madras/DL_Assignment_01/runs/xatjpda3</a>"
      ],
      "text/plain": [
       "<IPython.core.display.HTML object>"
      ]
     },
     "metadata": {},
     "output_type": "display_data"
    },
    {
     "name": "stdout",
     "output_type": "stream",
     "text": [
      "Epoch 1/5: Loss=2.2864, Acc=0.1650, Val Loss=2.2769, Val Acc=0.1777\n",
      "Epoch 2/5: Loss=2.2692, Acc=0.1978, Val Loss=2.2640, Val Acc=0.2128\n",
      "Epoch 3/5: Loss=2.2604, Acc=0.2387, Val Loss=2.2578, Val Acc=0.2553\n",
      "Epoch 4/5: Loss=2.2566, Acc=0.2761, Val Loss=2.2556, Val Acc=0.2913\n",
      "Epoch 5/5: Loss=2.2559, Acc=0.3048, Val Loss=2.2559, Val Acc=0.3160\n"
     ]
    },
    {
     "data": {
      "application/vnd.jupyter.widget-view+json": {
       "model_id": "aefbfec65909496e9ad25bf7c0d5b979",
       "version_major": 2,
       "version_minor": 0
      },
      "text/plain": [
       "VBox(children=(Label(value='0.001 MB of 0.001 MB uploaded\\r'), FloatProgress(value=1.0, max=1.0)))"
      ]
     },
     "metadata": {},
     "output_type": "display_data"
    },
    {
     "data": {
      "text/html": [
       "<style>\n",
       "    table.wandb td:nth-child(1) { padding: 0 10px; text-align: left ; width: auto;} td:nth-child(2) {text-align: left ; width: 100%}\n",
       "    .wandb-row { display: flex; flex-direction: row; flex-wrap: wrap; justify-content: flex-start; width: 100% }\n",
       "    .wandb-col { display: flex; flex-direction: column; flex-basis: 100%; flex: 1; padding: 10px; }\n",
       "    </style>\n",
       "<div class=\"wandb-row\"><div class=\"wandb-col\"><h3>Run history:</h3><br/><table class=\"wandb\"><tr><td>accuracy</td><td>▁▃▅▇█</td></tr><tr><td>epoch</td><td>▁▃▅▆█</td></tr><tr><td>final_val_accuracy</td><td>▁</td></tr><tr><td>final_val_loss</td><td>▁</td></tr><tr><td>loss</td><td>█▄▂▁▁</td></tr><tr><td>val_accuracy</td><td>▁▃▅▇█</td></tr><tr><td>val_loss</td><td>█▄▂▁▁</td></tr></table><br/></div><div class=\"wandb-col\"><h3>Run summary:</h3><br/><table class=\"wandb\"><tr><td>accuracy</td><td>0.30483</td></tr><tr><td>epoch</td><td>5</td></tr><tr><td>final_val_accuracy</td><td>0.316</td></tr><tr><td>final_val_loss</td><td>2.25587</td></tr><tr><td>loss</td><td>2.25588</td></tr><tr><td>val_accuracy</td><td>0.316</td></tr><tr><td>val_loss</td><td>2.25587</td></tr></table><br/></div></div>"
      ],
      "text/plain": [
       "<IPython.core.display.HTML object>"
      ]
     },
     "metadata": {},
     "output_type": "display_data"
    },
    {
     "data": {
      "text/html": [
       " View run <strong style=\"color:#cdcd00\">icy-sweep-14</strong> at: <a href='https://wandb.ai/da24m016-indian-institute-of-technology-madras/DL_Assignment_01/runs/xatjpda3' target=\"_blank\">https://wandb.ai/da24m016-indian-institute-of-technology-madras/DL_Assignment_01/runs/xatjpda3</a><br/>Synced 5 W&B file(s), 0 media file(s), 0 artifact file(s) and 0 other file(s)"
      ],
      "text/plain": [
       "<IPython.core.display.HTML object>"
      ]
     },
     "metadata": {},
     "output_type": "display_data"
    },
    {
     "data": {
      "text/html": [
       "Find logs at: <code>.\\wandb\\run-20250308_043559-xatjpda3\\logs</code>"
      ],
      "text/plain": [
       "<IPython.core.display.HTML object>"
      ]
     },
     "metadata": {},
     "output_type": "display_data"
    },
    {
     "name": "stderr",
     "output_type": "stream",
     "text": [
      "\u001b[34m\u001b[1mwandb\u001b[0m: Agent Starting Run: uoci70xl with config:\n",
      "\u001b[34m\u001b[1mwandb\u001b[0m: \tactivation: relu\n",
      "\u001b[34m\u001b[1mwandb\u001b[0m: \tbatch_size: 32\n",
      "\u001b[34m\u001b[1mwandb\u001b[0m: \tepochs: 10\n",
      "\u001b[34m\u001b[1mwandb\u001b[0m: \thidden_size: 128\n",
      "\u001b[34m\u001b[1mwandb\u001b[0m: \tlearning_rate: 0.0001\n",
      "\u001b[34m\u001b[1mwandb\u001b[0m: \tnum_layers: 5\n",
      "\u001b[34m\u001b[1mwandb\u001b[0m: \toptimizer: rmsprop\n",
      "\u001b[34m\u001b[1mwandb\u001b[0m: \tweight_decay: 0.0005\n",
      "\u001b[34m\u001b[1mwandb\u001b[0m: \tweight_init: xavier\n",
      "Failed to detect the name of this notebook, you can set it manually with the WANDB_NOTEBOOK_NAME environment variable to enable code saving.\n"
     ]
    },
    {
     "data": {
      "text/html": [
       "wandb version 0.19.8 is available!  To upgrade, please run:\n",
       " $ pip install wandb --upgrade"
      ],
      "text/plain": [
       "<IPython.core.display.HTML object>"
      ]
     },
     "metadata": {},
     "output_type": "display_data"
    },
    {
     "data": {
      "text/html": [
       "Tracking run with wandb version 0.16.1"
      ],
      "text/plain": [
       "<IPython.core.display.HTML object>"
      ]
     },
     "metadata": {},
     "output_type": "display_data"
    },
    {
     "data": {
      "text/html": [
       "Run data is saved locally in <code>c:\\Users\\D. Sai Mani Kumar\\Downloads\\DL\\da6401_assignment1\\wandb\\run-20250308_043631-uoci70xl</code>"
      ],
      "text/plain": [
       "<IPython.core.display.HTML object>"
      ]
     },
     "metadata": {},
     "output_type": "display_data"
    },
    {
     "data": {
      "text/html": [
       "Syncing run <strong><a href='https://wandb.ai/da24m016-indian-institute-of-technology-madras/DL_Assignment_01/runs/uoci70xl' target=\"_blank\">deft-sweep-15</a></strong> to <a href='https://wandb.ai/da24m016-indian-institute-of-technology-madras/DL_Assignment_01' target=\"_blank\">Weights & Biases</a> (<a href='https://wandb.me/run' target=\"_blank\">docs</a>)<br/>Sweep page: <a href='https://wandb.ai/da24m016-indian-institute-of-technology-madras/DL_Assignment_01/sweeps/pu8149xm' target=\"_blank\">https://wandb.ai/da24m016-indian-institute-of-technology-madras/DL_Assignment_01/sweeps/pu8149xm</a>"
      ],
      "text/plain": [
       "<IPython.core.display.HTML object>"
      ]
     },
     "metadata": {},
     "output_type": "display_data"
    },
    {
     "data": {
      "text/html": [
       " View project at <a href='https://wandb.ai/da24m016-indian-institute-of-technology-madras/DL_Assignment_01' target=\"_blank\">https://wandb.ai/da24m016-indian-institute-of-technology-madras/DL_Assignment_01</a>"
      ],
      "text/plain": [
       "<IPython.core.display.HTML object>"
      ]
     },
     "metadata": {},
     "output_type": "display_data"
    },
    {
     "data": {
      "text/html": [
       " View sweep at <a href='https://wandb.ai/da24m016-indian-institute-of-technology-madras/DL_Assignment_01/sweeps/pu8149xm' target=\"_blank\">https://wandb.ai/da24m016-indian-institute-of-technology-madras/DL_Assignment_01/sweeps/pu8149xm</a>"
      ],
      "text/plain": [
       "<IPython.core.display.HTML object>"
      ]
     },
     "metadata": {},
     "output_type": "display_data"
    },
    {
     "data": {
      "text/html": [
       " View run at <a href='https://wandb.ai/da24m016-indian-institute-of-technology-madras/DL_Assignment_01/runs/uoci70xl' target=\"_blank\">https://wandb.ai/da24m016-indian-institute-of-technology-madras/DL_Assignment_01/runs/uoci70xl</a>"
      ],
      "text/plain": [
       "<IPython.core.display.HTML object>"
      ]
     },
     "metadata": {},
     "output_type": "display_data"
    },
    {
     "name": "stdout",
     "output_type": "stream",
     "text": [
      "Epoch 1/10: Loss=0.6924, Acc=0.7665, Val Loss=0.4951, Val Acc=0.8218\n",
      "Epoch 2/10: Loss=0.4510, Acc=0.8400, Val Loss=0.4310, Val Acc=0.8462\n",
      "Epoch 3/10: Loss=0.4049, Acc=0.8550, Val Loss=0.3902, Val Acc=0.8567\n",
      "Epoch 4/10: Loss=0.3748, Acc=0.8664, Val Loss=0.3753, Val Acc=0.8638\n",
      "Epoch 5/10: Loss=0.3551, Acc=0.8720, Val Loss=0.3781, Val Acc=0.8660\n",
      "Epoch 6/10: Loss=0.3402, Acc=0.8772, Val Loss=0.3493, Val Acc=0.8735\n",
      "Epoch 7/10: Loss=0.3265, Acc=0.8818, Val Loss=0.3453, Val Acc=0.8782\n",
      "Epoch 8/10: Loss=0.3154, Acc=0.8849, Val Loss=0.3597, Val Acc=0.8673\n",
      "Epoch 9/10: Loss=0.3059, Acc=0.8889, Val Loss=0.3597, Val Acc=0.8682\n",
      "Epoch 10/10: Loss=0.2983, Acc=0.8921, Val Loss=0.3494, Val Acc=0.8755\n"
     ]
    },
    {
     "data": {
      "application/vnd.jupyter.widget-view+json": {
       "model_id": "1b2d0ebe99444d148c06a272b4cb20fc",
       "version_major": 2,
       "version_minor": 0
      },
      "text/plain": [
       "VBox(children=(Label(value='0.001 MB of 0.001 MB uploaded\\r'), FloatProgress(value=1.0, max=1.0)))"
      ]
     },
     "metadata": {},
     "output_type": "display_data"
    },
    {
     "data": {
      "text/html": [
       "<style>\n",
       "    table.wandb td:nth-child(1) { padding: 0 10px; text-align: left ; width: auto;} td:nth-child(2) {text-align: left ; width: 100%}\n",
       "    .wandb-row { display: flex; flex-direction: row; flex-wrap: wrap; justify-content: flex-start; width: 100% }\n",
       "    .wandb-col { display: flex; flex-direction: column; flex-basis: 100%; flex: 1; padding: 10px; }\n",
       "    </style>\n",
       "<div class=\"wandb-row\"><div class=\"wandb-col\"><h3>Run history:</h3><br/><table class=\"wandb\"><tr><td>accuracy</td><td>▁▅▆▇▇▇▇███</td></tr><tr><td>epoch</td><td>▁▂▃▃▄▅▆▆▇█</td></tr><tr><td>final_val_accuracy</td><td>▁</td></tr><tr><td>final_val_loss</td><td>▁</td></tr><tr><td>loss</td><td>█▄▃▂▂▂▁▁▁▁</td></tr><tr><td>val_accuracy</td><td>▁▄▅▆▆▇█▇▇█</td></tr><tr><td>val_loss</td><td>█▅▃▂▃▁▁▂▂▁</td></tr></table><br/></div><div class=\"wandb-col\"><h3>Run summary:</h3><br/><table class=\"wandb\"><tr><td>accuracy</td><td>0.89213</td></tr><tr><td>epoch</td><td>10</td></tr><tr><td>final_val_accuracy</td><td>0.8755</td></tr><tr><td>final_val_loss</td><td>0.34938</td></tr><tr><td>loss</td><td>0.29834</td></tr><tr><td>val_accuracy</td><td>0.8755</td></tr><tr><td>val_loss</td><td>0.34938</td></tr></table><br/></div></div>"
      ],
      "text/plain": [
       "<IPython.core.display.HTML object>"
      ]
     },
     "metadata": {},
     "output_type": "display_data"
    },
    {
     "data": {
      "text/html": [
       " View run <strong style=\"color:#cdcd00\">deft-sweep-15</strong> at: <a href='https://wandb.ai/da24m016-indian-institute-of-technology-madras/DL_Assignment_01/runs/uoci70xl' target=\"_blank\">https://wandb.ai/da24m016-indian-institute-of-technology-madras/DL_Assignment_01/runs/uoci70xl</a><br/>Synced 5 W&B file(s), 0 media file(s), 0 artifact file(s) and 0 other file(s)"
      ],
      "text/plain": [
       "<IPython.core.display.HTML object>"
      ]
     },
     "metadata": {},
     "output_type": "display_data"
    },
    {
     "data": {
      "text/html": [
       "Find logs at: <code>.\\wandb\\run-20250308_043631-uoci70xl\\logs</code>"
      ],
      "text/plain": [
       "<IPython.core.display.HTML object>"
      ]
     },
     "metadata": {},
     "output_type": "display_data"
    },
    {
     "name": "stderr",
     "output_type": "stream",
     "text": [
      "\u001b[34m\u001b[1mwandb\u001b[0m: Sweep Agent: Waiting for job.\n",
      "\u001b[34m\u001b[1mwandb\u001b[0m: Job received.\n",
      "\u001b[34m\u001b[1mwandb\u001b[0m: Agent Starting Run: ytx8soot with config:\n",
      "\u001b[34m\u001b[1mwandb\u001b[0m: \tactivation: tanh\n",
      "\u001b[34m\u001b[1mwandb\u001b[0m: \tbatch_size: 64\n",
      "\u001b[34m\u001b[1mwandb\u001b[0m: \tepochs: 5\n",
      "\u001b[34m\u001b[1mwandb\u001b[0m: \thidden_size: 128\n",
      "\u001b[34m\u001b[1mwandb\u001b[0m: \tlearning_rate: 0.0001\n",
      "\u001b[34m\u001b[1mwandb\u001b[0m: \tnum_layers: 3\n",
      "\u001b[34m\u001b[1mwandb\u001b[0m: \toptimizer: nesterov\n",
      "\u001b[34m\u001b[1mwandb\u001b[0m: \tweight_decay: 0.0005\n",
      "\u001b[34m\u001b[1mwandb\u001b[0m: \tweight_init: xavier\n",
      "Failed to detect the name of this notebook, you can set it manually with the WANDB_NOTEBOOK_NAME environment variable to enable code saving.\n"
     ]
    },
    {
     "data": {
      "text/html": [
       "wandb version 0.19.8 is available!  To upgrade, please run:\n",
       " $ pip install wandb --upgrade"
      ],
      "text/plain": [
       "<IPython.core.display.HTML object>"
      ]
     },
     "metadata": {},
     "output_type": "display_data"
    },
    {
     "data": {
      "text/html": [
       "Tracking run with wandb version 0.16.1"
      ],
      "text/plain": [
       "<IPython.core.display.HTML object>"
      ]
     },
     "metadata": {},
     "output_type": "display_data"
    },
    {
     "data": {
      "text/html": [
       "Run data is saved locally in <code>c:\\Users\\D. Sai Mani Kumar\\Downloads\\DL\\da6401_assignment1\\wandb\\run-20250308_043827-ytx8soot</code>"
      ],
      "text/plain": [
       "<IPython.core.display.HTML object>"
      ]
     },
     "metadata": {},
     "output_type": "display_data"
    },
    {
     "data": {
      "text/html": [
       "Syncing run <strong><a href='https://wandb.ai/da24m016-indian-institute-of-technology-madras/DL_Assignment_01/runs/ytx8soot' target=\"_blank\">pleasant-sweep-16</a></strong> to <a href='https://wandb.ai/da24m016-indian-institute-of-technology-madras/DL_Assignment_01' target=\"_blank\">Weights & Biases</a> (<a href='https://wandb.me/run' target=\"_blank\">docs</a>)<br/>Sweep page: <a href='https://wandb.ai/da24m016-indian-institute-of-technology-madras/DL_Assignment_01/sweeps/pu8149xm' target=\"_blank\">https://wandb.ai/da24m016-indian-institute-of-technology-madras/DL_Assignment_01/sweeps/pu8149xm</a>"
      ],
      "text/plain": [
       "<IPython.core.display.HTML object>"
      ]
     },
     "metadata": {},
     "output_type": "display_data"
    },
    {
     "data": {
      "text/html": [
       " View project at <a href='https://wandb.ai/da24m016-indian-institute-of-technology-madras/DL_Assignment_01' target=\"_blank\">https://wandb.ai/da24m016-indian-institute-of-technology-madras/DL_Assignment_01</a>"
      ],
      "text/plain": [
       "<IPython.core.display.HTML object>"
      ]
     },
     "metadata": {},
     "output_type": "display_data"
    },
    {
     "data": {
      "text/html": [
       " View sweep at <a href='https://wandb.ai/da24m016-indian-institute-of-technology-madras/DL_Assignment_01/sweeps/pu8149xm' target=\"_blank\">https://wandb.ai/da24m016-indian-institute-of-technology-madras/DL_Assignment_01/sweeps/pu8149xm</a>"
      ],
      "text/plain": [
       "<IPython.core.display.HTML object>"
      ]
     },
     "metadata": {},
     "output_type": "display_data"
    },
    {
     "data": {
      "text/html": [
       " View run at <a href='https://wandb.ai/da24m016-indian-institute-of-technology-madras/DL_Assignment_01/runs/ytx8soot' target=\"_blank\">https://wandb.ai/da24m016-indian-institute-of-technology-madras/DL_Assignment_01/runs/ytx8soot</a>"
      ],
      "text/plain": [
       "<IPython.core.display.HTML object>"
      ]
     },
     "metadata": {},
     "output_type": "display_data"
    },
    {
     "name": "stdout",
     "output_type": "stream",
     "text": [
      "Epoch 1/5: Loss=1.6546, Acc=0.5269, Val Loss=1.2148, Val Acc=0.6670\n",
      "Epoch 2/5: Loss=1.0538, Acc=0.6984, Val Loss=0.9246, Val Acc=0.7210\n",
      "Epoch 3/5: Loss=0.8698, Acc=0.7321, Val Loss=0.8033, Val Acc=0.7448\n",
      "Epoch 4/5: Loss=0.7774, Acc=0.7531, Val Loss=0.7334, Val Acc=0.7660\n",
      "Epoch 5/5: Loss=0.7178, Acc=0.7676, Val Loss=0.6853, Val Acc=0.7763\n"
     ]
    },
    {
     "data": {
      "application/vnd.jupyter.widget-view+json": {
       "model_id": "fbf0f6a33ba742139d8dfe34a7fd8cd7",
       "version_major": 2,
       "version_minor": 0
      },
      "text/plain": [
       "VBox(children=(Label(value='0.001 MB of 0.001 MB uploaded\\r'), FloatProgress(value=1.0, max=1.0)))"
      ]
     },
     "metadata": {},
     "output_type": "display_data"
    },
    {
     "data": {
      "text/html": [
       "<style>\n",
       "    table.wandb td:nth-child(1) { padding: 0 10px; text-align: left ; width: auto;} td:nth-child(2) {text-align: left ; width: 100%}\n",
       "    .wandb-row { display: flex; flex-direction: row; flex-wrap: wrap; justify-content: flex-start; width: 100% }\n",
       "    .wandb-col { display: flex; flex-direction: column; flex-basis: 100%; flex: 1; padding: 10px; }\n",
       "    </style>\n",
       "<div class=\"wandb-row\"><div class=\"wandb-col\"><h3>Run history:</h3><br/><table class=\"wandb\"><tr><td>accuracy</td><td>▁▆▇██</td></tr><tr><td>epoch</td><td>▁▃▅▆█</td></tr><tr><td>final_val_accuracy</td><td>▁</td></tr><tr><td>final_val_loss</td><td>▁</td></tr><tr><td>loss</td><td>█▄▂▁▁</td></tr><tr><td>val_accuracy</td><td>▁▄▆▇█</td></tr><tr><td>val_loss</td><td>█▄▃▂▁</td></tr></table><br/></div><div class=\"wandb-col\"><h3>Run summary:</h3><br/><table class=\"wandb\"><tr><td>accuracy</td><td>0.76765</td></tr><tr><td>epoch</td><td>5</td></tr><tr><td>final_val_accuracy</td><td>0.77633</td></tr><tr><td>final_val_loss</td><td>0.68527</td></tr><tr><td>loss</td><td>0.71775</td></tr><tr><td>val_accuracy</td><td>0.77633</td></tr><tr><td>val_loss</td><td>0.68527</td></tr></table><br/></div></div>"
      ],
      "text/plain": [
       "<IPython.core.display.HTML object>"
      ]
     },
     "metadata": {},
     "output_type": "display_data"
    },
    {
     "data": {
      "text/html": [
       " View run <strong style=\"color:#cdcd00\">pleasant-sweep-16</strong> at: <a href='https://wandb.ai/da24m016-indian-institute-of-technology-madras/DL_Assignment_01/runs/ytx8soot' target=\"_blank\">https://wandb.ai/da24m016-indian-institute-of-technology-madras/DL_Assignment_01/runs/ytx8soot</a><br/>Synced 5 W&B file(s), 0 media file(s), 0 artifact file(s) and 0 other file(s)"
      ],
      "text/plain": [
       "<IPython.core.display.HTML object>"
      ]
     },
     "metadata": {},
     "output_type": "display_data"
    },
    {
     "data": {
      "text/html": [
       "Find logs at: <code>.\\wandb\\run-20250308_043827-ytx8soot\\logs</code>"
      ],
      "text/plain": [
       "<IPython.core.display.HTML object>"
      ]
     },
     "metadata": {},
     "output_type": "display_data"
    },
    {
     "name": "stderr",
     "output_type": "stream",
     "text": [
      "\u001b[34m\u001b[1mwandb\u001b[0m: Agent Starting Run: mxlfgkz9 with config:\n",
      "\u001b[34m\u001b[1mwandb\u001b[0m: \tactivation: relu\n",
      "\u001b[34m\u001b[1mwandb\u001b[0m: \tbatch_size: 32\n",
      "\u001b[34m\u001b[1mwandb\u001b[0m: \tepochs: 10\n",
      "\u001b[34m\u001b[1mwandb\u001b[0m: \thidden_size: 128\n",
      "\u001b[34m\u001b[1mwandb\u001b[0m: \tlearning_rate: 0.0001\n",
      "\u001b[34m\u001b[1mwandb\u001b[0m: \tnum_layers: 5\n",
      "\u001b[34m\u001b[1mwandb\u001b[0m: \toptimizer: nadam\n",
      "\u001b[34m\u001b[1mwandb\u001b[0m: \tweight_decay: 0.0005\n",
      "\u001b[34m\u001b[1mwandb\u001b[0m: \tweight_init: xavier\n",
      "Failed to detect the name of this notebook, you can set it manually with the WANDB_NOTEBOOK_NAME environment variable to enable code saving.\n"
     ]
    },
    {
     "data": {
      "text/html": [
       "wandb version 0.19.8 is available!  To upgrade, please run:\n",
       " $ pip install wandb --upgrade"
      ],
      "text/plain": [
       "<IPython.core.display.HTML object>"
      ]
     },
     "metadata": {},
     "output_type": "display_data"
    },
    {
     "data": {
      "text/html": [
       "Tracking run with wandb version 0.16.1"
      ],
      "text/plain": [
       "<IPython.core.display.HTML object>"
      ]
     },
     "metadata": {},
     "output_type": "display_data"
    },
    {
     "data": {
      "text/html": [
       "Run data is saved locally in <code>c:\\Users\\D. Sai Mani Kumar\\Downloads\\DL\\da6401_assignment1\\wandb\\run-20250308_043859-mxlfgkz9</code>"
      ],
      "text/plain": [
       "<IPython.core.display.HTML object>"
      ]
     },
     "metadata": {},
     "output_type": "display_data"
    },
    {
     "data": {
      "text/html": [
       "Syncing run <strong><a href='https://wandb.ai/da24m016-indian-institute-of-technology-madras/DL_Assignment_01/runs/mxlfgkz9' target=\"_blank\">apricot-sweep-17</a></strong> to <a href='https://wandb.ai/da24m016-indian-institute-of-technology-madras/DL_Assignment_01' target=\"_blank\">Weights & Biases</a> (<a href='https://wandb.me/run' target=\"_blank\">docs</a>)<br/>Sweep page: <a href='https://wandb.ai/da24m016-indian-institute-of-technology-madras/DL_Assignment_01/sweeps/pu8149xm' target=\"_blank\">https://wandb.ai/da24m016-indian-institute-of-technology-madras/DL_Assignment_01/sweeps/pu8149xm</a>"
      ],
      "text/plain": [
       "<IPython.core.display.HTML object>"
      ]
     },
     "metadata": {},
     "output_type": "display_data"
    },
    {
     "data": {
      "text/html": [
       " View project at <a href='https://wandb.ai/da24m016-indian-institute-of-technology-madras/DL_Assignment_01' target=\"_blank\">https://wandb.ai/da24m016-indian-institute-of-technology-madras/DL_Assignment_01</a>"
      ],
      "text/plain": [
       "<IPython.core.display.HTML object>"
      ]
     },
     "metadata": {},
     "output_type": "display_data"
    },
    {
     "data": {
      "text/html": [
       " View sweep at <a href='https://wandb.ai/da24m016-indian-institute-of-technology-madras/DL_Assignment_01/sweeps/pu8149xm' target=\"_blank\">https://wandb.ai/da24m016-indian-institute-of-technology-madras/DL_Assignment_01/sweeps/pu8149xm</a>"
      ],
      "text/plain": [
       "<IPython.core.display.HTML object>"
      ]
     },
     "metadata": {},
     "output_type": "display_data"
    },
    {
     "data": {
      "text/html": [
       " View run at <a href='https://wandb.ai/da24m016-indian-institute-of-technology-madras/DL_Assignment_01/runs/mxlfgkz9' target=\"_blank\">https://wandb.ai/da24m016-indian-institute-of-technology-madras/DL_Assignment_01/runs/mxlfgkz9</a>"
      ],
      "text/plain": [
       "<IPython.core.display.HTML object>"
      ]
     },
     "metadata": {},
     "output_type": "display_data"
    },
    {
     "name": "stdout",
     "output_type": "stream",
     "text": [
      "Epoch 1/10: Loss=0.6404, Acc=0.7802, Val Loss=0.4511, Val Acc=0.8355\n",
      "Epoch 2/10: Loss=0.4262, Acc=0.8505, Val Loss=0.4129, Val Acc=0.8532\n",
      "Epoch 3/10: Loss=0.3861, Acc=0.8633, Val Loss=0.3741, Val Acc=0.8627\n",
      "Epoch 4/10: Loss=0.3599, Acc=0.8721, Val Loss=0.3696, Val Acc=0.8680\n",
      "Epoch 5/10: Loss=0.3406, Acc=0.8778, Val Loss=0.3558, Val Acc=0.8700\n",
      "Epoch 6/10: Loss=0.3260, Acc=0.8819, Val Loss=0.3563, Val Acc=0.8727\n",
      "Epoch 7/10: Loss=0.3131, Acc=0.8867, Val Loss=0.3394, Val Acc=0.8800\n",
      "Epoch 8/10: Loss=0.3034, Acc=0.8882, Val Loss=0.3330, Val Acc=0.8808\n",
      "Epoch 9/10: Loss=0.2925, Acc=0.8938, Val Loss=0.3293, Val Acc=0.8810\n",
      "Epoch 10/10: Loss=0.2831, Acc=0.8956, Val Loss=0.3448, Val Acc=0.8737\n"
     ]
    },
    {
     "data": {
      "application/vnd.jupyter.widget-view+json": {
       "model_id": "c45f951bfbcc483b9925dda1ade8a68a",
       "version_major": 2,
       "version_minor": 0
      },
      "text/plain": [
       "VBox(children=(Label(value='0.001 MB of 0.001 MB uploaded\\r'), FloatProgress(value=1.0, max=1.0)))"
      ]
     },
     "metadata": {},
     "output_type": "display_data"
    },
    {
     "data": {
      "text/html": [
       "<style>\n",
       "    table.wandb td:nth-child(1) { padding: 0 10px; text-align: left ; width: auto;} td:nth-child(2) {text-align: left ; width: 100%}\n",
       "    .wandb-row { display: flex; flex-direction: row; flex-wrap: wrap; justify-content: flex-start; width: 100% }\n",
       "    .wandb-col { display: flex; flex-direction: column; flex-basis: 100%; flex: 1; padding: 10px; }\n",
       "    </style>\n",
       "<div class=\"wandb-row\"><div class=\"wandb-col\"><h3>Run history:</h3><br/><table class=\"wandb\"><tr><td>accuracy</td><td>▁▅▆▇▇▇▇███</td></tr><tr><td>epoch</td><td>▁▂▃▃▄▅▆▆▇█</td></tr><tr><td>final_val_accuracy</td><td>▁</td></tr><tr><td>final_val_loss</td><td>▁</td></tr><tr><td>loss</td><td>█▄▃▃▂▂▂▁▁▁</td></tr><tr><td>val_accuracy</td><td>▁▄▅▆▆▇███▇</td></tr><tr><td>val_loss</td><td>█▆▄▃▃▃▂▁▁▂</td></tr></table><br/></div><div class=\"wandb-col\"><h3>Run summary:</h3><br/><table class=\"wandb\"><tr><td>accuracy</td><td>0.89558</td></tr><tr><td>epoch</td><td>10</td></tr><tr><td>final_val_accuracy</td><td>0.87367</td></tr><tr><td>final_val_loss</td><td>0.34478</td></tr><tr><td>loss</td><td>0.2831</td></tr><tr><td>val_accuracy</td><td>0.87367</td></tr><tr><td>val_loss</td><td>0.34478</td></tr></table><br/></div></div>"
      ],
      "text/plain": [
       "<IPython.core.display.HTML object>"
      ]
     },
     "metadata": {},
     "output_type": "display_data"
    },
    {
     "data": {
      "text/html": [
       " View run <strong style=\"color:#cdcd00\">apricot-sweep-17</strong> at: <a href='https://wandb.ai/da24m016-indian-institute-of-technology-madras/DL_Assignment_01/runs/mxlfgkz9' target=\"_blank\">https://wandb.ai/da24m016-indian-institute-of-technology-madras/DL_Assignment_01/runs/mxlfgkz9</a><br/>Synced 5 W&B file(s), 0 media file(s), 0 artifact file(s) and 0 other file(s)"
      ],
      "text/plain": [
       "<IPython.core.display.HTML object>"
      ]
     },
     "metadata": {},
     "output_type": "display_data"
    },
    {
     "data": {
      "text/html": [
       "Find logs at: <code>.\\wandb\\run-20250308_043859-mxlfgkz9\\logs</code>"
      ],
      "text/plain": [
       "<IPython.core.display.HTML object>"
      ]
     },
     "metadata": {},
     "output_type": "display_data"
    },
    {
     "name": "stderr",
     "output_type": "stream",
     "text": [
      "\u001b[34m\u001b[1mwandb\u001b[0m: Sweep Agent: Waiting for job.\n",
      "\u001b[34m\u001b[1mwandb\u001b[0m: Job received.\n",
      "\u001b[34m\u001b[1mwandb\u001b[0m: Agent Starting Run: 3xe5y2p2 with config:\n",
      "\u001b[34m\u001b[1mwandb\u001b[0m: \tactivation: tanh\n",
      "\u001b[34m\u001b[1mwandb\u001b[0m: \tbatch_size: 64\n",
      "\u001b[34m\u001b[1mwandb\u001b[0m: \tepochs: 5\n",
      "\u001b[34m\u001b[1mwandb\u001b[0m: \thidden_size: 128\n",
      "\u001b[34m\u001b[1mwandb\u001b[0m: \tlearning_rate: 0.0001\n",
      "\u001b[34m\u001b[1mwandb\u001b[0m: \tnum_layers: 5\n",
      "\u001b[34m\u001b[1mwandb\u001b[0m: \toptimizer: nadam\n",
      "\u001b[34m\u001b[1mwandb\u001b[0m: \tweight_decay: 0.0005\n",
      "\u001b[34m\u001b[1mwandb\u001b[0m: \tweight_init: xavier\n",
      "Failed to detect the name of this notebook, you can set it manually with the WANDB_NOTEBOOK_NAME environment variable to enable code saving.\n"
     ]
    },
    {
     "data": {
      "text/html": [
       "wandb version 0.19.8 is available!  To upgrade, please run:\n",
       " $ pip install wandb --upgrade"
      ],
      "text/plain": [
       "<IPython.core.display.HTML object>"
      ]
     },
     "metadata": {},
     "output_type": "display_data"
    },
    {
     "data": {
      "text/html": [
       "Tracking run with wandb version 0.16.1"
      ],
      "text/plain": [
       "<IPython.core.display.HTML object>"
      ]
     },
     "metadata": {},
     "output_type": "display_data"
    },
    {
     "data": {
      "text/html": [
       "Run data is saved locally in <code>c:\\Users\\D. Sai Mani Kumar\\Downloads\\DL\\da6401_assignment1\\wandb\\run-20250308_062127-3xe5y2p2</code>"
      ],
      "text/plain": [
       "<IPython.core.display.HTML object>"
      ]
     },
     "metadata": {},
     "output_type": "display_data"
    },
    {
     "data": {
      "text/html": [
       "Syncing run <strong><a href='https://wandb.ai/da24m016-indian-institute-of-technology-madras/DL_Assignment_01/runs/3xe5y2p2' target=\"_blank\">fast-sweep-18</a></strong> to <a href='https://wandb.ai/da24m016-indian-institute-of-technology-madras/DL_Assignment_01' target=\"_blank\">Weights & Biases</a> (<a href='https://wandb.me/run' target=\"_blank\">docs</a>)<br/>Sweep page: <a href='https://wandb.ai/da24m016-indian-institute-of-technology-madras/DL_Assignment_01/sweeps/pu8149xm' target=\"_blank\">https://wandb.ai/da24m016-indian-institute-of-technology-madras/DL_Assignment_01/sweeps/pu8149xm</a>"
      ],
      "text/plain": [
       "<IPython.core.display.HTML object>"
      ]
     },
     "metadata": {},
     "output_type": "display_data"
    },
    {
     "data": {
      "text/html": [
       " View project at <a href='https://wandb.ai/da24m016-indian-institute-of-technology-madras/DL_Assignment_01' target=\"_blank\">https://wandb.ai/da24m016-indian-institute-of-technology-madras/DL_Assignment_01</a>"
      ],
      "text/plain": [
       "<IPython.core.display.HTML object>"
      ]
     },
     "metadata": {},
     "output_type": "display_data"
    },
    {
     "data": {
      "text/html": [
       " View sweep at <a href='https://wandb.ai/da24m016-indian-institute-of-technology-madras/DL_Assignment_01/sweeps/pu8149xm' target=\"_blank\">https://wandb.ai/da24m016-indian-institute-of-technology-madras/DL_Assignment_01/sweeps/pu8149xm</a>"
      ],
      "text/plain": [
       "<IPython.core.display.HTML object>"
      ]
     },
     "metadata": {},
     "output_type": "display_data"
    },
    {
     "data": {
      "text/html": [
       " View run at <a href='https://wandb.ai/da24m016-indian-institute-of-technology-madras/DL_Assignment_01/runs/3xe5y2p2' target=\"_blank\">https://wandb.ai/da24m016-indian-institute-of-technology-madras/DL_Assignment_01/runs/3xe5y2p2</a>"
      ],
      "text/plain": [
       "<IPython.core.display.HTML object>"
      ]
     },
     "metadata": {},
     "output_type": "display_data"
    },
    {
     "name": "stdout",
     "output_type": "stream",
     "text": [
      "Epoch 1/5: Loss=0.6696, Acc=0.7763, Val Loss=0.4458, Val Acc=0.8385\n",
      "Epoch 2/5: Loss=0.4286, Acc=0.8481, Val Loss=0.4058, Val Acc=0.8497\n",
      "Epoch 3/5: Loss=0.3913, Acc=0.8604, Val Loss=0.3955, Val Acc=0.8547\n",
      "Epoch 4/5: Loss=0.3701, Acc=0.8669, Val Loss=0.3829, Val Acc=0.8588\n",
      "Epoch 5/5: Loss=0.3547, Acc=0.8723, Val Loss=0.3819, Val Acc=0.8598\n"
     ]
    },
    {
     "data": {
      "application/vnd.jupyter.widget-view+json": {
       "model_id": "a27fefeae4cc4d20a71390116f3f94a4",
       "version_major": 2,
       "version_minor": 0
      },
      "text/plain": [
       "VBox(children=(Label(value='0.001 MB of 0.001 MB uploaded\\r'), FloatProgress(value=1.0, max=1.0)))"
      ]
     },
     "metadata": {},
     "output_type": "display_data"
    },
    {
     "data": {
      "text/html": [
       "<style>\n",
       "    table.wandb td:nth-child(1) { padding: 0 10px; text-align: left ; width: auto;} td:nth-child(2) {text-align: left ; width: 100%}\n",
       "    .wandb-row { display: flex; flex-direction: row; flex-wrap: wrap; justify-content: flex-start; width: 100% }\n",
       "    .wandb-col { display: flex; flex-direction: column; flex-basis: 100%; flex: 1; padding: 10px; }\n",
       "    </style>\n",
       "<div class=\"wandb-row\"><div class=\"wandb-col\"><h3>Run history:</h3><br/><table class=\"wandb\"><tr><td>accuracy</td><td>▁▆▇██</td></tr><tr><td>epoch</td><td>▁▃▅▆█</td></tr><tr><td>final_val_accuracy</td><td>▁</td></tr><tr><td>final_val_loss</td><td>▁</td></tr><tr><td>loss</td><td>█▃▂▁▁</td></tr><tr><td>val_accuracy</td><td>▁▅▆██</td></tr><tr><td>val_loss</td><td>█▄▂▁▁</td></tr></table><br/></div><div class=\"wandb-col\"><h3>Run summary:</h3><br/><table class=\"wandb\"><tr><td>accuracy</td><td>0.87229</td></tr><tr><td>epoch</td><td>5</td></tr><tr><td>final_val_accuracy</td><td>0.85983</td></tr><tr><td>final_val_loss</td><td>0.38195</td></tr><tr><td>loss</td><td>0.35472</td></tr><tr><td>val_accuracy</td><td>0.85983</td></tr><tr><td>val_loss</td><td>0.38195</td></tr></table><br/></div></div>"
      ],
      "text/plain": [
       "<IPython.core.display.HTML object>"
      ]
     },
     "metadata": {},
     "output_type": "display_data"
    },
    {
     "data": {
      "text/html": [
       " View run <strong style=\"color:#cdcd00\">fast-sweep-18</strong> at: <a href='https://wandb.ai/da24m016-indian-institute-of-technology-madras/DL_Assignment_01/runs/3xe5y2p2' target=\"_blank\">https://wandb.ai/da24m016-indian-institute-of-technology-madras/DL_Assignment_01/runs/3xe5y2p2</a><br/>Synced 5 W&B file(s), 0 media file(s), 0 artifact file(s) and 0 other file(s)"
      ],
      "text/plain": [
       "<IPython.core.display.HTML object>"
      ]
     },
     "metadata": {},
     "output_type": "display_data"
    },
    {
     "data": {
      "text/html": [
       "Find logs at: <code>.\\wandb\\run-20250308_062127-3xe5y2p2\\logs</code>"
      ],
      "text/plain": [
       "<IPython.core.display.HTML object>"
      ]
     },
     "metadata": {},
     "output_type": "display_data"
    },
    {
     "name": "stderr",
     "output_type": "stream",
     "text": [
      "\u001b[34m\u001b[1mwandb\u001b[0m: Agent Starting Run: zwhqyhqp with config:\n",
      "\u001b[34m\u001b[1mwandb\u001b[0m: \tactivation: relu\n",
      "\u001b[34m\u001b[1mwandb\u001b[0m: \tbatch_size: 32\n",
      "\u001b[34m\u001b[1mwandb\u001b[0m: \tepochs: 5\n",
      "\u001b[34m\u001b[1mwandb\u001b[0m: \thidden_size: 128\n",
      "\u001b[34m\u001b[1mwandb\u001b[0m: \tlearning_rate: 0.0001\n",
      "\u001b[34m\u001b[1mwandb\u001b[0m: \tnum_layers: 5\n",
      "\u001b[34m\u001b[1mwandb\u001b[0m: \toptimizer: nadam\n",
      "\u001b[34m\u001b[1mwandb\u001b[0m: \tweight_decay: 0.0005\n",
      "\u001b[34m\u001b[1mwandb\u001b[0m: \tweight_init: xavier\n",
      "Failed to detect the name of this notebook, you can set it manually with the WANDB_NOTEBOOK_NAME environment variable to enable code saving.\n"
     ]
    },
    {
     "data": {
      "text/html": [
       "wandb version 0.19.8 is available!  To upgrade, please run:\n",
       " $ pip install wandb --upgrade"
      ],
      "text/plain": [
       "<IPython.core.display.HTML object>"
      ]
     },
     "metadata": {},
     "output_type": "display_data"
    },
    {
     "data": {
      "text/html": [
       "Tracking run with wandb version 0.16.1"
      ],
      "text/plain": [
       "<IPython.core.display.HTML object>"
      ]
     },
     "metadata": {},
     "output_type": "display_data"
    },
    {
     "data": {
      "text/html": [
       "Run data is saved locally in <code>c:\\Users\\D. Sai Mani Kumar\\Downloads\\DL\\da6401_assignment1\\wandb\\run-20250308_062222-zwhqyhqp</code>"
      ],
      "text/plain": [
       "<IPython.core.display.HTML object>"
      ]
     },
     "metadata": {},
     "output_type": "display_data"
    },
    {
     "data": {
      "text/html": [
       "Syncing run <strong><a href='https://wandb.ai/da24m016-indian-institute-of-technology-madras/DL_Assignment_01/runs/zwhqyhqp' target=\"_blank\">pretty-sweep-19</a></strong> to <a href='https://wandb.ai/da24m016-indian-institute-of-technology-madras/DL_Assignment_01' target=\"_blank\">Weights & Biases</a> (<a href='https://wandb.me/run' target=\"_blank\">docs</a>)<br/>Sweep page: <a href='https://wandb.ai/da24m016-indian-institute-of-technology-madras/DL_Assignment_01/sweeps/pu8149xm' target=\"_blank\">https://wandb.ai/da24m016-indian-institute-of-technology-madras/DL_Assignment_01/sweeps/pu8149xm</a>"
      ],
      "text/plain": [
       "<IPython.core.display.HTML object>"
      ]
     },
     "metadata": {},
     "output_type": "display_data"
    },
    {
     "data": {
      "text/html": [
       " View project at <a href='https://wandb.ai/da24m016-indian-institute-of-technology-madras/DL_Assignment_01' target=\"_blank\">https://wandb.ai/da24m016-indian-institute-of-technology-madras/DL_Assignment_01</a>"
      ],
      "text/plain": [
       "<IPython.core.display.HTML object>"
      ]
     },
     "metadata": {},
     "output_type": "display_data"
    },
    {
     "data": {
      "text/html": [
       " View sweep at <a href='https://wandb.ai/da24m016-indian-institute-of-technology-madras/DL_Assignment_01/sweeps/pu8149xm' target=\"_blank\">https://wandb.ai/da24m016-indian-institute-of-technology-madras/DL_Assignment_01/sweeps/pu8149xm</a>"
      ],
      "text/plain": [
       "<IPython.core.display.HTML object>"
      ]
     },
     "metadata": {},
     "output_type": "display_data"
    },
    {
     "data": {
      "text/html": [
       " View run at <a href='https://wandb.ai/da24m016-indian-institute-of-technology-madras/DL_Assignment_01/runs/zwhqyhqp' target=\"_blank\">https://wandb.ai/da24m016-indian-institute-of-technology-madras/DL_Assignment_01/runs/zwhqyhqp</a>"
      ],
      "text/plain": [
       "<IPython.core.display.HTML object>"
      ]
     },
     "metadata": {},
     "output_type": "display_data"
    },
    {
     "name": "stdout",
     "output_type": "stream",
     "text": [
      "Epoch 1/5: Loss=0.6522, Acc=0.7708, Val Loss=0.4775, Val Acc=0.8372\n",
      "Epoch 2/5: Loss=0.4268, Acc=0.8488, Val Loss=0.4084, Val Acc=0.8565\n",
      "Epoch 3/5: Loss=0.3904, Acc=0.8607, Val Loss=0.3856, Val Acc=0.8602\n",
      "Epoch 4/5: Loss=0.3663, Acc=0.8679, Val Loss=0.3664, Val Acc=0.8700\n",
      "Epoch 5/5: Loss=0.3463, Acc=0.8756, Val Loss=0.3546, Val Acc=0.8730\n"
     ]
    },
    {
     "data": {
      "application/vnd.jupyter.widget-view+json": {
       "model_id": "6d1c7a0bd124426eaa9e32663f3f553c",
       "version_major": 2,
       "version_minor": 0
      },
      "text/plain": [
       "VBox(children=(Label(value='0.001 MB of 0.001 MB uploaded\\r'), FloatProgress(value=1.0, max=1.0)))"
      ]
     },
     "metadata": {},
     "output_type": "display_data"
    },
    {
     "data": {
      "text/html": [
       "<style>\n",
       "    table.wandb td:nth-child(1) { padding: 0 10px; text-align: left ; width: auto;} td:nth-child(2) {text-align: left ; width: 100%}\n",
       "    .wandb-row { display: flex; flex-direction: row; flex-wrap: wrap; justify-content: flex-start; width: 100% }\n",
       "    .wandb-col { display: flex; flex-direction: column; flex-basis: 100%; flex: 1; padding: 10px; }\n",
       "    </style>\n",
       "<div class=\"wandb-row\"><div class=\"wandb-col\"><h3>Run history:</h3><br/><table class=\"wandb\"><tr><td>accuracy</td><td>▁▆▇▇█</td></tr><tr><td>epoch</td><td>▁▃▅▆█</td></tr><tr><td>final_val_accuracy</td><td>▁</td></tr><tr><td>final_val_loss</td><td>▁</td></tr><tr><td>loss</td><td>█▃▂▁▁</td></tr><tr><td>val_accuracy</td><td>▁▅▅▇█</td></tr><tr><td>val_loss</td><td>█▄▃▂▁</td></tr></table><br/></div><div class=\"wandb-col\"><h3>Run summary:</h3><br/><table class=\"wandb\"><tr><td>accuracy</td><td>0.87563</td></tr><tr><td>epoch</td><td>5</td></tr><tr><td>final_val_accuracy</td><td>0.873</td></tr><tr><td>final_val_loss</td><td>0.35461</td></tr><tr><td>loss</td><td>0.34629</td></tr><tr><td>val_accuracy</td><td>0.873</td></tr><tr><td>val_loss</td><td>0.35461</td></tr></table><br/></div></div>"
      ],
      "text/plain": [
       "<IPython.core.display.HTML object>"
      ]
     },
     "metadata": {},
     "output_type": "display_data"
    },
    {
     "data": {
      "text/html": [
       " View run <strong style=\"color:#cdcd00\">pretty-sweep-19</strong> at: <a href='https://wandb.ai/da24m016-indian-institute-of-technology-madras/DL_Assignment_01/runs/zwhqyhqp' target=\"_blank\">https://wandb.ai/da24m016-indian-institute-of-technology-madras/DL_Assignment_01/runs/zwhqyhqp</a><br/>Synced 5 W&B file(s), 0 media file(s), 0 artifact file(s) and 0 other file(s)"
      ],
      "text/plain": [
       "<IPython.core.display.HTML object>"
      ]
     },
     "metadata": {},
     "output_type": "display_data"
    },
    {
     "data": {
      "text/html": [
       "Find logs at: <code>.\\wandb\\run-20250308_062222-zwhqyhqp\\logs</code>"
      ],
      "text/plain": [
       "<IPython.core.display.HTML object>"
      ]
     },
     "metadata": {},
     "output_type": "display_data"
    },
    {
     "name": "stderr",
     "output_type": "stream",
     "text": [
      "\u001b[34m\u001b[1mwandb\u001b[0m: Agent Starting Run: 7wt3iqpy with config:\n",
      "\u001b[34m\u001b[1mwandb\u001b[0m: \tactivation: relu\n",
      "\u001b[34m\u001b[1mwandb\u001b[0m: \tbatch_size: 32\n",
      "\u001b[34m\u001b[1mwandb\u001b[0m: \tepochs: 5\n",
      "\u001b[34m\u001b[1mwandb\u001b[0m: \thidden_size: 128\n",
      "\u001b[34m\u001b[1mwandb\u001b[0m: \tlearning_rate: 0.0001\n",
      "\u001b[34m\u001b[1mwandb\u001b[0m: \tnum_layers: 4\n",
      "\u001b[34m\u001b[1mwandb\u001b[0m: \toptimizer: adam\n",
      "\u001b[34m\u001b[1mwandb\u001b[0m: \tweight_decay: 0.0005\n",
      "\u001b[34m\u001b[1mwandb\u001b[0m: \tweight_init: xavier\n",
      "Failed to detect the name of this notebook, you can set it manually with the WANDB_NOTEBOOK_NAME environment variable to enable code saving.\n"
     ]
    },
    {
     "data": {
      "text/html": [
       "wandb version 0.19.8 is available!  To upgrade, please run:\n",
       " $ pip install wandb --upgrade"
      ],
      "text/plain": [
       "<IPython.core.display.HTML object>"
      ]
     },
     "metadata": {},
     "output_type": "display_data"
    },
    {
     "data": {
      "text/html": [
       "Tracking run with wandb version 0.16.1"
      ],
      "text/plain": [
       "<IPython.core.display.HTML object>"
      ]
     },
     "metadata": {},
     "output_type": "display_data"
    },
    {
     "data": {
      "text/html": [
       "Run data is saved locally in <code>c:\\Users\\D. Sai Mani Kumar\\Downloads\\DL\\da6401_assignment1\\wandb\\run-20250308_062336-7wt3iqpy</code>"
      ],
      "text/plain": [
       "<IPython.core.display.HTML object>"
      ]
     },
     "metadata": {},
     "output_type": "display_data"
    },
    {
     "data": {
      "text/html": [
       "Syncing run <strong><a href='https://wandb.ai/da24m016-indian-institute-of-technology-madras/DL_Assignment_01/runs/7wt3iqpy' target=\"_blank\">polished-sweep-20</a></strong> to <a href='https://wandb.ai/da24m016-indian-institute-of-technology-madras/DL_Assignment_01' target=\"_blank\">Weights & Biases</a> (<a href='https://wandb.me/run' target=\"_blank\">docs</a>)<br/>Sweep page: <a href='https://wandb.ai/da24m016-indian-institute-of-technology-madras/DL_Assignment_01/sweeps/pu8149xm' target=\"_blank\">https://wandb.ai/da24m016-indian-institute-of-technology-madras/DL_Assignment_01/sweeps/pu8149xm</a>"
      ],
      "text/plain": [
       "<IPython.core.display.HTML object>"
      ]
     },
     "metadata": {},
     "output_type": "display_data"
    },
    {
     "data": {
      "text/html": [
       " View project at <a href='https://wandb.ai/da24m016-indian-institute-of-technology-madras/DL_Assignment_01' target=\"_blank\">https://wandb.ai/da24m016-indian-institute-of-technology-madras/DL_Assignment_01</a>"
      ],
      "text/plain": [
       "<IPython.core.display.HTML object>"
      ]
     },
     "metadata": {},
     "output_type": "display_data"
    },
    {
     "data": {
      "text/html": [
       " View sweep at <a href='https://wandb.ai/da24m016-indian-institute-of-technology-madras/DL_Assignment_01/sweeps/pu8149xm' target=\"_blank\">https://wandb.ai/da24m016-indian-institute-of-technology-madras/DL_Assignment_01/sweeps/pu8149xm</a>"
      ],
      "text/plain": [
       "<IPython.core.display.HTML object>"
      ]
     },
     "metadata": {},
     "output_type": "display_data"
    },
    {
     "data": {
      "text/html": [
       " View run at <a href='https://wandb.ai/da24m016-indian-institute-of-technology-madras/DL_Assignment_01/runs/7wt3iqpy' target=\"_blank\">https://wandb.ai/da24m016-indian-institute-of-technology-madras/DL_Assignment_01/runs/7wt3iqpy</a>"
      ],
      "text/plain": [
       "<IPython.core.display.HTML object>"
      ]
     },
     "metadata": {},
     "output_type": "display_data"
    },
    {
     "name": "stdout",
     "output_type": "stream",
     "text": [
      "Epoch 1/5: Loss=0.6709, Acc=0.7713, Val Loss=0.4742, Val Acc=0.8353\n",
      "Epoch 2/5: Loss=0.4394, Acc=0.8451, Val Loss=0.4106, Val Acc=0.8535\n",
      "Epoch 3/5: Loss=0.3942, Acc=0.8608, Val Loss=0.3835, Val Acc=0.8625\n",
      "Epoch 4/5: Loss=0.3684, Acc=0.8689, Val Loss=0.3649, Val Acc=0.8658\n",
      "Epoch 5/5: Loss=0.3477, Acc=0.8752, Val Loss=0.3570, Val Acc=0.8698\n"
     ]
    },
    {
     "data": {
      "application/vnd.jupyter.widget-view+json": {
       "model_id": "5667725d81674ef5be639b47963bd605",
       "version_major": 2,
       "version_minor": 0
      },
      "text/plain": [
       "VBox(children=(Label(value='0.001 MB of 0.001 MB uploaded\\r'), FloatProgress(value=1.0, max=1.0)))"
      ]
     },
     "metadata": {},
     "output_type": "display_data"
    },
    {
     "data": {
      "text/html": [
       "<style>\n",
       "    table.wandb td:nth-child(1) { padding: 0 10px; text-align: left ; width: auto;} td:nth-child(2) {text-align: left ; width: 100%}\n",
       "    .wandb-row { display: flex; flex-direction: row; flex-wrap: wrap; justify-content: flex-start; width: 100% }\n",
       "    .wandb-col { display: flex; flex-direction: column; flex-basis: 100%; flex: 1; padding: 10px; }\n",
       "    </style>\n",
       "<div class=\"wandb-row\"><div class=\"wandb-col\"><h3>Run history:</h3><br/><table class=\"wandb\"><tr><td>accuracy</td><td>▁▆▇██</td></tr><tr><td>epoch</td><td>▁▃▅▆█</td></tr><tr><td>final_val_accuracy</td><td>▁</td></tr><tr><td>final_val_loss</td><td>▁</td></tr><tr><td>loss</td><td>█▃▂▁▁</td></tr><tr><td>val_accuracy</td><td>▁▅▇▇█</td></tr><tr><td>val_loss</td><td>█▄▃▁▁</td></tr></table><br/></div><div class=\"wandb-col\"><h3>Run summary:</h3><br/><table class=\"wandb\"><tr><td>accuracy</td><td>0.87519</td></tr><tr><td>epoch</td><td>5</td></tr><tr><td>final_val_accuracy</td><td>0.86983</td></tr><tr><td>final_val_loss</td><td>0.35702</td></tr><tr><td>loss</td><td>0.34773</td></tr><tr><td>val_accuracy</td><td>0.86983</td></tr><tr><td>val_loss</td><td>0.35702</td></tr></table><br/></div></div>"
      ],
      "text/plain": [
       "<IPython.core.display.HTML object>"
      ]
     },
     "metadata": {},
     "output_type": "display_data"
    },
    {
     "data": {
      "text/html": [
       " View run <strong style=\"color:#cdcd00\">polished-sweep-20</strong> at: <a href='https://wandb.ai/da24m016-indian-institute-of-technology-madras/DL_Assignment_01/runs/7wt3iqpy' target=\"_blank\">https://wandb.ai/da24m016-indian-institute-of-technology-madras/DL_Assignment_01/runs/7wt3iqpy</a><br/>Synced 5 W&B file(s), 0 media file(s), 0 artifact file(s) and 0 other file(s)"
      ],
      "text/plain": [
       "<IPython.core.display.HTML object>"
      ]
     },
     "metadata": {},
     "output_type": "display_data"
    },
    {
     "data": {
      "text/html": [
       "Find logs at: <code>.\\wandb\\run-20250308_062336-7wt3iqpy\\logs</code>"
      ],
      "text/plain": [
       "<IPython.core.display.HTML object>"
      ]
     },
     "metadata": {},
     "output_type": "display_data"
    }
   ],
   "source": [
    "# Launch the sweep agent; this will run the training function with different hyperparameter configurations.\n",
    "wandb.agent(sweep_id, function=sweep_train, count=20)\n"
   ]
  },
  {
   "cell_type": "code",
   "execution_count": null,
   "metadata": {},
   "outputs": [],
   "source": []
  }
 ],
 "metadata": {
  "kernelspec": {
   "display_name": "Python 3",
   "language": "python",
   "name": "python3"
  },
  "language_info": {
   "codemirror_mode": {
    "name": "ipython",
    "version": 3
   },
   "file_extension": ".py",
   "mimetype": "text/x-python",
   "name": "python",
   "nbconvert_exporter": "python",
   "pygments_lexer": "ipython3",
   "version": "3.9.5"
  }
 },
 "nbformat": 4,
 "nbformat_minor": 2
}

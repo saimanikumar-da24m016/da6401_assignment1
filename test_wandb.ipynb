{
 "cells": [
  {
   "cell_type": "code",
   "execution_count": null,
   "metadata": {},
   "outputs": [
    {
     "data": {
      "application/vnd.jupyter.widget-view+json": {
       "model_id": "f42236a10c8e4f8f82784f976d0cd319",
       "version_major": 2,
       "version_minor": 0
      },
      "text/plain": [
       "VBox(children=(Label(value='Waiting for wandb.init()...\\r'), FloatProgress(value=0.011277777777932999, max=1.0…"
      ]
     },
     "metadata": {},
     "output_type": "display_data"
    },
    {
     "data": {
      "text/html": [
       "wandb version 0.19.8 is available!  To upgrade, please run:\n",
       " $ pip install wandb --upgrade"
      ],
      "text/plain": [
       "<IPython.core.display.HTML object>"
      ]
     },
     "metadata": {},
     "output_type": "display_data"
    },
    {
     "data": {
      "text/html": [
       "Tracking run with wandb version 0.16.1"
      ],
      "text/plain": [
       "<IPython.core.display.HTML object>"
      ]
     },
     "metadata": {},
     "output_type": "display_data"
    },
    {
     "data": {
      "text/html": [
       "Run data is saved locally in <code>c:\\Users\\D. Sai Mani Kumar\\Downloads\\DL\\da6401_assignment1\\wandb\\run-20250317_221756-zlo9gwk3</code>"
      ],
      "text/plain": [
       "<IPython.core.display.HTML object>"
      ]
     },
     "metadata": {},
     "output_type": "display_data"
    },
    {
     "data": {
      "text/html": [
       "Syncing run <strong><a href='https://wandb.ai/da24m016-indian-institute-of-technology-madras/DL_Assignment_01/runs/zlo9gwk3' target=\"_blank\">fashion_mnist_sample_grid</a></strong> to <a href='https://wandb.ai/da24m016-indian-institute-of-technology-madras/DL_Assignment_01' target=\"_blank\">Weights & Biases</a> (<a href='https://wandb.me/run' target=\"_blank\">docs</a>)<br/>"
      ],
      "text/plain": [
       "<IPython.core.display.HTML object>"
      ]
     },
     "metadata": {},
     "output_type": "display_data"
    },
    {
     "data": {
      "text/html": [
       " View project at <a href='https://wandb.ai/da24m016-indian-institute-of-technology-madras/DL_Assignment_01' target=\"_blank\">https://wandb.ai/da24m016-indian-institute-of-technology-madras/DL_Assignment_01</a>"
      ],
      "text/plain": [
       "<IPython.core.display.HTML object>"
      ]
     },
     "metadata": {},
     "output_type": "display_data"
    },
    {
     "data": {
      "text/html": [
       " View run at <a href='https://wandb.ai/da24m016-indian-institute-of-technology-madras/DL_Assignment_01/runs/zlo9gwk3' target=\"_blank\">https://wandb.ai/da24m016-indian-institute-of-technology-madras/DL_Assignment_01/runs/zlo9gwk3</a>"
      ],
      "text/plain": [
       "<IPython.core.display.HTML object>"
      ]
     },
     "metadata": {},
     "output_type": "display_data"
    },
    {
     "data": {
      "image/png": "[encoded data removed]",
      "text/plain": [
       "<Figure size 864x432 with 10 Axes>"
      ]
     },
     "metadata": {
      "needs_background": "light"
     },
     "output_type": "display_data"
    },
    {
     "data": {
      "application/vnd.jupyter.widget-view+json": {
       "model_id": "987d6c2ace1a46898c11af774a27066b",
       "version_major": 2,
       "version_minor": 0
      },
      "text/plain": [
       "VBox(children=(Label(value='0.025 MB of 0.025 MB uploaded\\r'), FloatProgress(value=1.0, max=1.0)))"
      ]
     },
     "metadata": {},
     "output_type": "display_data"
    },
    {
     "data": {
      "text/html": [
       " View run <strong style=\"color:#cdcd00\">fashion_mnist_sample_grid</strong> at: <a href='https://wandb.ai/da24m016-indian-institute-of-technology-madras/DL_Assignment_01/runs/zlo9gwk3' target=\"_blank\">https://wandb.ai/da24m016-indian-institute-of-technology-madras/DL_Assignment_01/runs/zlo9gwk3</a><br/>Synced 4 W&B file(s), 1 media file(s), 0 artifact file(s) and 0 other file(s)"
      ],
      "text/plain": [
       "<IPython.core.display.HTML object>"
      ]
     },
     "metadata": {},
     "output_type": "display_data"
    },
    {
     "data": {
      "text/html": [
       "Find logs at: <code>.\\wandb\\run-20250317_221756-zlo9gwk3\\logs</code>"
      ],
      "text/plain": [
       "<IPython.core.display.HTML object>"
      ]
     },
     "metadata": {},
     "output_type": "display_data"
    }
   ],
   "source": [
    "### Printing Images\n",
    "\n",
    "import wandb\n",
    "import matplotlib.pyplot as plt\n",
    "import numpy as np\n",
    "from keras.datasets import fashion_mnist\n",
    "\n",
    "wandb.init(project=\"DL_Assignment_01\", name=\"fashion_mnist_sample_grid\")\n",
    "\n",
    "(X_train, y_train), (_, _) = fashion_mnist.load_data()\n",
    "\n",
    "class_names = [\n",
    "    \"T-shirt/top\", \"Trouser\", \"Pullover\", \"Dress\", \"Coat\", \n",
    "    \"Sandal\", \"Shirt\", \"Sneaker\", \"Bag\", \"Ankle boot\"\n",
    "]\n",
    "\n",
    "fig, axes = plt.subplots(2, 5, figsize=(12, 6))\n",
    "for i, ax in enumerate(axes.flat):\n",
    "    idx = np.where(y_train == i)[0][0]\n",
    "    ax.imshow(X_train[idx], cmap=\"gray\")\n",
    "    ax.set_title(f\"{i}: {class_names[i]}\")\n",
    "    ax.axis(\"off\")\n",
    "\n",
    "plt.tight_layout()\n",
    "\n",
    "wandb.log({\"Fashion-MNIST Sample Images\": wandb.Image(fig)})\n",
    "\n",
    "plt.show()\n",
    "wandb.finish()\n"
   ]
  },
  {
   "cell_type": "markdown",
   "metadata": {},
   "source": [
    "Test code for MNIST"
   ]
  },
  {
   "cell_type": "code",
   "execution_count": null,
   "metadata": {},
   "outputs": [
    {
     "data": {
      "text/html": [
       "wandb version 0.19.8 is available!  To upgrade, please run:\n",
       " $ pip install wandb --upgrade"
      ],
      "text/plain": [
       "<IPython.core.display.HTML object>"
      ]
     },
     "metadata": {},
     "output_type": "display_data"
    },
    {
     "data": {
      "text/html": [
       "Tracking run with wandb version 0.16.1"
      ],
      "text/plain": [
       "<IPython.core.display.HTML object>"
      ]
     },
     "metadata": {},
     "output_type": "display_data"
    },
    {
     "data": {
      "text/html": [
       "Run data is saved locally in <code>c:\\Users\\D. Sai Mani Kumar\\Downloads\\DL\\da6401_assignment1\\wandb\\run-20250317_212102-5gwbqbom</code>"
      ],
      "text/plain": [
       "<IPython.core.display.HTML object>"
      ]
     },
     "metadata": {},
     "output_type": "display_data"
    },
    {
     "data": {
      "text/html": [
       "Syncing run <strong><a href='https://wandb.ai/da24m016-indian-institute-of-technology-madras/DL_Assignment_01/runs/5gwbqbom' target=\"_blank\">mnist_nadam_tanh_3_128_64</a></strong> to <a href='https://wandb.ai/da24m016-indian-institute-of-technology-madras/DL_Assignment_01' target=\"_blank\">Weights & Biases</a> (<a href='https://wandb.me/run' target=\"_blank\">docs</a>)<br/>"
      ],
      "text/plain": [
       "<IPython.core.display.HTML object>"
      ]
     },
     "metadata": {},
     "output_type": "display_data"
    },
    {
     "data": {
      "text/html": [
       " View project at <a href='https://wandb.ai/da24m016-indian-institute-of-technology-madras/DL_Assignment_01' target=\"_blank\">https://wandb.ai/da24m016-indian-institute-of-technology-madras/DL_Assignment_01</a>"
      ],
      "text/plain": [
       "<IPython.core.display.HTML object>"
      ]
     },
     "metadata": {},
     "output_type": "display_data"
    },
    {
     "data": {
      "text/html": [
       " View run at <a href='https://wandb.ai/da24m016-indian-institute-of-technology-madras/DL_Assignment_01/runs/5gwbqbom' target=\"_blank\">https://wandb.ai/da24m016-indian-institute-of-technology-madras/DL_Assignment_01/runs/5gwbqbom</a>"
      ],
      "text/plain": [
       "<IPython.core.display.HTML object>"
      ]
     },
     "metadata": {},
     "output_type": "display_data"
    },
    {
     "name": "stdout",
     "output_type": "stream",
     "text": [
      "Starting run: mnist_nadam_tanh_3_128_64\n",
      "Downloading data from https://storage.googleapis.com/tensorflow/tf-keras-datasets/mnist.npz\n",
      "11493376/11490434 [==============================] - 3s 0us/step\n",
      "11501568/11490434 [==============================] - 3s 0us/step\n",
      "Epoch 1/10: Loss=0.2757, Acc=0.9176, Val Loss=0.1654, Val Acc=0.9502\n",
      "Epoch 2/10: Loss=0.1278, Acc=0.9614, Val Loss=0.1109, Val Acc=0.9638\n",
      "Epoch 3/10: Loss=0.0874, Acc=0.9730, Val Loss=0.1015, Val Acc=0.9687\n",
      "Epoch 4/10: Loss=0.0648, Acc=0.9791, Val Loss=0.0794, Val Acc=0.9767\n",
      "Epoch 5/10: Loss=0.0498, Acc=0.9838, Val Loss=0.0799, Val Acc=0.9755\n",
      "Epoch 6/10: Loss=0.0396, Acc=0.9873, Val Loss=0.0815, Val Acc=0.9760\n",
      "Epoch 7/10: Loss=0.0314, Acc=0.9897, Val Loss=0.0803, Val Acc=0.9760\n",
      "Epoch 8/10: Loss=0.0259, Acc=0.9913, Val Loss=0.0722, Val Acc=0.9783\n",
      "Epoch 9/10: Loss=0.0213, Acc=0.9930, Val Loss=0.0876, Val Acc=0.9750\n",
      "Epoch 10/10: Loss=0.0191, Acc=0.9937, Val Loss=0.0805, Val Acc=0.9783\n",
      "Test Accuracy: 0.9747\n",
      "Test Accuracy for mnist_nadam_tanh_3_128_64: 97.47%\n"
     ]
    },
    {
     "data": {
      "image/png": "[encoded data removed]",
      "text/plain": [
       "<Figure size 576x432 with 2 Axes>"
      ]
     },
     "metadata": {
      "needs_background": "light"
     },
     "output_type": "display_data"
    },
    {
     "data": {
      "application/vnd.jupyter.widget-view+json": {
       "model_id": "3a062398b8364a93a895c5502628b709",
       "version_major": 2,
       "version_minor": 0
      },
      "text/plain": [
       "VBox(children=(Label(value='0.026 MB of 0.026 MB uploaded\\r'), FloatProgress(value=1.0, max=1.0)))"
      ]
     },
     "metadata": {},
     "output_type": "display_data"
    },
    {
     "data": {
      "text/html": [
       "<style>\n",
       "    table.wandb td:nth-child(1) { padding: 0 10px; text-align: left ; width: auto;} td:nth-child(2) {text-align: left ; width: 100%}\n",
       "    .wandb-row { display: flex; flex-direction: row; flex-wrap: wrap; justify-content: flex-start; width: 100% }\n",
       "    .wandb-col { display: flex; flex-direction: column; flex-basis: 100%; flex: 1; padding: 10px; }\n",
       "    </style>\n",
       "<div class=\"wandb-row\"><div class=\"wandb-col\"><h3>Run history:</h3><br/><table class=\"wandb\"><tr><td>accuracy</td><td>▁▅▆▇▇▇████</td></tr><tr><td>epoch</td><td>▁▂▃▃▄▅▆▆▇█</td></tr><tr><td>loss</td><td>█▄▃▂▂▂▁▁▁▁</td></tr><tr><td>val_accuracy</td><td>▁▄▆█▇▇▇█▇█</td></tr><tr><td>val_loss</td><td>█▄▃▂▂▂▂▁▂▂</td></tr></table><br/></div><div class=\"wandb-col\"><h3>Run summary:</h3><br/><table class=\"wandb\"><tr><td>accuracy</td><td>0.99374</td></tr><tr><td>epoch</td><td>10</td></tr><tr><td>loss</td><td>0.0191</td></tr><tr><td>val_accuracy</td><td>0.97833</td></tr><tr><td>val_loss</td><td>0.08049</td></tr></table><br/></div></div>"
      ],
      "text/plain": [
       "<IPython.core.display.HTML object>"
      ]
     },
     "metadata": {},
     "output_type": "display_data"
    },
    {
     "data": {
      "text/html": [
       " View run <strong style=\"color:#cdcd00\">mnist_nadam_tanh_3_128_64</strong> at: <a href='https://wandb.ai/da24m016-indian-institute-of-technology-madras/DL_Assignment_01/runs/5gwbqbom' target=\"_blank\">https://wandb.ai/da24m016-indian-institute-of-technology-madras/DL_Assignment_01/runs/5gwbqbom</a><br/>Synced 5 W&B file(s), 1 media file(s), 0 artifact file(s) and 0 other file(s)"
      ],
      "text/plain": [
       "<IPython.core.display.HTML object>"
      ]
     },
     "metadata": {},
     "output_type": "display_data"
    },
    {
     "data": {
      "text/html": [
       "Find logs at: <code>.\\wandb\\run-20250317_212102-5gwbqbom\\logs</code>"
      ],
      "text/plain": [
       "<IPython.core.display.HTML object>"
      ]
     },
     "metadata": {},
     "output_type": "display_data"
    },
    {
     "data": {
      "text/html": [
       "wandb version 0.19.8 is available!  To upgrade, please run:\n",
       " $ pip install wandb --upgrade"
      ],
      "text/plain": [
       "<IPython.core.display.HTML object>"
      ]
     },
     "metadata": {},
     "output_type": "display_data"
    },
    {
     "data": {
      "text/html": [
       "Tracking run with wandb version 0.16.1"
      ],
      "text/plain": [
       "<IPython.core.display.HTML object>"
      ]
     },
     "metadata": {},
     "output_type": "display_data"
    },
    {
     "data": {
      "text/html": [
       "Run data is saved locally in <code>c:\\Users\\D. Sai Mani Kumar\\Downloads\\DL\\da6401_assignment1\\wandb\\run-20250317_212243-p7h9x96g</code>"
      ],
      "text/plain": [
       "<IPython.core.display.HTML object>"
      ]
     },
     "metadata": {},
     "output_type": "display_data"
    },
    {
     "data": {
      "text/html": [
       "Syncing run <strong><a href='https://wandb.ai/da24m016-indian-institute-of-technology-madras/DL_Assignment_01/runs/p7h9x96g' target=\"_blank\">mnist_nadam_relu_3_128_64</a></strong> to <a href='https://wandb.ai/da24m016-indian-institute-of-technology-madras/DL_Assignment_01' target=\"_blank\">Weights & Biases</a> (<a href='https://wandb.me/run' target=\"_blank\">docs</a>)<br/>"
      ],
      "text/plain": [
       "<IPython.core.display.HTML object>"
      ]
     },
     "metadata": {},
     "output_type": "display_data"
    },
    {
     "data": {
      "text/html": [
       " View project at <a href='https://wandb.ai/da24m016-indian-institute-of-technology-madras/DL_Assignment_01' target=\"_blank\">https://wandb.ai/da24m016-indian-institute-of-technology-madras/DL_Assignment_01</a>"
      ],
      "text/plain": [
       "<IPython.core.display.HTML object>"
      ]
     },
     "metadata": {},
     "output_type": "display_data"
    },
    {
     "data": {
      "text/html": [
       " View run at <a href='https://wandb.ai/da24m016-indian-institute-of-technology-madras/DL_Assignment_01/runs/p7h9x96g' target=\"_blank\">https://wandb.ai/da24m016-indian-institute-of-technology-madras/DL_Assignment_01/runs/p7h9x96g</a>"
      ],
      "text/plain": [
       "<IPython.core.display.HTML object>"
      ]
     },
     "metadata": {},
     "output_type": "display_data"
    },
    {
     "name": "stdout",
     "output_type": "stream",
     "text": [
      "Starting run: mnist_nadam_relu_3_128_64\n",
      "Epoch 1/10: Loss=0.2646, Acc=0.9211, Val Loss=0.1181, Val Acc=0.9655\n",
      "Epoch 2/10: Loss=0.1085, Acc=0.9670, Val Loss=0.0867, Val Acc=0.9740\n",
      "Epoch 3/10: Loss=0.0759, Acc=0.9767, Val Loss=0.0946, Val Acc=0.9735\n",
      "Epoch 4/10: Loss=0.0576, Acc=0.9816, Val Loss=0.0862, Val Acc=0.9725\n",
      "Epoch 5/10: Loss=0.0455, Acc=0.9852, Val Loss=0.0751, Val Acc=0.9785\n",
      "Epoch 6/10: Loss=0.0373, Acc=0.9875, Val Loss=0.0796, Val Acc=0.9770\n",
      "Epoch 7/10: Loss=0.0328, Acc=0.9894, Val Loss=0.0864, Val Acc=0.9763\n",
      "Epoch 8/10: Loss=0.0275, Acc=0.9906, Val Loss=0.0933, Val Acc=0.9767\n",
      "Epoch 9/10: Loss=0.0260, Acc=0.9916, Val Loss=0.0834, Val Acc=0.9783\n",
      "Epoch 10/10: Loss=0.0231, Acc=0.9922, Val Loss=0.0893, Val Acc=0.9795\n",
      "Test Accuracy: 0.9785\n",
      "Test Accuracy for mnist_nadam_relu_3_128_64: 97.85%\n"
     ]
    },
    {
     "data": {
      "image/png": "[encoded data removed]",
      "text/plain": [
       "<Figure size 576x432 with 2 Axes>"
      ]
     },
     "metadata": {
      "needs_background": "light"
     },
     "output_type": "display_data"
    },
    {
     "data": {
      "application/vnd.jupyter.widget-view+json": {
       "model_id": "669ac9d928cf42d48a2d481c44860065",
       "version_major": 2,
       "version_minor": 0
      },
      "text/plain": [
       "VBox(children=(Label(value='0.025 MB of 0.025 MB uploaded\\r'), FloatProgress(value=1.0, max=1.0)))"
      ]
     },
     "metadata": {},
     "output_type": "display_data"
    },
    {
     "data": {
      "text/html": [
       "<style>\n",
       "    table.wandb td:nth-child(1) { padding: 0 10px; text-align: left ; width: auto;} td:nth-child(2) {text-align: left ; width: 100%}\n",
       "    .wandb-row { display: flex; flex-direction: row; flex-wrap: wrap; justify-content: flex-start; width: 100% }\n",
       "    .wandb-col { display: flex; flex-direction: column; flex-basis: 100%; flex: 1; padding: 10px; }\n",
       "    </style>\n",
       "<div class=\"wandb-row\"><div class=\"wandb-col\"><h3>Run history:</h3><br/><table class=\"wandb\"><tr><td>accuracy</td><td>▁▆▆▇▇█████</td></tr><tr><td>epoch</td><td>▁▂▃▃▄▅▆▆▇█</td></tr><tr><td>loss</td><td>█▃▃▂▂▁▁▁▁▁</td></tr><tr><td>val_accuracy</td><td>▁▅▅▅█▇▆▇▇█</td></tr><tr><td>val_loss</td><td>█▃▄▃▁▂▃▄▂▃</td></tr></table><br/></div><div class=\"wandb-col\"><h3>Run summary:</h3><br/><table class=\"wandb\"><tr><td>accuracy</td><td>0.99216</td></tr><tr><td>epoch</td><td>10</td></tr><tr><td>loss</td><td>0.02309</td></tr><tr><td>val_accuracy</td><td>0.9795</td></tr><tr><td>val_loss</td><td>0.08931</td></tr></table><br/></div></div>"
      ],
      "text/plain": [
       "<IPython.core.display.HTML object>"
      ]
     },
     "metadata": {},
     "output_type": "display_data"
    },
    {
     "data": {
      "text/html": [
       " View run <strong style=\"color:#cdcd00\">mnist_nadam_relu_3_128_64</strong> at: <a href='https://wandb.ai/da24m016-indian-institute-of-technology-madras/DL_Assignment_01/runs/p7h9x96g' target=\"_blank\">https://wandb.ai/da24m016-indian-institute-of-technology-madras/DL_Assignment_01/runs/p7h9x96g</a><br/>Synced 5 W&B file(s), 1 media file(s), 0 artifact file(s) and 0 other file(s)"
      ],
      "text/plain": [
       "<IPython.core.display.HTML object>"
      ]
     },
     "metadata": {},
     "output_type": "display_data"
    },
    {
     "data": {
      "text/html": [
       "Find logs at: <code>.\\wandb\\run-20250317_212243-p7h9x96g\\logs</code>"
      ],
      "text/plain": [
       "<IPython.core.display.HTML object>"
      ]
     },
     "metadata": {},
     "output_type": "display_data"
    },
    {
     "data": {
      "application/vnd.jupyter.widget-view+json": {
       "model_id": "5ad1d4e22fb443bb9c54b9049a7329c4",
       "version_major": 2,
       "version_minor": 0
      },
      "text/plain": [
       "VBox(children=(Label(value='Waiting for wandb.init()...\\r'), FloatProgress(value=0.011277777777932999, max=1.0…"
      ]
     },
     "metadata": {},
     "output_type": "display_data"
    },
    {
     "data": {
      "text/html": [
       "wandb version 0.19.8 is available!  To upgrade, please run:\n",
       " $ pip install wandb --upgrade"
      ],
      "text/plain": [
       "<IPython.core.display.HTML object>"
      ]
     },
     "metadata": {},
     "output_type": "display_data"
    },
    {
     "data": {
      "text/html": [
       "Tracking run with wandb version 0.16.1"
      ],
      "text/plain": [
       "<IPython.core.display.HTML object>"
      ]
     },
     "metadata": {},
     "output_type": "display_data"
    },
    {
     "data": {
      "text/html": [
       "Run data is saved locally in <code>c:\\Users\\D. Sai Mani Kumar\\Downloads\\DL\\da6401_assignment1\\wandb\\run-20250317_212414-nb8plx64</code>"
      ],
      "text/plain": [
       "<IPython.core.display.HTML object>"
      ]
     },
     "metadata": {},
     "output_type": "display_data"
    },
    {
     "data": {
      "text/html": [
       "Syncing run <strong><a href='https://wandb.ai/da24m016-indian-institute-of-technology-madras/DL_Assignment_01/runs/nb8plx64' target=\"_blank\">mnist_adam_relu_5_128_64</a></strong> to <a href='https://wandb.ai/da24m016-indian-institute-of-technology-madras/DL_Assignment_01' target=\"_blank\">Weights & Biases</a> (<a href='https://wandb.me/run' target=\"_blank\">docs</a>)<br/>"
      ],
      "text/plain": [
       "<IPython.core.display.HTML object>"
      ]
     },
     "metadata": {},
     "output_type": "display_data"
    },
    {
     "data": {
      "text/html": [
       " View project at <a href='https://wandb.ai/da24m016-indian-institute-of-technology-madras/DL_Assignment_01' target=\"_blank\">https://wandb.ai/da24m016-indian-institute-of-technology-madras/DL_Assignment_01</a>"
      ],
      "text/plain": [
       "<IPython.core.display.HTML object>"
      ]
     },
     "metadata": {},
     "output_type": "display_data"
    },
    {
     "data": {
      "text/html": [
       " View run at <a href='https://wandb.ai/da24m016-indian-institute-of-technology-madras/DL_Assignment_01/runs/nb8plx64' target=\"_blank\">https://wandb.ai/da24m016-indian-institute-of-technology-madras/DL_Assignment_01/runs/nb8plx64</a>"
      ],
      "text/plain": [
       "<IPython.core.display.HTML object>"
      ]
     },
     "metadata": {},
     "output_type": "display_data"
    },
    {
     "name": "stdout",
     "output_type": "stream",
     "text": [
      "Starting run: mnist_adam_relu_5_128_64\n",
      "Epoch 1/10: Loss=0.2783, Acc=0.9153, Val Loss=0.1459, Val Acc=0.9552\n",
      "Epoch 2/10: Loss=0.1160, Acc=0.9649, Val Loss=0.1271, Val Acc=0.9615\n",
      "Epoch 3/10: Loss=0.0835, Acc=0.9747, Val Loss=0.0991, Val Acc=0.9700\n",
      "Epoch 4/10: Loss=0.0679, Acc=0.9796, Val Loss=0.0918, Val Acc=0.9732\n",
      "Epoch 5/10: Loss=0.0592, Acc=0.9810, Val Loss=0.0968, Val Acc=0.9730\n",
      "Epoch 6/10: Loss=0.0465, Acc=0.9857, Val Loss=0.0973, Val Acc=0.9738\n",
      "Epoch 7/10: Loss=0.0392, Acc=0.9877, Val Loss=0.1054, Val Acc=0.9722\n",
      "Epoch 8/10: Loss=0.0384, Acc=0.9877, Val Loss=0.1021, Val Acc=0.9740\n",
      "Epoch 9/10: Loss=0.0313, Acc=0.9899, Val Loss=0.0929, Val Acc=0.9777\n",
      "Epoch 10/10: Loss=0.0317, Acc=0.9900, Val Loss=0.0899, Val Acc=0.9758\n",
      "Test Accuracy: 0.9775\n",
      "Test Accuracy for mnist_adam_relu_5_128_64: 97.75%\n"
     ]
    },
    {
     "data": {
      "image/png": "[encoded data removed]",
      "text/plain": [
       "<Figure size 576x432 with 2 Axes>"
      ]
     },
     "metadata": {
      "needs_background": "light"
     },
     "output_type": "display_data"
    },
    {
     "data": {
      "application/vnd.jupyter.widget-view+json": {
       "model_id": "e6b0cd8fcd224b50b51f06092b85e7fa",
       "version_major": 2,
       "version_minor": 0
      },
      "text/plain": [
       "VBox(children=(Label(value='0.025 MB of 0.025 MB uploaded\\r'), FloatProgress(value=1.0, max=1.0)))"
      ]
     },
     "metadata": {},
     "output_type": "display_data"
    },
    {
     "data": {
      "text/html": [
       "<style>\n",
       "    table.wandb td:nth-child(1) { padding: 0 10px; text-align: left ; width: auto;} td:nth-child(2) {text-align: left ; width: 100%}\n",
       "    .wandb-row { display: flex; flex-direction: row; flex-wrap: wrap; justify-content: flex-start; width: 100% }\n",
       "    .wandb-col { display: flex; flex-direction: column; flex-basis: 100%; flex: 1; padding: 10px; }\n",
       "    </style>\n",
       "<div class=\"wandb-row\"><div class=\"wandb-col\"><h3>Run history:</h3><br/><table class=\"wandb\"><tr><td>accuracy</td><td>▁▆▇▇▇█████</td></tr><tr><td>epoch</td><td>▁▂▃▃▄▅▆▆▇█</td></tr><tr><td>loss</td><td>█▃▂▂▂▁▁▁▁▁</td></tr><tr><td>val_accuracy</td><td>▁▃▆▇▇▇▆▇█▇</td></tr><tr><td>val_loss</td><td>█▆▂▁▂▂▃▃▁▁</td></tr></table><br/></div><div class=\"wandb-col\"><h3>Run summary:</h3><br/><table class=\"wandb\"><tr><td>accuracy</td><td>0.98999</td></tr><tr><td>epoch</td><td>10</td></tr><tr><td>loss</td><td>0.03171</td></tr><tr><td>val_accuracy</td><td>0.97583</td></tr><tr><td>val_loss</td><td>0.08993</td></tr></table><br/></div></div>"
      ],
      "text/plain": [
       "<IPython.core.display.HTML object>"
      ]
     },
     "metadata": {},
     "output_type": "display_data"
    },
    {
     "data": {
      "text/html": [
       " View run <strong style=\"color:#cdcd00\">mnist_adam_relu_5_128_64</strong> at: <a href='https://wandb.ai/da24m016-indian-institute-of-technology-madras/DL_Assignment_01/runs/nb8plx64' target=\"_blank\">https://wandb.ai/da24m016-indian-institute-of-technology-madras/DL_Assignment_01/runs/nb8plx64</a><br/>Synced 5 W&B file(s), 1 media file(s), 0 artifact file(s) and 0 other file(s)"
      ],
      "text/plain": [
       "<IPython.core.display.HTML object>"
      ]
     },
     "metadata": {},
     "output_type": "display_data"
    },
    {
     "data": {
      "text/html": [
       "Find logs at: <code>.\\wandb\\run-20250317_212414-nb8plx64\\logs</code>"
      ],
      "text/plain": [
       "<IPython.core.display.HTML object>"
      ]
     },
     "metadata": {},
     "output_type": "display_data"
    }
   ],
   "source": [
    "import wandb\n",
    "\n",
    "top_config_list = [\n",
    "    {\"run_name\": \"mnist_nadam_tanh_3_128_64\", \"optimizer\": \"nadam\", \"activation\": \"tanh\", \"num_layers\": 3, \"hidden_size\": 128, \"batch_size\": 64},\n",
    "    {\"run_name\": \"mnist_nadam_relu_3_128_64\", \"optimizer\": \"nadam\", \"activation\": \"relu\", \"num_layers\": 3, \"hidden_size\": 128, \"batch_size\": 64},\n",
    "    {\"run_name\": \"mnist_adam_relu_5_128_64\",  \"optimizer\": \"adam\",  \"activation\": \"relu\", \"num_layers\": 5, \"hidden_size\": 128, \"batch_size\": 64}\n",
    "]\n",
    "\n",
    "common_params = {\n",
    "    \"epochs\": 10,\n",
    "    \"learning_rate\": 0.001,\n",
    "    \"weight_decay\": 0.0005,\n",
    "    \"weight_init\": \"xavier\",\n",
    "    \"loss\": \"cross_entropy\",\n",
    "    \"momentum\": 0.9,\n",
    "    \"beta\": 0.9,\n",
    "    \"beta1\": 0.9,\n",
    "    \"beta2\": 0.999,\n",
    "    \"epsilon\": 1e-8\n",
    "}\n",
    "\n",
    "for cfg in top_config_list:\n",
    "    run_name = cfg[\"run_name\"]\n",
    "    wandb.init(project=\"DL_Assignment_01\", name=run_name)\n",
    "    config = wandb.config\n",
    "    \n",
    "    config.epochs = common_params[\"epochs\"]\n",
    "    config.learning_rate = common_params[\"learning_rate\"]\n",
    "    config.weight_decay = common_params[\"weight_decay\"]\n",
    "    config.weight_init = common_params[\"weight_init\"]\n",
    "    config.loss = common_params[\"loss\"]\n",
    "    config.momentum = common_params[\"momentum\"]\n",
    "    config.beta = common_params[\"beta\"]\n",
    "    config.beta1 = common_params[\"beta1\"]\n",
    "    config.beta2 = common_params[\"beta2\"]\n",
    "    config.epsilon = common_params[\"epsilon\"]\n",
    "    \n",
    " \n",
    "    config.batch_size = cfg[\"batch_size\"]\n",
    "    config.num_layers = cfg[\"num_layers\"]\n",
    "    config.hidden_size = cfg[\"hidden_size\"]\n",
    "    config.activation = cfg[\"activation\"]\n",
    "    config.optimizer = cfg[\"optimizer\"]\n",
    "    \n",
    "    print(\"Starting run:\", run_name)\n",
    "    \n",
    "    \n",
    "    X_train, y_train, X_val, y_val, X_test, y_test = load_data(\"mnist\")\n",
    "    input_size = X_train.shape[1]  # 28*28 = 784\n",
    "    output_size = 10               # 10 classes\n",
    "    hidden_sizes = [config.hidden_size] * config.num_layers\n",
    "    \n",
    "    \n",
    "    network = NeuralNetwork(input_size, hidden_sizes, output_size, \n",
    "                            activation=config.activation, \n",
    "                            weight_init=config.weight_init, \n",
    "                            loss_func=config.loss)\n",
    "    optimizer = Optimizer(network.params, config.optimizer, config.learning_rate,\n",
    "                          momentum=config.momentum, beta=config.beta,\n",
    "                          beta1=config.beta1, beta2=config.beta2,\n",
    "                          epsilon=config.epsilon, weight_decay=config.weight_decay)\n",
    "    \n",
    "    \n",
    "    network = train_model(network, optimizer, X_train, y_train, X_val, y_val, \n",
    "                          config.epochs, config.batch_size)\n",
    "    \n",
    "    \n",
    "    predictions, true_labels, test_acc = evaluate_model(network, X_test, y_test)\n",
    "    print(\"Test Accuracy for {}: {:.2f}%\".format(run_name, test_acc * 100))\n",
    "    \n",
    " \n",
    "    classes = [str(i) for i in range(10)]\n",
    "    plot_conf_matrix(true_labels, predictions, classes, title=\"Confusion Matrix - \" + run_name)\n",
    "    \n",
    "    wandb.finish()\n"
   ]
  },
  {
   "cell_type": "code",
   "execution_count": null,
   "metadata": {},
   "outputs": [
    {
     "data": {
      "text/html": [
       "Changes to your `wandb` environment variables will be ignored because your `wandb` session has already started. For more information on how to modify your settings with `wandb.init()` arguments, please refer to <a href='https://wandb.me/wandb-init' target=\"_blank\">the W&B docs</a>."
      ],
      "text/plain": [
       "<IPython.core.display.HTML object>"
      ]
     },
     "metadata": {},
     "output_type": "display_data"
    },
    {
     "data": {
      "text/html": [
       "Tracking run with wandb version 0.16.1"
      ],
      "text/plain": [
       "<IPython.core.display.HTML object>"
      ]
     },
     "metadata": {},
     "output_type": "display_data"
    },
    {
     "data": {
      "text/html": [
       "Run data is saved locally in <code>c:\\Users\\D. Sai Mani Kumar\\Downloads\\DL\\da6401_assignment1\\wandb\\run-20250308_032347-fzca4b8k</code>"
      ],
      "text/plain": [
       "<IPython.core.display.HTML object>"
      ]
     },
     "metadata": {},
     "output_type": "display_data"
    },
    {
     "data": {
      "text/html": [
       "Syncing run <strong><a href='https://wandb.ai/da24m016-indian-institute-of-technology-madras/DL_Assignment_01/runs/fzca4b8k' target=\"_blank\">wobbly-forest-2</a></strong> to <a href='https://wandb.ai/da24m016-indian-institute-of-technology-madras/DL_Assignment_01' target=\"_blank\">Weights & Biases</a> (<a href='https://wandb.me/run' target=\"_blank\">docs</a>)<br/>"
      ],
      "text/plain": [
       "<IPython.core.display.HTML object>"
      ]
     },
     "metadata": {},
     "output_type": "display_data"
    },
    {
     "data": {
      "text/html": [
       " View project at <a href='https://wandb.ai/da24m016-indian-institute-of-technology-madras/DL_Assignment_01' target=\"_blank\">https://wandb.ai/da24m016-indian-institute-of-technology-madras/DL_Assignment_01</a>"
      ],
      "text/plain": [
       "<IPython.core.display.HTML object>"
      ]
     },
     "metadata": {},
     "output_type": "display_data"
    },
    {
     "data": {
      "text/html": [
       " View run at <a href='https://wandb.ai/da24m016-indian-institute-of-technology-madras/DL_Assignment_01/runs/fzca4b8k' target=\"_blank\">https://wandb.ai/da24m016-indian-institute-of-technology-madras/DL_Assignment_01/runs/fzca4b8k</a>"
      ],
      "text/plain": [
       "<IPython.core.display.HTML object>"
      ]
     },
     "metadata": {},
     "output_type": "display_data"
    },
    {
     "name": "stdout",
     "output_type": "stream",
     "text": [
      "Downloading data from https://storage.googleapis.com/tensorflow/tf-keras-datasets/train-labels-idx1-ubyte.gz\n",
      "32768/29515 [=================================] - 0s 0us/step\n",
      "40960/29515 [=========================================] - 0s 0us/step\n",
      "Downloading data from https://storage.googleapis.com/tensorflow/tf-keras-datasets/train-images-idx3-ubyte.gz\n",
      "26427392/26421880 [==============================] - 4s 0us/step\n",
      "26435584/26421880 [==============================] - 4s 0us/step\n",
      "Downloading data from https://storage.googleapis.com/tensorflow/tf-keras-datasets/t10k-labels-idx1-ubyte.gz\n",
      "16384/5148 [===============================================================================================] - 0s 0s/step\n",
      "Downloading data from https://storage.googleapis.com/tensorflow/tf-keras-datasets/t10k-images-idx3-ubyte.gz\n",
      "4423680/4422102 [==============================] - 1s 0us/step\n",
      "4431872/4422102 [==============================] - 1s 0us/step\n",
      "Epoch 1/5: Loss=0.5225, Acc=0.8129, Val Loss=0.4337, Val Acc=0.8410\n",
      "Epoch 2/5: Loss=0.3862, Acc=0.8597, Val Loss=0.3725, Val Acc=0.8660\n",
      "Epoch 3/5: Loss=0.3447, Acc=0.8743, Val Loss=0.3380, Val Acc=0.8752\n",
      "Epoch 4/5: Loss=0.3256, Acc=0.8800, Val Loss=0.3471, Val Acc=0.8682\n",
      "Epoch 5/5: Loss=0.3100, Acc=0.8853, Val Loss=0.3504, Val Acc=0.8748\n",
      "Test Accuracy: 0.8663\n"
     ]
    },
    {
     "data": {
      "image/png": "[encoded data removed]",
      "text/plain": [
       "<Figure size 576x432 with 2 Axes>"
      ]
     },
     "metadata": {
      "needs_background": "light"
     },
     "output_type": "display_data"
    },
    {
     "name": "stderr",
     "output_type": "stream",
     "text": [
      "\u001b[34m\u001b[1mwandb\u001b[0m: \u001b[32m\u001b[41mERROR\u001b[0m Control-C detected -- Run data was not synced\n"
     ]
    }
   ],
   "source": [
    "import wandb\n",
    "\n",
    "# Initialize a new Wandb run\n",
    "wandb.init(project=\"DL_Assignment_01\")\n",
    "config = wandb.config\n",
    "config.learning_rate = 0.001\n",
    "config.batch_size = 32\n",
    "config.epochs = 5\n",
    "config.num_layers = 2      # Example: 2 hidden layers\n",
    "config.hidden_size = 64    # Example: 64 neurons per hidden layer\n",
    "config.activation = \"relu\"\n",
    "config.weight_init = \"xavier\"\n",
    "config.loss = \"cross_entropy\"\n",
    "config.optimizer = \"adam\"  # Options: sgd, momentum, nag, rmsprop, adam, nadam\n",
    "config.momentum = 0.9\n",
    "config.beta = 0.9\n",
    "config.beta1 = 0.9\n",
    "config.beta2 = 0.999\n",
    "config.epsilon = 1e-8\n",
    "config.weight_decay = 0.0001\n",
    "\n",
    "# Load and preprocess data\n",
    "X_train, y_train, X_val, y_val, X_test, y_test = load_data(\"fashion_mnist\")\n",
    "input_size = X_train.shape[1]\n",
    "output_size = 10  # 10 classes\n",
    "hidden_sizes = [config.hidden_size] * config.num_layers\n",
    "\n",
    "# Initialize the Neural Network and Optimizer\n",
    "network = NeuralNetwork(input_size, hidden_sizes, output_size, config.activation, config.weight_init, config.loss)\n",
    "optimizer = Optimizer(network.params, config.optimizer, config.learning_rate,\n",
    "                      momentum=config.momentum, beta=config.beta,\n",
    "                      beta1=config.beta1, beta2=config.beta2,\n",
    "                      epsilon=config.epsilon, weight_decay=config.weight_decay)\n",
    "\n",
    "# Train the model\n",
    "network = train_model(network, optimizer, X_train, y_train, X_val, y_val, config.epochs, config.batch_size)\n",
    "\n",
    "# Evaluate the model on the test set\n",
    "predictions, true_labels, test_acc = evaluate_model(network, X_test, y_test)\n",
    "\n",
    "# Plot the confusion matrix\n",
    "classes = [str(i) for i in range(10)]\n",
    "plot_conf_matrix(true_labels, predictions, classes)\n",
    "\n",
    "# Finish the Wandb run\n",
    "wandb.finish()\n"
   ]
  },
  {
   "cell_type": "code",
   "execution_count": 1,
   "metadata": {},
   "outputs": [
    {
     "name": "stderr",
     "output_type": "stream",
     "text": [
      "Failed to detect the name of this notebook, you can set it manually with the WANDB_NOTEBOOK_NAME environment variable to enable code saving.\n"
     ]
    },
    {
     "name": "stdout",
     "output_type": "stream",
     "text": [
      "Create sweep with ID: 9f34spkv\n",
      "Sweep URL: https://wandb.ai/da24m016-indian-institute-of-technology-madras/DL_Assignment_01/sweeps/9f34spkv\n",
      "Sweep ID: 9f34spkv\n"
     ]
    }
   ],
   "source": [
    "import wandb\n",
    "\n",
    "sweep_config = {\n",
    "    \"method\": \"grid\",  # Use grid search over the refined hyperparameter space\n",
    "    \"name\": \"grid_top20_best\",\n",
    "    \"metric\": {\n",
    "         \"name\": \"val_accuracy\",\n",
    "         \"goal\": \"maximize\"\n",
    "    },\n",
    "    \"parameters\": {\n",
    "         \"epochs\": {\"values\": [10]},                     # Fixed to 5 epochs\n",
    "         \"hidden_layers\": {\"values\": [3, 4, 5]},          # Based on top 20 runs\n",
    "         \"hidden_layer_size\": {\"values\": [128, 64, 32]},  # Based on top 20 runs\n",
    "         \"batch_size\": {\"values\": [64, 32, 16]},          # Based on top 20 runs\n",
    "         \"learning_rate\": {\"values\": [0.001]},            # Fixed\n",
    "         \"optimiser\": {\"values\": [\"nadam\", \"adam\"]},      # Top performers\n",
    "         \"weight_init\": {\"values\": [\"xavier\"]},           # Fixed\n",
    "         \"activation\": {\"values\": [\"tanh\", \"relu\"]},        # Top choices\n",
    "         \"weight_decay\": {\"values\": [0.0005]}             # Fixed\n",
    "    }\n",
    "}\n",
    "\n",
    "grid_sweep_id = wandb.sweep(sweep_config, project=\"DL_Assignment_01\")\n",
    "print(\"Sweep ID:\", grid_sweep_id)\n"
   ]
  },
  {
   "cell_type": "code",
   "execution_count": 8,
   "metadata": {},
   "outputs": [],
   "source": [
    "def sweep_train():\n",
    "    # Initialize a new run; configuration values are pulled from the sweep config.\n",
    "    run = wandb.init()\n",
    "    config = wandb.config\n",
    "\n",
    "    # Set the run name based on the sweep configuration.\n",
    "    # Note: Keys must match those in the sweep configuration.\n",
    "    run_name = f\"{config.optimiser}_{config.activation}_{config.hidden_layers}_{config.hidden_layer_size}_{config.batch_size}\"\n",
    "    wandb.run.name = run_name\n",
    "    print(\"Run Name:\", run_name)\n",
    "    \n",
    "    # --- Data Loading & Preprocessing ---\n",
    "    from keras.datasets import fashion_mnist\n",
    "    (X_train, y_train), (X_test, y_test) = fashion_mnist.load_data()\n",
    "    \n",
    "    # Normalize and reshape images\n",
    "    X_train = X_train.reshape(X_train.shape[0], -1) / 255.0\n",
    "    X_test = X_test.reshape(X_test.shape[0], -1) / 255.0\n",
    "    num_classes = 10\n",
    "    y_train = np.eye(num_classes)[y_train]\n",
    "    y_test = np.eye(num_classes)[y_test]\n",
    "    \n",
    "    # Split training data: 90% train, 10% validation\n",
    "    split_index = int(0.9 * X_train.shape[0])\n",
    "    X_val = X_train[split_index:]\n",
    "    y_val = y_train[split_index:]\n",
    "    X_train = X_train[:split_index]\n",
    "    y_train = y_train[:split_index]\n",
    "    \n",
    "    input_size = X_train.shape[1]  # 784 for 28x28 images\n",
    "    output_size = num_classes\n",
    "    \n",
    "    # Create a list of hidden layer sizes\n",
    "    hidden_sizes = [config.hidden_layer_size] * config.hidden_layers\n",
    "\n",
    "    # --- Model & Optimizer Initialization ---\n",
    "    # Assuming NeuralNetwork and Optimizer classes have been defined in previous cells.\n",
    "    model = NeuralNetwork(input_size, hidden_sizes, output_size, \n",
    "                          activation=config.activation, \n",
    "                          weight_init=config.weight_init, \n",
    "                          loss_func=\"cross_entropy\")\n",
    "    \n",
    "    optimizer = Optimizer(model.params, config.optimiser, config.learning_rate,\n",
    "                          momentum=0.9, beta=0.9, beta1=0.9, beta2=0.999,\n",
    "                          epsilon=1e-8, weight_decay=config.weight_decay)\n",
    "    \n",
    "    # --- Training ---\n",
    "    # Assuming train_model is a function that trains the model and logs per-epoch metrics.\n",
    "    model = train_model(model, optimizer, X_train, y_train, X_val, y_val, \n",
    "                        epochs=config.epochs, batch_size=config.batch_size)\n",
    "    \n",
    "    # --- Evaluation on Validation Set ---\n",
    "    y_val_pred, _ = model.forward(X_val)\n",
    "    val_loss = model.compute_loss(y_val_pred, y_val)\n",
    "    predictions_val = np.argmax(y_val_pred, axis=1)\n",
    "    true_labels_val = np.argmax(y_val, axis=1)\n",
    "    val_acc = np.mean(predictions_val == true_labels_val)\n",
    "    \n",
    "    # Log final validation metrics\n",
    "    wandb.log({\n",
    "        \"final_val_loss\": val_loss,\n",
    "        \"final_val_accuracy\": val_acc\n",
    "    })\n",
    "    \n",
    "    run.finish()\n"
   ]
  },
  {
   "cell_type": "code",
   "execution_count": null,
   "metadata": {},
   "outputs": [],
   "source": [
    "wandb.agent(grid_sweep_id, function=sweep_train, count=108)\n",
    "print(\"Sweep Grid completed!\")"
   ]
  }
 ],
 "metadata": {
  "kernelspec": {
   "display_name": "Python 3",
   "language": "python",
   "name": "python3"
  },
  "language_info": {
   "codemirror_mode": {
    "name": "ipython",
    "version": 3
   },
   "file_extension": ".py",
   "mimetype": "text/x-python",
   "name": "python",
   "nbconvert_exporter": "python",
   "pygments_lexer": "ipython3",
   "version": "3.9.5"
  }
 },
 "nbformat": 4,
 "nbformat_minor": 2
}
